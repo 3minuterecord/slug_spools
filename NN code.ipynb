{
 "cells": [
  {
   "cell_type": "code",
   "execution_count": 1,
   "metadata": {},
   "outputs": [],
   "source": [
    "import pandas as pd\n",
    "import numpy as np\n",
    "from tensorflow.keras.models import Sequential\n",
    "from tensorflow.keras.layers import Dense, Dropout\n",
    "from tensorflow.keras.layers import LayerNormalization\n",
    "from tensorflow.keras.optimizers import RMSprop\n",
    "from sklearn.model_selection import KFold\n",
    "from sklearn import preprocessing, metrics"
   ]
  },
  {
   "cell_type": "code",
   "execution_count": 1,
   "metadata": {},
   "outputs": [
    {
     "ename": "NameError",
     "evalue": "name 'pd' is not defined",
     "output_type": "error",
     "traceback": [
      "\u001b[1;31m---------------------------------------------------------------------------\u001b[0m",
      "\u001b[1;31mNameError\u001b[0m                                 Traceback (most recent call last)",
      "\u001b[1;32m<ipython-input-1-398332764ea7>\u001b[0m in \u001b[0;36m<module>\u001b[1;34m\u001b[0m\n\u001b[1;32m----> 1\u001b[1;33m \u001b[0mslug\u001b[0m \u001b[1;33m=\u001b[0m \u001b[0mpd\u001b[0m\u001b[1;33m.\u001b[0m\u001b[0mread_csv\u001b[0m\u001b[1;33m(\u001b[0m\u001b[1;34m\"/data/220306_slugs_dataset.csv\"\u001b[0m\u001b[1;33m)\u001b[0m\u001b[1;33m\u001b[0m\u001b[1;33m\u001b[0m\u001b[0m\n\u001b[0m",
      "\u001b[1;31mNameError\u001b[0m: name 'pd' is not defined"
     ]
    }
   ],
   "source": [
    "slug = pd.read_csv(\"220306_slugs_dataset.csv\")"
   ]
  },
  {
   "cell_type": "code",
   "execution_count": 3,
   "metadata": {},
   "outputs": [
    {
     "data": {
      "text/html": [
       "<div>\n",
       "<style scoped>\n",
       "    .dataframe tbody tr th:only-of-type {\n",
       "        vertical-align: middle;\n",
       "    }\n",
       "\n",
       "    .dataframe tbody tr th {\n",
       "        vertical-align: top;\n",
       "    }\n",
       "\n",
       "    .dataframe thead th {\n",
       "        text-align: right;\n",
       "    }\n",
       "</style>\n",
       "<table border=\"1\" class=\"dataframe\">\n",
       "  <thead>\n",
       "    <tr style=\"text-align: right;\">\n",
       "      <th></th>\n",
       "      <th>loadCase</th>\n",
       "      <th>slugDen</th>\n",
       "      <th>slugLen</th>\n",
       "      <th>pockDen</th>\n",
       "      <th>pockLen</th>\n",
       "      <th>slugVel</th>\n",
       "      <th>basePer</th>\n",
       "      <th>baseAmp</th>\n",
       "      <th>basePha</th>\n",
       "      <th>simTime</th>\n",
       "      <th>out_oopDisp_mm_n2</th>\n",
       "      <th>out_supReac_kN_n3</th>\n",
       "      <th>out_supReac_kN_n4</th>\n",
       "      <th>out_verDisp_mm_n5</th>\n",
       "      <th>out_oopDisp_mm_n5</th>\n",
       "      <th>out_endBend_kNm_n6</th>\n",
       "    </tr>\n",
       "  </thead>\n",
       "  <tbody>\n",
       "    <tr>\n",
       "      <th>0</th>\n",
       "      <td>00001_sd786_sl6_pd234_pl10_sv6_bp13_ba850_bp74</td>\n",
       "      <td>785.67</td>\n",
       "      <td>6.47</td>\n",
       "      <td>234.16</td>\n",
       "      <td>10.06</td>\n",
       "      <td>5.77</td>\n",
       "      <td>12.55</td>\n",
       "      <td>0.85</td>\n",
       "      <td>74.10</td>\n",
       "      <td>45.8</td>\n",
       "      <td>197.45</td>\n",
       "      <td>16.22</td>\n",
       "      <td>56.42</td>\n",
       "      <td>248.24</td>\n",
       "      <td>180.47</td>\n",
       "      <td>198.49</td>\n",
       "    </tr>\n",
       "    <tr>\n",
       "      <th>1</th>\n",
       "      <td>00002_sd705_sl10_pd190_pl11_sv7_bp12_ba800_bp59</td>\n",
       "      <td>705.03</td>\n",
       "      <td>10.36</td>\n",
       "      <td>190.44</td>\n",
       "      <td>11.25</td>\n",
       "      <td>7.42</td>\n",
       "      <td>11.63</td>\n",
       "      <td>0.80</td>\n",
       "      <td>59.11</td>\n",
       "      <td>44.0</td>\n",
       "      <td>186.85</td>\n",
       "      <td>15.97</td>\n",
       "      <td>58.86</td>\n",
       "      <td>262.33</td>\n",
       "      <td>178.72</td>\n",
       "      <td>238.07</td>\n",
       "    </tr>\n",
       "    <tr>\n",
       "      <th>2</th>\n",
       "      <td>00003_sd742_sl12_pd159_pl13_sv7_bp12_ba650_bp65</td>\n",
       "      <td>741.98</td>\n",
       "      <td>11.64</td>\n",
       "      <td>159.09</td>\n",
       "      <td>12.52</td>\n",
       "      <td>7.42</td>\n",
       "      <td>11.54</td>\n",
       "      <td>0.65</td>\n",
       "      <td>65.23</td>\n",
       "      <td>48.2</td>\n",
       "      <td>155.47</td>\n",
       "      <td>14.29</td>\n",
       "      <td>48.63</td>\n",
       "      <td>220.89</td>\n",
       "      <td>163.53</td>\n",
       "      <td>180.64</td>\n",
       "    </tr>\n",
       "    <tr>\n",
       "      <th>3</th>\n",
       "      <td>00004_sd732_sl9_pd168_pl10_sv10_bp11_ba670_bp68</td>\n",
       "      <td>731.88</td>\n",
       "      <td>8.82</td>\n",
       "      <td>167.88</td>\n",
       "      <td>9.84</td>\n",
       "      <td>9.52</td>\n",
       "      <td>11.48</td>\n",
       "      <td>0.67</td>\n",
       "      <td>67.85</td>\n",
       "      <td>30.8</td>\n",
       "      <td>169.47</td>\n",
       "      <td>15.18</td>\n",
       "      <td>48.72</td>\n",
       "      <td>188.47</td>\n",
       "      <td>163.76</td>\n",
       "      <td>233.31</td>\n",
       "    </tr>\n",
       "    <tr>\n",
       "      <th>4</th>\n",
       "      <td>00005_sd669_sl11_pd214_pl9_sv8_bp13_ba810_bp57</td>\n",
       "      <td>669.21</td>\n",
       "      <td>11.46</td>\n",
       "      <td>213.87</td>\n",
       "      <td>8.56</td>\n",
       "      <td>8.18</td>\n",
       "      <td>12.86</td>\n",
       "      <td>0.81</td>\n",
       "      <td>56.68</td>\n",
       "      <td>37.7</td>\n",
       "      <td>223.64</td>\n",
       "      <td>16.90</td>\n",
       "      <td>58.51</td>\n",
       "      <td>271.74</td>\n",
       "      <td>242.37</td>\n",
       "      <td>219.33</td>\n",
       "    </tr>\n",
       "  </tbody>\n",
       "</table>\n",
       "</div>"
      ],
      "text/plain": [
       "                                          loadCase  slugDen  slugLen  pockDen  \\\n",
       "0   00001_sd786_sl6_pd234_pl10_sv6_bp13_ba850_bp74   785.67     6.47   234.16   \n",
       "1  00002_sd705_sl10_pd190_pl11_sv7_bp12_ba800_bp59   705.03    10.36   190.44   \n",
       "2  00003_sd742_sl12_pd159_pl13_sv7_bp12_ba650_bp65   741.98    11.64   159.09   \n",
       "3  00004_sd732_sl9_pd168_pl10_sv10_bp11_ba670_bp68   731.88     8.82   167.88   \n",
       "4   00005_sd669_sl11_pd214_pl9_sv8_bp13_ba810_bp57   669.21    11.46   213.87   \n",
       "\n",
       "   pockLen  slugVel  basePer  baseAmp  basePha  simTime  out_oopDisp_mm_n2  \\\n",
       "0    10.06     5.77    12.55     0.85    74.10     45.8             197.45   \n",
       "1    11.25     7.42    11.63     0.80    59.11     44.0             186.85   \n",
       "2    12.52     7.42    11.54     0.65    65.23     48.2             155.47   \n",
       "3     9.84     9.52    11.48     0.67    67.85     30.8             169.47   \n",
       "4     8.56     8.18    12.86     0.81    56.68     37.7             223.64   \n",
       "\n",
       "   out_supReac_kN_n3  out_supReac_kN_n4  out_verDisp_mm_n5  out_oopDisp_mm_n5  \\\n",
       "0              16.22              56.42             248.24             180.47   \n",
       "1              15.97              58.86             262.33             178.72   \n",
       "2              14.29              48.63             220.89             163.53   \n",
       "3              15.18              48.72             188.47             163.76   \n",
       "4              16.90              58.51             271.74             242.37   \n",
       "\n",
       "   out_endBend_kNm_n6  \n",
       "0              198.49  \n",
       "1              238.07  \n",
       "2              180.64  \n",
       "3              233.31  \n",
       "4              219.33  "
      ]
     },
     "execution_count": 3,
     "metadata": {},
     "output_type": "execute_result"
    }
   ],
   "source": [
    "slug.head()"
   ]
  },
  {
   "cell_type": "code",
   "execution_count": 4,
   "metadata": {},
   "outputs": [],
   "source": [
    "slug = slug.dropna()"
   ]
  },
  {
   "cell_type": "code",
   "execution_count": 5,
   "metadata": {},
   "outputs": [],
   "source": [
    "#Shuffle the dataset\n",
    "slug = slug.sample(frac=1).reset_index(drop=True)"
   ]
  },
  {
   "cell_type": "code",
   "execution_count": 6,
   "metadata": {},
   "outputs": [
    {
     "name": "stderr",
     "output_type": "stream",
     "text": [
      "C:\\Users\\mania\\Anaconda3\\lib\\site-packages\\ipykernel_launcher.py:5: SettingWithCopyWarning: \n",
      "A value is trying to be set on a copy of a slice from a DataFrame.\n",
      "Try using .loc[row_indexer,col_indexer] = value instead\n",
      "\n",
      "See the caveats in the documentation: https://pandas.pydata.org/pandas-docs/stable/user_guide/indexing.html#returning-a-view-versus-a-copy\n",
      "  \"\"\"\n",
      "C:\\Users\\mania\\Anaconda3\\lib\\site-packages\\ipykernel_launcher.py:6: SettingWithCopyWarning: \n",
      "A value is trying to be set on a copy of a slice from a DataFrame.\n",
      "Try using .loc[row_indexer,col_indexer] = value instead\n",
      "\n",
      "See the caveats in the documentation: https://pandas.pydata.org/pandas-docs/stable/user_guide/indexing.html#returning-a-view-versus-a-copy\n",
      "  \n"
     ]
    }
   ],
   "source": [
    "#Select columns\n",
    "slug_df = slug[[\"slugDen\",\"slugLen\",\"pockDen\",\"pockLen\",\"slugVel\",\"basePer\", \"baseAmp\", \"basePha\"]]\n",
    "\n",
    "#Create new features\n",
    "slug_df['densDiff'] = slug_df['slugDen'] - slug_df['pockDen']\n",
    "slug_df['centrFor'] = slug_df['slugVel']**2 * slug_df['densDiff']"
   ]
  },
  {
   "cell_type": "code",
   "execution_count": 7,
   "metadata": {},
   "outputs": [],
   "source": [
    "scaler = preprocessing.StandardScaler()\n",
    "scaler = scaler.fit(slug_df)"
   ]
  },
  {
   "cell_type": "code",
   "execution_count": 8,
   "metadata": {},
   "outputs": [],
   "source": [
    "#Create Targets\n",
    "slug_tar = slug[[\"out_oopDisp_mm_n2\", \"out_oopDisp_mm_n5\", \"out_endBend_kNm_n6\"]]"
   ]
  },
  {
   "cell_type": "code",
   "execution_count": 9,
   "metadata": {},
   "outputs": [
    {
     "data": {
      "text/html": [
       "<div>\n",
       "<style scoped>\n",
       "    .dataframe tbody tr th:only-of-type {\n",
       "        vertical-align: middle;\n",
       "    }\n",
       "\n",
       "    .dataframe tbody tr th {\n",
       "        vertical-align: top;\n",
       "    }\n",
       "\n",
       "    .dataframe thead th {\n",
       "        text-align: right;\n",
       "    }\n",
       "</style>\n",
       "<table border=\"1\" class=\"dataframe\">\n",
       "  <thead>\n",
       "    <tr style=\"text-align: right;\">\n",
       "      <th></th>\n",
       "      <th>out_oopDisp_mm_n2</th>\n",
       "      <th>out_oopDisp_mm_n5</th>\n",
       "      <th>out_endBend_kNm_n6</th>\n",
       "    </tr>\n",
       "  </thead>\n",
       "  <tbody>\n",
       "    <tr>\n",
       "      <th>0</th>\n",
       "      <td>165.72</td>\n",
       "      <td>173.47</td>\n",
       "      <td>217.89</td>\n",
       "    </tr>\n",
       "    <tr>\n",
       "      <th>1</th>\n",
       "      <td>183.48</td>\n",
       "      <td>209.82</td>\n",
       "      <td>304.90</td>\n",
       "    </tr>\n",
       "    <tr>\n",
       "      <th>2</th>\n",
       "      <td>171.02</td>\n",
       "      <td>155.02</td>\n",
       "      <td>148.29</td>\n",
       "    </tr>\n",
       "    <tr>\n",
       "      <th>3</th>\n",
       "      <td>215.69</td>\n",
       "      <td>229.76</td>\n",
       "      <td>276.82</td>\n",
       "    </tr>\n",
       "    <tr>\n",
       "      <th>4</th>\n",
       "      <td>197.09</td>\n",
       "      <td>195.00</td>\n",
       "      <td>241.16</td>\n",
       "    </tr>\n",
       "  </tbody>\n",
       "</table>\n",
       "</div>"
      ],
      "text/plain": [
       "   out_oopDisp_mm_n2  out_oopDisp_mm_n5  out_endBend_kNm_n6\n",
       "0             165.72             173.47              217.89\n",
       "1             183.48             209.82              304.90\n",
       "2             171.02             155.02              148.29\n",
       "3             215.69             229.76              276.82\n",
       "4             197.09             195.00              241.16"
      ]
     },
     "execution_count": 9,
     "metadata": {},
     "output_type": "execute_result"
    }
   ],
   "source": [
    "slug_tar.head()"
   ]
  },
  {
   "cell_type": "code",
   "execution_count": 10,
   "metadata": {},
   "outputs": [],
   "source": [
    "#Scale independent variables\n",
    "slug_train_df = np.array(scaler.transform(slug_df))"
   ]
  },
  {
   "cell_type": "code",
   "execution_count": 11,
   "metadata": {},
   "outputs": [],
   "source": [
    "#First 40,000 used to train model, test on remainder\n",
    "train_df = np.array(scaler.transform(slug_df[:40000]))\n",
    "train_tar = np.array(slug_tar[:40000])\n",
    "test_df = np.array(scaler.transform(slug_df[40000:]))\n",
    "test_tar = np.array(slug_tar[40000:])"
   ]
  },
  {
   "cell_type": "code",
   "execution_count": 12,
   "metadata": {},
   "outputs": [],
   "source": [
    "def get_model(n_inputs, n_outputs):\n",
    "    model = Sequential()\n",
    "    model.add(Dense(256, input_dim=n_inputs, activation='relu'))\n",
    "    model.add(Dropout(.4))\n",
    "    model.add(Dense(512, activation='relu'))\n",
    "    \n",
    "    #model.add(Dense(1024, activation='relu'))\n",
    "    \n",
    "    model.add(Dense(1024, activation='relu'))\n",
    "\n",
    "    model.add(Dense(512, activation='relu'))\n",
    "    \n",
    "    model.add(Dense(n_outputs, activation='linear'))\n",
    "    model.compile(loss='mean_squared_error', optimizer=RMSprop(lr=0.01, clipnorm=1.), metrics=['mean_squared_error'])\n",
    "    #model.compile(loss='mean_squared_error', optimizer='adam', metrics=['mean_squared_error'])\n",
    "    return model"
   ]
  },
  {
   "cell_type": "code",
   "execution_count": 13,
   "metadata": {},
   "outputs": [],
   "source": [
    "n_inputs, n_outputs = train_df.shape[1], train_tar.shape[1]"
   ]
  },
  {
   "cell_type": "code",
   "execution_count": 14,
   "metadata": {},
   "outputs": [],
   "source": [
    "model = get_model(n_inputs, n_outputs)"
   ]
  },
  {
   "cell_type": "code",
   "execution_count": 15,
   "metadata": {},
   "outputs": [
    {
     "name": "stdout",
     "output_type": "stream",
     "text": [
      "Train on 49975 samples\n",
      "Epoch 1/20\n",
      "49975/49975 [==============================] - 8s 151us/sample - loss: 1941.6779 - mean_squared_error: 1941.6733\n",
      "Epoch 2/20\n",
      "49975/49975 [==============================] - 7s 141us/sample - loss: 747.7297 - mean_squared_error: 747.7295\n",
      "Epoch 3/20\n",
      "49975/49975 [==============================] - 7s 142us/sample - loss: 645.1292 - mean_squared_error: 645.1297\n",
      "Epoch 4/20\n",
      "49975/49975 [==============================] - 7s 142us/sample - loss: 600.7610 - mean_squared_error: 600.7610\n",
      "Epoch 5/20\n",
      "49975/49975 [==============================] - 7s 142us/sample - loss: 578.6922 - mean_squared_error: 578.6924\n",
      "Epoch 6/20\n",
      "49975/49975 [==============================] - 7s 142us/sample - loss: 544.2664 - mean_squared_error: 544.2667\n",
      "Epoch 7/20\n",
      "49975/49975 [==============================] - 7s 142us/sample - loss: 539.5938 - mean_squared_error: 539.5941\n",
      "Epoch 8/20\n",
      "49975/49975 [==============================] - 7s 142us/sample - loss: 516.3435 - mean_squared_error: 516.3438\n",
      "Epoch 9/20\n",
      "49975/49975 [==============================] - 7s 142us/sample - loss: 518.4842 - mean_squared_error: 518.4849\n",
      "Epoch 10/20\n",
      "49975/49975 [==============================] - 7s 144us/sample - loss: 501.6298 - mean_squared_error: 501.6293\n",
      "Epoch 11/20\n",
      "49975/49975 [==============================] - 7s 142us/sample - loss: 498.1005 - mean_squared_error: 498.1005\n",
      "Epoch 12/20\n",
      "49975/49975 [==============================] - 7s 140us/sample - loss: 497.5453 - mean_squared_error: 497.5461\n",
      "Epoch 13/20\n",
      "49975/49975 [==============================] - 7s 140us/sample - loss: 491.1631 - mean_squared_error: 491.1633\n",
      "Epoch 14/20\n",
      "49975/49975 [==============================] - 7s 141us/sample - loss: 493.3869 - mean_squared_error: 493.3874\n",
      "Epoch 15/20\n",
      "49975/49975 [==============================] - 7s 141us/sample - loss: 481.0585 - mean_squared_error: 481.0586\n",
      "Epoch 16/20\n",
      "49975/49975 [==============================] - 7s 142us/sample - loss: 476.0689 - mean_squared_error: 476.0687\n",
      "Epoch 17/20\n",
      "49975/49975 [==============================] - 7s 142us/sample - loss: 486.4913 - mean_squared_error: 486.4911\n",
      "Epoch 18/20\n",
      "49975/49975 [==============================] - 7s 143us/sample - loss: 472.1186 - mean_squared_error: 472.1191\n",
      "Epoch 19/20\n",
      "49975/49975 [==============================] - 7s 142us/sample - loss: 475.3093 - mean_squared_error: 475.3087\n",
      "Epoch 20/20\n",
      "49975/49975 [==============================] - 7s 141us/sample - loss: 474.2659 - mean_squared_error: 474.2659\n"
     ]
    },
    {
     "data": {
      "text/plain": [
       "<tensorflow.python.keras.callbacks.History at 0x20a13470c48>"
      ]
     },
     "execution_count": 15,
     "metadata": {},
     "output_type": "execute_result"
    }
   ],
   "source": [
    "model.fit(slug_train_df, slug_tar.values, epochs=20, batch_size=20)"
   ]
  },
  {
   "cell_type": "code",
   "execution_count": null,
   "metadata": {},
   "outputs": [],
   "source": []
  },
  {
   "cell_type": "code",
   "execution_count": 16,
   "metadata": {},
   "outputs": [],
   "source": [
    "#Use model to make predictions for test set\n",
    "preds = model.predict(test_df)"
   ]
  },
  {
   "cell_type": "code",
   "execution_count": 17,
   "metadata": {},
   "outputs": [
    {
     "data": {
      "text/plain": [
       "array([[189.7469 , 199.37271, 208.18307],\n",
       "       [154.96716, 147.26416, 171.42924],\n",
       "       [259.12854, 277.01154, 323.70425],\n",
       "       ...,\n",
       "       [186.21307, 179.67941, 252.92368],\n",
       "       [202.6653 , 190.1566 , 315.26868],\n",
       "       [180.29456, 184.0963 , 271.7378 ]], dtype=float32)"
      ]
     },
     "execution_count": 17,
     "metadata": {},
     "output_type": "execute_result"
    }
   ],
   "source": [
    "preds"
   ]
  },
  {
   "cell_type": "code",
   "execution_count": 18,
   "metadata": {},
   "outputs": [
    {
     "data": {
      "text/plain": [
       "array([[200.62, 231.98, 185.62],\n",
       "       [146.85, 130.01, 181.98],\n",
       "       [284.99, 335.37, 332.78],\n",
       "       ...,\n",
       "       [180.33, 177.57, 238.21],\n",
       "       [206.89, 198.41, 322.11],\n",
       "       [174.95, 184.36, 232.7 ]])"
      ]
     },
     "execution_count": 18,
     "metadata": {},
     "output_type": "execute_result"
    }
   ],
   "source": [
    "test_tar"
   ]
  },
  {
   "cell_type": "code",
   "execution_count": null,
   "metadata": {},
   "outputs": [],
   "source": []
  },
  {
   "cell_type": "code",
   "execution_count": 19,
   "metadata": {},
   "outputs": [],
   "source": [
    "mae = metrics.mean_absolute_error(test_tar, preds)\n",
    "mse = metrics.mean_squared_error(test_tar, preds)\n",
    "rmse = np.sqrt(mse) # or mse**(0.5)  \n",
    "r2 = metrics.r2_score(test_tar, preds)"
   ]
  },
  {
   "cell_type": "code",
   "execution_count": 20,
   "metadata": {},
   "outputs": [
    {
     "name": "stdout",
     "output_type": "stream",
     "text": [
      "MAE: 13.46\n",
      "MSE: 367.51\n",
      "RMSE: 19.17\n",
      "R-Squared: 0.83\n"
     ]
    }
   ],
   "source": [
    "print(\"MAE:\", round(mae, 2))\n",
    "print(\"MSE:\", round(mse, 2))\n",
    "print(\"RMSE:\", round(rmse, 2))\n",
    "print(\"R-Squared:\", round(r2, 2))"
   ]
  },
  {
   "cell_type": "code",
   "execution_count": null,
   "metadata": {},
   "outputs": [],
   "source": []
  },
  {
   "cell_type": "code",
   "execution_count": null,
   "metadata": {},
   "outputs": [],
   "source": [
    "#Without new features\n",
    "MAE: 15.33\n",
    "MSE: 502.25\n",
    "RMSE: 22.41\n",
    "R-Squared: 0.73"
   ]
  }
 ],
 "metadata": {
  "kernelspec": {
   "display_name": "Python 3",
   "language": "python",
   "name": "python3"
  },
  "language_info": {
   "codemirror_mode": {
    "name": "ipython",
    "version": 3
   },
   "file_extension": ".py",
   "mimetype": "text/x-python",
   "name": "python",
   "nbconvert_exporter": "python",
   "pygments_lexer": "ipython3",
   "version": "3.8.8"
  }
 },
 "nbformat": 4,
 "nbformat_minor": 2
}
