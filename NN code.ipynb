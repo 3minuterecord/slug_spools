{
 "cells": [
  {
   "cell_type": "code",
   "execution_count": 1,
   "metadata": {},
   "outputs": [],
   "source": [
    "import pandas as pd\n",
    "import numpy as np\n",
    "from tensorflow.keras.models import Sequential\n",
    "from tensorflow.keras.layers import Dense, Dropout\n",
    "from tensorflow.keras.layers import LayerNormalization\n",
    "from tensorflow.keras.optimizers import RMSprop\n",
    "from sklearn.model_selection import KFold\n",
    "from sklearn import preprocessing"
   ]
  },
  {
   "cell_type": "code",
   "execution_count": 2,
   "metadata": {},
   "outputs": [],
   "source": [
    "slug = pd.read_csv(\"220306_slugs_dataset.csv\")"
   ]
  },
  {
   "cell_type": "code",
   "execution_count": 3,
   "metadata": {},
   "outputs": [
    {
     "data": {
      "text/html": [
       "<div>\n",
       "<style scoped>\n",
       "    .dataframe tbody tr th:only-of-type {\n",
       "        vertical-align: middle;\n",
       "    }\n",
       "\n",
       "    .dataframe tbody tr th {\n",
       "        vertical-align: top;\n",
       "    }\n",
       "\n",
       "    .dataframe thead th {\n",
       "        text-align: right;\n",
       "    }\n",
       "</style>\n",
       "<table border=\"1\" class=\"dataframe\">\n",
       "  <thead>\n",
       "    <tr style=\"text-align: right;\">\n",
       "      <th></th>\n",
       "      <th>loadCase</th>\n",
       "      <th>slugDen</th>\n",
       "      <th>slugLen</th>\n",
       "      <th>pockDen</th>\n",
       "      <th>pockLen</th>\n",
       "      <th>slugVel</th>\n",
       "      <th>basePer</th>\n",
       "      <th>baseAmp</th>\n",
       "      <th>basePha</th>\n",
       "      <th>simTime</th>\n",
       "      <th>out_oopDisp_mm_n2</th>\n",
       "      <th>out_supReac_kN_n3</th>\n",
       "      <th>out_supReac_kN_n4</th>\n",
       "      <th>out_verDisp_mm_n5</th>\n",
       "      <th>out_oopDisp_mm_n5</th>\n",
       "      <th>out_endBend_kNm_n6</th>\n",
       "    </tr>\n",
       "  </thead>\n",
       "  <tbody>\n",
       "    <tr>\n",
       "      <th>0</th>\n",
       "      <td>00001_sd786_sl6_pd234_pl10_sv6_bp13_ba850_bp74</td>\n",
       "      <td>785.67</td>\n",
       "      <td>6.47</td>\n",
       "      <td>234.16</td>\n",
       "      <td>10.06</td>\n",
       "      <td>5.77</td>\n",
       "      <td>12.55</td>\n",
       "      <td>0.85</td>\n",
       "      <td>74.10</td>\n",
       "      <td>45.8</td>\n",
       "      <td>197.45</td>\n",
       "      <td>16.22</td>\n",
       "      <td>56.42</td>\n",
       "      <td>248.24</td>\n",
       "      <td>180.47</td>\n",
       "      <td>198.49</td>\n",
       "    </tr>\n",
       "    <tr>\n",
       "      <th>1</th>\n",
       "      <td>00002_sd705_sl10_pd190_pl11_sv7_bp12_ba800_bp59</td>\n",
       "      <td>705.03</td>\n",
       "      <td>10.36</td>\n",
       "      <td>190.44</td>\n",
       "      <td>11.25</td>\n",
       "      <td>7.42</td>\n",
       "      <td>11.63</td>\n",
       "      <td>0.80</td>\n",
       "      <td>59.11</td>\n",
       "      <td>44.0</td>\n",
       "      <td>186.85</td>\n",
       "      <td>15.97</td>\n",
       "      <td>58.86</td>\n",
       "      <td>262.33</td>\n",
       "      <td>178.72</td>\n",
       "      <td>238.07</td>\n",
       "    </tr>\n",
       "    <tr>\n",
       "      <th>2</th>\n",
       "      <td>00003_sd742_sl12_pd159_pl13_sv7_bp12_ba650_bp65</td>\n",
       "      <td>741.98</td>\n",
       "      <td>11.64</td>\n",
       "      <td>159.09</td>\n",
       "      <td>12.52</td>\n",
       "      <td>7.42</td>\n",
       "      <td>11.54</td>\n",
       "      <td>0.65</td>\n",
       "      <td>65.23</td>\n",
       "      <td>48.2</td>\n",
       "      <td>155.47</td>\n",
       "      <td>14.29</td>\n",
       "      <td>48.63</td>\n",
       "      <td>220.89</td>\n",
       "      <td>163.53</td>\n",
       "      <td>180.64</td>\n",
       "    </tr>\n",
       "    <tr>\n",
       "      <th>3</th>\n",
       "      <td>00004_sd732_sl9_pd168_pl10_sv10_bp11_ba670_bp68</td>\n",
       "      <td>731.88</td>\n",
       "      <td>8.82</td>\n",
       "      <td>167.88</td>\n",
       "      <td>9.84</td>\n",
       "      <td>9.52</td>\n",
       "      <td>11.48</td>\n",
       "      <td>0.67</td>\n",
       "      <td>67.85</td>\n",
       "      <td>30.8</td>\n",
       "      <td>169.47</td>\n",
       "      <td>15.18</td>\n",
       "      <td>48.72</td>\n",
       "      <td>188.47</td>\n",
       "      <td>163.76</td>\n",
       "      <td>233.31</td>\n",
       "    </tr>\n",
       "    <tr>\n",
       "      <th>4</th>\n",
       "      <td>00005_sd669_sl11_pd214_pl9_sv8_bp13_ba810_bp57</td>\n",
       "      <td>669.21</td>\n",
       "      <td>11.46</td>\n",
       "      <td>213.87</td>\n",
       "      <td>8.56</td>\n",
       "      <td>8.18</td>\n",
       "      <td>12.86</td>\n",
       "      <td>0.81</td>\n",
       "      <td>56.68</td>\n",
       "      <td>37.7</td>\n",
       "      <td>223.64</td>\n",
       "      <td>16.90</td>\n",
       "      <td>58.51</td>\n",
       "      <td>271.74</td>\n",
       "      <td>242.37</td>\n",
       "      <td>219.33</td>\n",
       "    </tr>\n",
       "  </tbody>\n",
       "</table>\n",
       "</div>"
      ],
      "text/plain": [
       "                                          loadCase  slugDen  slugLen  pockDen  \\\n",
       "0   00001_sd786_sl6_pd234_pl10_sv6_bp13_ba850_bp74   785.67     6.47   234.16   \n",
       "1  00002_sd705_sl10_pd190_pl11_sv7_bp12_ba800_bp59   705.03    10.36   190.44   \n",
       "2  00003_sd742_sl12_pd159_pl13_sv7_bp12_ba650_bp65   741.98    11.64   159.09   \n",
       "3  00004_sd732_sl9_pd168_pl10_sv10_bp11_ba670_bp68   731.88     8.82   167.88   \n",
       "4   00005_sd669_sl11_pd214_pl9_sv8_bp13_ba810_bp57   669.21    11.46   213.87   \n",
       "\n",
       "   pockLen  slugVel  basePer  baseAmp  basePha  simTime  out_oopDisp_mm_n2  \\\n",
       "0    10.06     5.77    12.55     0.85    74.10     45.8             197.45   \n",
       "1    11.25     7.42    11.63     0.80    59.11     44.0             186.85   \n",
       "2    12.52     7.42    11.54     0.65    65.23     48.2             155.47   \n",
       "3     9.84     9.52    11.48     0.67    67.85     30.8             169.47   \n",
       "4     8.56     8.18    12.86     0.81    56.68     37.7             223.64   \n",
       "\n",
       "   out_supReac_kN_n3  out_supReac_kN_n4  out_verDisp_mm_n5  out_oopDisp_mm_n5  \\\n",
       "0              16.22              56.42             248.24             180.47   \n",
       "1              15.97              58.86             262.33             178.72   \n",
       "2              14.29              48.63             220.89             163.53   \n",
       "3              15.18              48.72             188.47             163.76   \n",
       "4              16.90              58.51             271.74             242.37   \n",
       "\n",
       "   out_endBend_kNm_n6  \n",
       "0              198.49  \n",
       "1              238.07  \n",
       "2              180.64  \n",
       "3              233.31  \n",
       "4              219.33  "
      ]
     },
     "execution_count": 3,
     "metadata": {},
     "output_type": "execute_result"
    }
   ],
   "source": [
    "slug.head()"
   ]
  },
  {
   "cell_type": "code",
   "execution_count": 4,
   "metadata": {},
   "outputs": [],
   "source": [
    "slug = slug.sample(frac=1).reset_index(drop=True)"
   ]
  },
  {
   "cell_type": "code",
   "execution_count": 5,
   "metadata": {},
   "outputs": [],
   "source": [
    "slug_df = slug[[\"slugDen\",\"slugLen\",\"pockDen\",\"pockLen\",\"slugVel\",\"basePer\", \"baseAmp\", \"basePha\"]]"
   ]
  },
  {
   "cell_type": "code",
   "execution_count": 6,
   "metadata": {},
   "outputs": [],
   "source": [
    "scaler = preprocessing.StandardScaler()\n",
    "scaler = scaler.fit(slug_df)"
   ]
  },
  {
   "cell_type": "code",
   "execution_count": 7,
   "metadata": {},
   "outputs": [],
   "source": [
    "slug_tar = slug[[\"out_oopDisp_mm_n2\", \"out_oopDisp_mm_n5\", \"out_endBend_kNm_n6\"]]"
   ]
  },
  {
   "cell_type": "code",
   "execution_count": 8,
   "metadata": {},
   "outputs": [
    {
     "data": {
      "text/html": [
       "<div>\n",
       "<style scoped>\n",
       "    .dataframe tbody tr th:only-of-type {\n",
       "        vertical-align: middle;\n",
       "    }\n",
       "\n",
       "    .dataframe tbody tr th {\n",
       "        vertical-align: top;\n",
       "    }\n",
       "\n",
       "    .dataframe thead th {\n",
       "        text-align: right;\n",
       "    }\n",
       "</style>\n",
       "<table border=\"1\" class=\"dataframe\">\n",
       "  <thead>\n",
       "    <tr style=\"text-align: right;\">\n",
       "      <th></th>\n",
       "      <th>out_oopDisp_mm_n2</th>\n",
       "      <th>out_oopDisp_mm_n5</th>\n",
       "      <th>out_endBend_kNm_n6</th>\n",
       "    </tr>\n",
       "  </thead>\n",
       "  <tbody>\n",
       "    <tr>\n",
       "      <th>0</th>\n",
       "      <td>255.65</td>\n",
       "      <td>323.52</td>\n",
       "      <td>442.82</td>\n",
       "    </tr>\n",
       "    <tr>\n",
       "      <th>1</th>\n",
       "      <td>219.17</td>\n",
       "      <td>255.92</td>\n",
       "      <td>362.34</td>\n",
       "    </tr>\n",
       "    <tr>\n",
       "      <th>2</th>\n",
       "      <td>167.29</td>\n",
       "      <td>178.84</td>\n",
       "      <td>189.10</td>\n",
       "    </tr>\n",
       "    <tr>\n",
       "      <th>3</th>\n",
       "      <td>212.76</td>\n",
       "      <td>213.70</td>\n",
       "      <td>300.22</td>\n",
       "    </tr>\n",
       "    <tr>\n",
       "      <th>4</th>\n",
       "      <td>157.71</td>\n",
       "      <td>149.78</td>\n",
       "      <td>184.17</td>\n",
       "    </tr>\n",
       "  </tbody>\n",
       "</table>\n",
       "</div>"
      ],
      "text/plain": [
       "   out_oopDisp_mm_n2  out_oopDisp_mm_n5  out_endBend_kNm_n6\n",
       "0             255.65             323.52              442.82\n",
       "1             219.17             255.92              362.34\n",
       "2             167.29             178.84              189.10\n",
       "3             212.76             213.70              300.22\n",
       "4             157.71             149.78              184.17"
      ]
     },
     "execution_count": 8,
     "metadata": {},
     "output_type": "execute_result"
    }
   ],
   "source": [
    "slug_tar.head()"
   ]
  },
  {
   "cell_type": "code",
   "execution_count": 9,
   "metadata": {},
   "outputs": [],
   "source": [
    "#train_df = np.array(scaler.transform(slug_df[:4000]))\n",
    "#train_tar = np.array(slug_tar[:4000])\n",
    "#test_df = np.array(scaler.transform(slug_df[40000:]))\n",
    "#test_tar = np.array(slug_tar[40000:])\n",
    "\n",
    "\n",
    "#slug_train_df = np.array(scaler.transform(slug_df))\n",
    "#train_tar = np.array(slug_tar[:4000])\n",
    "\n",
    "\n",
    "kf = KFold(n_splits=5)"
   ]
  },
  {
   "cell_type": "code",
   "execution_count": 17,
   "metadata": {},
   "outputs": [],
   "source": [
    "\n",
    "#train_df = preprocessing.normalize(train_df)\n",
    "\n",
    "slug_train_df = preprocessing.normalize(slug_df)"
   ]
  },
  {
   "cell_type": "code",
   "execution_count": 99,
   "metadata": {},
   "outputs": [],
   "source": [
    "def get_model(n_inputs, n_outputs):\n",
    "    model = Sequential()\n",
    "    model.add(Dense(256, input_dim=n_inputs, activation='relu'))\n",
    "    model.add(Dropout(.4))\n",
    "    model.add(Dense(512, activation='relu'))\n",
    "    \n",
    "    #model.add(Dense(1024, activation='relu'))\n",
    "    \n",
    "    model.add(Dense(1024, activation='relu'))\n",
    "\n",
    "    model.add(Dense(1024, activation='relu'))\n",
    "\n",
    "    model.add(Dense(512, activation='relu'))\n",
    "\n",
    "    model.add(Dense(512, activation='relu'))\n",
    "    \n",
    "    model.add(Dense(n_outputs, activation='linear'))\n",
    "    model.compile(loss='mean_squared_error', optimizer=RMSprop(lr=0.01, clipnorm=1.), metrics=['mean_squared_error'])\n",
    "    #model.compile(loss='mean_squared_error', optimizer='adam', metrics=['mean_squared_error'])\n",
    "    return model"
   ]
  },
  {
   "cell_type": "code",
   "execution_count": 100,
   "metadata": {},
   "outputs": [],
   "source": [
    "#n_inputs, n_outputs = train_df.shape[1], train_tar.shape[1]\n",
    "n_inputs, n_outputs = slug_df.shape[1], slug_tar.shape[1]"
   ]
  },
  {
   "cell_type": "code",
   "execution_count": 101,
   "metadata": {},
   "outputs": [],
   "source": [
    "model = get_model(n_inputs, n_outputs)"
   ]
  },
  {
   "cell_type": "code",
   "execution_count": 103,
   "metadata": {},
   "outputs": [],
   "source": [
    "model.fit(slug_train_df, slug_tar.values, epochs=20, batch_size=2)"
   ]
  },
  {
   "cell_type": "code",
   "execution_count": null,
   "metadata": {},
   "outputs": [],
   "source": []
  },
  {
   "cell_type": "code",
   "execution_count": null,
   "metadata": {},
   "outputs": [],
   "source": []
  },
  {
   "cell_type": "code",
   "execution_count": null,
   "metadata": {},
   "outputs": [],
   "source": []
  },
  {
   "cell_type": "code",
   "execution_count": null,
   "metadata": {},
   "outputs": [],
   "source": []
  },
  {
   "cell_type": "code",
   "execution_count": null,
   "metadata": {},
   "outputs": [],
   "source": []
  },
  {
   "cell_type": "code",
   "execution_count": null,
   "metadata": {},
   "outputs": [],
   "source": []
  },
  {
   "cell_type": "code",
   "execution_count": 80,
   "metadata": {},
   "outputs": [
    {
     "name": "stdout",
     "output_type": "stream",
     "text": [
      "Train on 40000 samples\n",
      "Epoch 1/20\n",
      "40000/40000 [==============================] - 1s 35us/sample - loss: nan - mean_squared_error: nan\n",
      "Epoch 2/20\n",
      "40000/40000 [==============================] - 1s 23us/sample - loss: nan - mean_squared_error: nan\n",
      "Epoch 3/20\n",
      "40000/40000 [==============================] - 1s 23us/sample - loss: nan - mean_squared_error: nan\n",
      "Epoch 4/20\n",
      "40000/40000 [==============================] - 1s 23us/sample - loss: nan - mean_squared_error: nan\n",
      "Epoch 5/20\n",
      "40000/40000 [==============================] - 1s 23us/sample - loss: nan - mean_squared_error: nan\n",
      "Epoch 6/20\n",
      "40000/40000 [==============================] - 1s 23us/sample - loss: nan - mean_squared_error: nan\n",
      "Epoch 7/20\n",
      "40000/40000 [==============================] - 1s 23us/sample - loss: nan - mean_squared_error: nan\n",
      "Epoch 8/20\n",
      "40000/40000 [==============================] - 1s 23us/sample - loss: nan - mean_squared_error: nan\n",
      "Epoch 9/20\n",
      "40000/40000 [==============================] - 1s 23us/sample - loss: nan - mean_squared_error: nan\n",
      "Epoch 10/20\n",
      "40000/40000 [==============================] - 1s 23us/sample - loss: nan - mean_squared_error: nan\n",
      "Epoch 11/20\n",
      "40000/40000 [==============================] - 1s 23us/sample - loss: nan - mean_squared_error: nan\n",
      "Epoch 12/20\n",
      "40000/40000 [==============================] - 1s 22us/sample - loss: nan - mean_squared_error: nan\n",
      "Epoch 13/20\n",
      "40000/40000 [==============================] - 1s 23us/sample - loss: nan - mean_squared_error: nan\n",
      "Epoch 14/20\n",
      "40000/40000 [==============================] - 1s 23us/sample - loss: nan - mean_squared_error: nan\n",
      "Epoch 15/20\n",
      "40000/40000 [==============================] - 1s 23us/sample - loss: nan - mean_squared_error: nan\n",
      "Epoch 16/20\n",
      "40000/40000 [==============================] - 1s 24us/sample - loss: nan - mean_squared_error: nan\n",
      "Epoch 17/20\n",
      "40000/40000 [==============================] - 1s 23us/sample - loss: nan - mean_squared_error: nan\n",
      "Epoch 18/20\n",
      "40000/40000 [==============================] - 1s 23us/sample - loss: nan - mean_squared_error: nan\n",
      "Epoch 19/20\n",
      "40000/40000 [==============================] - 1s 23us/sample - loss: nan - mean_squared_error: nan\n",
      "Epoch 20/20\n",
      "40000/40000 [==============================] - 1s 23us/sample - loss: nan - mean_squared_error: nan\n",
      "Train on 40000 samples\n",
      "Epoch 1/20\n",
      "40000/40000 [==============================] - 1s 23us/sample - loss: nan - mean_squared_error: nan\n",
      "Epoch 2/20\n",
      "40000/40000 [==============================] - 1s 23us/sample - loss: nan - mean_squared_error: nan\n",
      "Epoch 3/20\n",
      "40000/40000 [==============================] - 1s 23us/sample - loss: nan - mean_squared_error: nan\n",
      "Epoch 4/20\n",
      "40000/40000 [==============================] - 1s 23us/sample - loss: nan - mean_squared_error: nan\n",
      "Epoch 5/20\n",
      "40000/40000 [==============================] - 1s 24us/sample - loss: nan - mean_squared_error: nan\n",
      "Epoch 6/20\n",
      "40000/40000 [==============================] - 1s 23us/sample - loss: nan - mean_squared_error: nan\n",
      "Epoch 7/20\n",
      "40000/40000 [==============================] - 1s 24us/sample - loss: nan - mean_squared_error: nan\n",
      "Epoch 8/20\n",
      "40000/40000 [==============================] - 1s 23us/sample - loss: nan - mean_squared_error: nan\n",
      "Epoch 9/20\n",
      "40000/40000 [==============================] - 1s 23us/sample - loss: nan - mean_squared_error: nan\n",
      "Epoch 10/20\n",
      "40000/40000 [==============================] - 1s 23us/sample - loss: nan - mean_squared_error: nan\n",
      "Epoch 11/20\n",
      "40000/40000 [==============================] - 1s 24us/sample - loss: nan - mean_squared_error: nan\n",
      "Epoch 12/20\n",
      "40000/40000 [==============================] - 1s 24us/sample - loss: nan - mean_squared_error: nan\n",
      "Epoch 13/20\n",
      "40000/40000 [==============================] - 1s 24us/sample - loss: nan - mean_squared_error: nan\n",
      "Epoch 14/20\n",
      "40000/40000 [==============================] - 1s 24us/sample - loss: nan - mean_squared_error: nan\n",
      "Epoch 15/20\n",
      "40000/40000 [==============================] - 1s 23us/sample - loss: nan - mean_squared_error: nan\n",
      "Epoch 16/20\n",
      " 2300/40000 [>.............................] - ETA: 0s - loss: nan - mean_squared_error: nan"
     ]
    },
    {
     "ename": "KeyboardInterrupt",
     "evalue": "",
     "output_type": "error",
     "traceback": [
      "\u001b[1;31m---------------------------------------------------------------------------\u001b[0m",
      "\u001b[1;31mKeyboardInterrupt\u001b[0m                         Traceback (most recent call last)",
      "\u001b[1;32m<ipython-input-80-5cec7b8fd910>\u001b[0m in \u001b[0;36m<module>\u001b[1;34m\u001b[0m\n\u001b[0;32m      1\u001b[0m \u001b[1;32mfor\u001b[0m \u001b[0mtrain_index\u001b[0m\u001b[1;33m,\u001b[0m \u001b[0mtest_index\u001b[0m \u001b[1;32min\u001b[0m \u001b[0mkf\u001b[0m\u001b[1;33m.\u001b[0m\u001b[0msplit\u001b[0m\u001b[1;33m(\u001b[0m\u001b[0mslug_train_df\u001b[0m\u001b[1;33m)\u001b[0m\u001b[1;33m:\u001b[0m\u001b[1;33m\u001b[0m\u001b[1;33m\u001b[0m\u001b[0m\n\u001b[1;32m----> 2\u001b[1;33m     \u001b[0mmodel\u001b[0m\u001b[1;33m.\u001b[0m\u001b[0mfit\u001b[0m\u001b[1;33m(\u001b[0m\u001b[0mslug_train_df\u001b[0m\u001b[1;33m[\u001b[0m\u001b[0mtrain_index\u001b[0m\u001b[1;33m]\u001b[0m\u001b[1;33m,\u001b[0m \u001b[0mslug_tar\u001b[0m\u001b[1;33m.\u001b[0m\u001b[0miloc\u001b[0m\u001b[1;33m[\u001b[0m\u001b[0mtrain_index\u001b[0m\u001b[1;33m]\u001b[0m\u001b[1;33m,\u001b[0m \u001b[0mepochs\u001b[0m\u001b[1;33m=\u001b[0m\u001b[1;36m20\u001b[0m\u001b[1;33m,\u001b[0m \u001b[0mbatch_size\u001b[0m\u001b[1;33m=\u001b[0m\u001b[1;36m100\u001b[0m\u001b[1;33m)\u001b[0m\u001b[1;33m\u001b[0m\u001b[1;33m\u001b[0m\u001b[0m\n\u001b[0m",
      "\u001b[1;32m~\\Anaconda3\\lib\\site-packages\\tensorflow_core\\python\\keras\\engine\\training.py\u001b[0m in \u001b[0;36mfit\u001b[1;34m(self, x, y, batch_size, epochs, verbose, callbacks, validation_split, validation_data, shuffle, class_weight, sample_weight, initial_epoch, steps_per_epoch, validation_steps, validation_freq, max_queue_size, workers, use_multiprocessing, **kwargs)\u001b[0m\n\u001b[0;32m    817\u001b[0m         \u001b[0mmax_queue_size\u001b[0m\u001b[1;33m=\u001b[0m\u001b[0mmax_queue_size\u001b[0m\u001b[1;33m,\u001b[0m\u001b[1;33m\u001b[0m\u001b[1;33m\u001b[0m\u001b[0m\n\u001b[0;32m    818\u001b[0m         \u001b[0mworkers\u001b[0m\u001b[1;33m=\u001b[0m\u001b[0mworkers\u001b[0m\u001b[1;33m,\u001b[0m\u001b[1;33m\u001b[0m\u001b[1;33m\u001b[0m\u001b[0m\n\u001b[1;32m--> 819\u001b[1;33m         use_multiprocessing=use_multiprocessing)\n\u001b[0m\u001b[0;32m    820\u001b[0m \u001b[1;33m\u001b[0m\u001b[0m\n\u001b[0;32m    821\u001b[0m   def evaluate(self,\n",
      "\u001b[1;32m~\\Anaconda3\\lib\\site-packages\\tensorflow_core\\python\\keras\\engine\\training_v2.py\u001b[0m in \u001b[0;36mfit\u001b[1;34m(self, model, x, y, batch_size, epochs, verbose, callbacks, validation_split, validation_data, shuffle, class_weight, sample_weight, initial_epoch, steps_per_epoch, validation_steps, validation_freq, max_queue_size, workers, use_multiprocessing, **kwargs)\u001b[0m\n\u001b[0;32m    340\u001b[0m                 \u001b[0mmode\u001b[0m\u001b[1;33m=\u001b[0m\u001b[0mModeKeys\u001b[0m\u001b[1;33m.\u001b[0m\u001b[0mTRAIN\u001b[0m\u001b[1;33m,\u001b[0m\u001b[1;33m\u001b[0m\u001b[1;33m\u001b[0m\u001b[0m\n\u001b[0;32m    341\u001b[0m                 \u001b[0mtraining_context\u001b[0m\u001b[1;33m=\u001b[0m\u001b[0mtraining_context\u001b[0m\u001b[1;33m,\u001b[0m\u001b[1;33m\u001b[0m\u001b[1;33m\u001b[0m\u001b[0m\n\u001b[1;32m--> 342\u001b[1;33m                 total_epochs=epochs)\n\u001b[0m\u001b[0;32m    343\u001b[0m             \u001b[0mcbks\u001b[0m\u001b[1;33m.\u001b[0m\u001b[0mmake_logs\u001b[0m\u001b[1;33m(\u001b[0m\u001b[0mmodel\u001b[0m\u001b[1;33m,\u001b[0m \u001b[0mepoch_logs\u001b[0m\u001b[1;33m,\u001b[0m \u001b[0mtraining_result\u001b[0m\u001b[1;33m,\u001b[0m \u001b[0mModeKeys\u001b[0m\u001b[1;33m.\u001b[0m\u001b[0mTRAIN\u001b[0m\u001b[1;33m)\u001b[0m\u001b[1;33m\u001b[0m\u001b[1;33m\u001b[0m\u001b[0m\n\u001b[0;32m    344\u001b[0m \u001b[1;33m\u001b[0m\u001b[0m\n",
      "\u001b[1;32m~\\Anaconda3\\lib\\site-packages\\tensorflow_core\\python\\keras\\engine\\training_v2.py\u001b[0m in \u001b[0;36mrun_one_epoch\u001b[1;34m(model, iterator, execution_function, dataset_size, batch_size, strategy, steps_per_epoch, num_samples, mode, training_context, total_epochs)\u001b[0m\n\u001b[0;32m    126\u001b[0m         step=step, mode=mode, size=current_batch_size) as batch_logs:\n\u001b[0;32m    127\u001b[0m       \u001b[1;32mtry\u001b[0m\u001b[1;33m:\u001b[0m\u001b[1;33m\u001b[0m\u001b[1;33m\u001b[0m\u001b[0m\n\u001b[1;32m--> 128\u001b[1;33m         \u001b[0mbatch_outs\u001b[0m \u001b[1;33m=\u001b[0m \u001b[0mexecution_function\u001b[0m\u001b[1;33m(\u001b[0m\u001b[0miterator\u001b[0m\u001b[1;33m)\u001b[0m\u001b[1;33m\u001b[0m\u001b[1;33m\u001b[0m\u001b[0m\n\u001b[0m\u001b[0;32m    129\u001b[0m       \u001b[1;32mexcept\u001b[0m \u001b[1;33m(\u001b[0m\u001b[0mStopIteration\u001b[0m\u001b[1;33m,\u001b[0m \u001b[0merrors\u001b[0m\u001b[1;33m.\u001b[0m\u001b[0mOutOfRangeError\u001b[0m\u001b[1;33m)\u001b[0m\u001b[1;33m:\u001b[0m\u001b[1;33m\u001b[0m\u001b[1;33m\u001b[0m\u001b[0m\n\u001b[0;32m    130\u001b[0m         \u001b[1;31m# TODO(kaftan): File bug about tf function and errors.OutOfRangeError?\u001b[0m\u001b[1;33m\u001b[0m\u001b[1;33m\u001b[0m\u001b[1;33m\u001b[0m\u001b[0m\n",
      "\u001b[1;32m~\\Anaconda3\\lib\\site-packages\\tensorflow_core\\python\\keras\\engine\\training_v2_utils.py\u001b[0m in \u001b[0;36mexecution_function\u001b[1;34m(input_fn)\u001b[0m\n\u001b[0;32m     96\u001b[0m     \u001b[1;31m# `numpy` translates Tensors to values in Eager mode.\u001b[0m\u001b[1;33m\u001b[0m\u001b[1;33m\u001b[0m\u001b[1;33m\u001b[0m\u001b[0m\n\u001b[0;32m     97\u001b[0m     return nest.map_structure(_non_none_constant_value,\n\u001b[1;32m---> 98\u001b[1;33m                               distributed_function(input_fn))\n\u001b[0m\u001b[0;32m     99\u001b[0m \u001b[1;33m\u001b[0m\u001b[0m\n\u001b[0;32m    100\u001b[0m   \u001b[1;32mreturn\u001b[0m \u001b[0mexecution_function\u001b[0m\u001b[1;33m\u001b[0m\u001b[1;33m\u001b[0m\u001b[0m\n",
      "\u001b[1;32m~\\Anaconda3\\lib\\site-packages\\tensorflow_core\\python\\util\\nest.py\u001b[0m in \u001b[0;36mmap_structure\u001b[1;34m(func, *structure, **kwargs)\u001b[0m\n\u001b[0;32m    566\u001b[0m \u001b[1;33m\u001b[0m\u001b[0m\n\u001b[0;32m    567\u001b[0m   return pack_sequence_as(\n\u001b[1;32m--> 568\u001b[1;33m       \u001b[0mstructure\u001b[0m\u001b[1;33m[\u001b[0m\u001b[1;36m0\u001b[0m\u001b[1;33m]\u001b[0m\u001b[1;33m,\u001b[0m \u001b[1;33m[\u001b[0m\u001b[0mfunc\u001b[0m\u001b[1;33m(\u001b[0m\u001b[1;33m*\u001b[0m\u001b[0mx\u001b[0m\u001b[1;33m)\u001b[0m \u001b[1;32mfor\u001b[0m \u001b[0mx\u001b[0m \u001b[1;32min\u001b[0m \u001b[0mentries\u001b[0m\u001b[1;33m]\u001b[0m\u001b[1;33m,\u001b[0m\u001b[1;33m\u001b[0m\u001b[1;33m\u001b[0m\u001b[0m\n\u001b[0m\u001b[0;32m    569\u001b[0m       expand_composites=expand_composites)\n\u001b[0;32m    570\u001b[0m \u001b[1;33m\u001b[0m\u001b[0m\n",
      "\u001b[1;32m~\\Anaconda3\\lib\\site-packages\\tensorflow_core\\python\\util\\nest.py\u001b[0m in \u001b[0;36m<listcomp>\u001b[1;34m(.0)\u001b[0m\n\u001b[0;32m    566\u001b[0m \u001b[1;33m\u001b[0m\u001b[0m\n\u001b[0;32m    567\u001b[0m   return pack_sequence_as(\n\u001b[1;32m--> 568\u001b[1;33m       \u001b[0mstructure\u001b[0m\u001b[1;33m[\u001b[0m\u001b[1;36m0\u001b[0m\u001b[1;33m]\u001b[0m\u001b[1;33m,\u001b[0m \u001b[1;33m[\u001b[0m\u001b[0mfunc\u001b[0m\u001b[1;33m(\u001b[0m\u001b[1;33m*\u001b[0m\u001b[0mx\u001b[0m\u001b[1;33m)\u001b[0m \u001b[1;32mfor\u001b[0m \u001b[0mx\u001b[0m \u001b[1;32min\u001b[0m \u001b[0mentries\u001b[0m\u001b[1;33m]\u001b[0m\u001b[1;33m,\u001b[0m\u001b[1;33m\u001b[0m\u001b[1;33m\u001b[0m\u001b[0m\n\u001b[0m\u001b[0;32m    569\u001b[0m       expand_composites=expand_composites)\n\u001b[0;32m    570\u001b[0m \u001b[1;33m\u001b[0m\u001b[0m\n",
      "\u001b[1;32m~\\Anaconda3\\lib\\site-packages\\tensorflow_core\\python\\keras\\engine\\training_v2_utils.py\u001b[0m in \u001b[0;36m_non_none_constant_value\u001b[1;34m(v)\u001b[0m\n\u001b[0;32m    128\u001b[0m \u001b[1;33m\u001b[0m\u001b[0m\n\u001b[0;32m    129\u001b[0m \u001b[1;32mdef\u001b[0m \u001b[0m_non_none_constant_value\u001b[0m\u001b[1;33m(\u001b[0m\u001b[0mv\u001b[0m\u001b[1;33m)\u001b[0m\u001b[1;33m:\u001b[0m\u001b[1;33m\u001b[0m\u001b[1;33m\u001b[0m\u001b[0m\n\u001b[1;32m--> 130\u001b[1;33m   \u001b[0mconstant_value\u001b[0m \u001b[1;33m=\u001b[0m \u001b[0mtensor_util\u001b[0m\u001b[1;33m.\u001b[0m\u001b[0mconstant_value\u001b[0m\u001b[1;33m(\u001b[0m\u001b[0mv\u001b[0m\u001b[1;33m)\u001b[0m\u001b[1;33m\u001b[0m\u001b[1;33m\u001b[0m\u001b[0m\n\u001b[0m\u001b[0;32m    131\u001b[0m   \u001b[1;32mreturn\u001b[0m \u001b[0mconstant_value\u001b[0m \u001b[1;32mif\u001b[0m \u001b[0mconstant_value\u001b[0m \u001b[1;32mis\u001b[0m \u001b[1;32mnot\u001b[0m \u001b[1;32mNone\u001b[0m \u001b[1;32melse\u001b[0m \u001b[0mv\u001b[0m\u001b[1;33m\u001b[0m\u001b[1;33m\u001b[0m\u001b[0m\n\u001b[0;32m    132\u001b[0m \u001b[1;33m\u001b[0m\u001b[0m\n",
      "\u001b[1;32m~\\Anaconda3\\lib\\site-packages\\tensorflow_core\\python\\framework\\tensor_util.py\u001b[0m in \u001b[0;36mconstant_value\u001b[1;34m(tensor, partial)\u001b[0m\n\u001b[0;32m    820\u001b[0m   \"\"\"\n\u001b[0;32m    821\u001b[0m   \u001b[1;32mif\u001b[0m \u001b[0misinstance\u001b[0m\u001b[1;33m(\u001b[0m\u001b[0mtensor\u001b[0m\u001b[1;33m,\u001b[0m \u001b[0mops\u001b[0m\u001b[1;33m.\u001b[0m\u001b[0mEagerTensor\u001b[0m\u001b[1;33m)\u001b[0m\u001b[1;33m:\u001b[0m\u001b[1;33m\u001b[0m\u001b[1;33m\u001b[0m\u001b[0m\n\u001b[1;32m--> 822\u001b[1;33m     \u001b[1;32mreturn\u001b[0m \u001b[0mtensor\u001b[0m\u001b[1;33m.\u001b[0m\u001b[0mnumpy\u001b[0m\u001b[1;33m(\u001b[0m\u001b[1;33m)\u001b[0m\u001b[1;33m\u001b[0m\u001b[1;33m\u001b[0m\u001b[0m\n\u001b[0m\u001b[0;32m    823\u001b[0m   \u001b[1;32mif\u001b[0m \u001b[1;32mnot\u001b[0m \u001b[0mis_tensor\u001b[0m\u001b[1;33m(\u001b[0m\u001b[0mtensor\u001b[0m\u001b[1;33m)\u001b[0m\u001b[1;33m:\u001b[0m\u001b[1;33m\u001b[0m\u001b[1;33m\u001b[0m\u001b[0m\n\u001b[0;32m    824\u001b[0m     \u001b[1;32mreturn\u001b[0m \u001b[0mtensor\u001b[0m\u001b[1;33m\u001b[0m\u001b[1;33m\u001b[0m\u001b[0m\n",
      "\u001b[1;32m~\\Anaconda3\\lib\\site-packages\\tensorflow_core\\python\\framework\\ops.py\u001b[0m in \u001b[0;36mnumpy\u001b[1;34m(self)\u001b[0m\n\u001b[0;32m    940\u001b[0m     \"\"\"\n\u001b[0;32m    941\u001b[0m     \u001b[1;31m# TODO(slebedev): Consider avoiding a copy for non-CPU or remote tensors.\u001b[0m\u001b[1;33m\u001b[0m\u001b[1;33m\u001b[0m\u001b[1;33m\u001b[0m\u001b[0m\n\u001b[1;32m--> 942\u001b[1;33m     \u001b[0mmaybe_arr\u001b[0m \u001b[1;33m=\u001b[0m \u001b[0mself\u001b[0m\u001b[1;33m.\u001b[0m\u001b[0m_numpy\u001b[0m\u001b[1;33m(\u001b[0m\u001b[1;33m)\u001b[0m  \u001b[1;31m# pylint: disable=protected-access\u001b[0m\u001b[1;33m\u001b[0m\u001b[1;33m\u001b[0m\u001b[0m\n\u001b[0m\u001b[0;32m    943\u001b[0m     \u001b[1;32mreturn\u001b[0m \u001b[0mmaybe_arr\u001b[0m\u001b[1;33m.\u001b[0m\u001b[0mcopy\u001b[0m\u001b[1;33m(\u001b[0m\u001b[1;33m)\u001b[0m \u001b[1;32mif\u001b[0m \u001b[0misinstance\u001b[0m\u001b[1;33m(\u001b[0m\u001b[0mmaybe_arr\u001b[0m\u001b[1;33m,\u001b[0m \u001b[0mnp\u001b[0m\u001b[1;33m.\u001b[0m\u001b[0mndarray\u001b[0m\u001b[1;33m)\u001b[0m \u001b[1;32melse\u001b[0m \u001b[0mmaybe_arr\u001b[0m\u001b[1;33m\u001b[0m\u001b[1;33m\u001b[0m\u001b[0m\n\u001b[0;32m    944\u001b[0m \u001b[1;33m\u001b[0m\u001b[0m\n",
      "\u001b[1;32m~\\Anaconda3\\lib\\site-packages\\tensorflow_core\\python\\framework\\ops.py\u001b[0m in \u001b[0;36m_numpy\u001b[1;34m(self)\u001b[0m\n\u001b[0;32m    906\u001b[0m     \u001b[1;31m# pylint: disable=protected-access\u001b[0m\u001b[1;33m\u001b[0m\u001b[1;33m\u001b[0m\u001b[1;33m\u001b[0m\u001b[0m\n\u001b[0;32m    907\u001b[0m     \u001b[1;32mtry\u001b[0m\u001b[1;33m:\u001b[0m\u001b[1;33m\u001b[0m\u001b[1;33m\u001b[0m\u001b[0m\n\u001b[1;32m--> 908\u001b[1;33m       \u001b[1;32mreturn\u001b[0m \u001b[0mself\u001b[0m\u001b[1;33m.\u001b[0m\u001b[0m_numpy_internal\u001b[0m\u001b[1;33m(\u001b[0m\u001b[1;33m)\u001b[0m\u001b[1;33m\u001b[0m\u001b[1;33m\u001b[0m\u001b[0m\n\u001b[0m\u001b[0;32m    909\u001b[0m     \u001b[1;32mexcept\u001b[0m \u001b[0mcore\u001b[0m\u001b[1;33m.\u001b[0m\u001b[0m_NotOkStatusException\u001b[0m \u001b[1;32mas\u001b[0m \u001b[0me\u001b[0m\u001b[1;33m:\u001b[0m\u001b[1;33m\u001b[0m\u001b[1;33m\u001b[0m\u001b[0m\n\u001b[0;32m    910\u001b[0m       \u001b[0msix\u001b[0m\u001b[1;33m.\u001b[0m\u001b[0mraise_from\u001b[0m\u001b[1;33m(\u001b[0m\u001b[0mcore\u001b[0m\u001b[1;33m.\u001b[0m\u001b[0m_status_to_exception\u001b[0m\u001b[1;33m(\u001b[0m\u001b[0me\u001b[0m\u001b[1;33m.\u001b[0m\u001b[0mcode\u001b[0m\u001b[1;33m,\u001b[0m \u001b[0me\u001b[0m\u001b[1;33m.\u001b[0m\u001b[0mmessage\u001b[0m\u001b[1;33m)\u001b[0m\u001b[1;33m,\u001b[0m \u001b[1;32mNone\u001b[0m\u001b[1;33m)\u001b[0m\u001b[1;33m\u001b[0m\u001b[1;33m\u001b[0m\u001b[0m\n",
      "\u001b[1;31mKeyboardInterrupt\u001b[0m: "
     ]
    }
   ],
   "source": [
    "for train_index, test_index in kf.split(slug_train_df):\n",
    "    model.fit(slug_train_df[train_index], slug_tar.iloc[train_index], epochs=20, batch_size=100)"
   ]
  },
  {
   "cell_type": "code",
   "execution_count": 65,
   "metadata": {},
   "outputs": [
    {
     "data": {
      "text/plain": [
       "array([ 0.834913  ,  0.1503568 ,  0.81186544,  1.8609707 ,  0.9375468 ,\n",
       "        1.2187914 ,  0.10141098, -0.46840926])"
      ]
     },
     "execution_count": 65,
     "metadata": {},
     "output_type": "execute_result"
    }
   ],
   "source": [
    "test_df[0]"
   ]
  },
  {
   "cell_type": "code",
   "execution_count": 66,
   "metadata": {},
   "outputs": [
    {
     "data": {
      "text/plain": [
       "array([[nan, nan, nan]], dtype=float32)"
      ]
     },
     "execution_count": 66,
     "metadata": {},
     "output_type": "execute_result"
    }
   ],
   "source": [
    "model.predict(test_df[0:1])"
   ]
  },
  {
   "cell_type": "code",
   "execution_count": 67,
   "metadata": {},
   "outputs": [
    {
     "data": {
      "text/plain": [
       "array([[183.33, 186.68, 220.61]])"
      ]
     },
     "execution_count": 67,
     "metadata": {},
     "output_type": "execute_result"
    }
   ],
   "source": [
    "test_tar[0:1]"
   ]
  }
 ],
 "metadata": {
  "kernelspec": {
   "display_name": "Python 3",
   "language": "python",
   "name": "python3"
  },
  "language_info": {
   "codemirror_mode": {
    "name": "ipython",
    "version": 3
   },
   "file_extension": ".py",
   "mimetype": "text/x-python",
   "name": "python",
   "nbconvert_exporter": "python",
   "pygments_lexer": "ipython3",
   "version": "3.7.4"
  }
 },
 "nbformat": 4,
 "nbformat_minor": 2
}
