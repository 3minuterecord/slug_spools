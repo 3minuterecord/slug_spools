{
 "cells": [
  {
   "cell_type": "code",
   "execution_count": 1,
   "metadata": {},
   "outputs": [],
   "source": [
    "import pandas as pd\n",
    "import numpy as np\n",
    "from tensorflow.keras.models import Sequential\n",
    "from tensorflow.keras.layers import Dense, Dropout\n",
    "from tensorflow.keras.layers import LayerNormalization\n",
    "from tensorflow.keras.optimizers import RMSprop\n",
    "from sklearn.model_selection import KFold\n",
    "from sklearn import preprocessing, metrics"
   ]
  },
  {
   "cell_type": "code",
   "execution_count": 2,
   "metadata": {},
   "outputs": [],
   "source": [
    "slug = pd.read_csv(\"220306_slugs_dataset.csv\")"
   ]
  },
  {
   "cell_type": "code",
   "execution_count": 3,
   "metadata": {},
   "outputs": [
    {
     "data": {
      "text/html": [
       "<div>\n",
       "<style scoped>\n",
       "    .dataframe tbody tr th:only-of-type {\n",
       "        vertical-align: middle;\n",
       "    }\n",
       "\n",
       "    .dataframe tbody tr th {\n",
       "        vertical-align: top;\n",
       "    }\n",
       "\n",
       "    .dataframe thead th {\n",
       "        text-align: right;\n",
       "    }\n",
       "</style>\n",
       "<table border=\"1\" class=\"dataframe\">\n",
       "  <thead>\n",
       "    <tr style=\"text-align: right;\">\n",
       "      <th></th>\n",
       "      <th>loadCase</th>\n",
       "      <th>slugDen</th>\n",
       "      <th>slugLen</th>\n",
       "      <th>pockDen</th>\n",
       "      <th>pockLen</th>\n",
       "      <th>slugVel</th>\n",
       "      <th>basePer</th>\n",
       "      <th>baseAmp</th>\n",
       "      <th>basePha</th>\n",
       "      <th>simTime</th>\n",
       "      <th>out_oopDisp_mm_n2</th>\n",
       "      <th>out_supReac_kN_n3</th>\n",
       "      <th>out_supReac_kN_n4</th>\n",
       "      <th>out_verDisp_mm_n5</th>\n",
       "      <th>out_oopDisp_mm_n5</th>\n",
       "      <th>out_endBend_kNm_n6</th>\n",
       "    </tr>\n",
       "  </thead>\n",
       "  <tbody>\n",
       "    <tr>\n",
       "      <th>0</th>\n",
       "      <td>00001_sd786_sl6_pd234_pl10_sv6_bp13_ba850_bp74</td>\n",
       "      <td>785.67</td>\n",
       "      <td>6.47</td>\n",
       "      <td>234.16</td>\n",
       "      <td>10.06</td>\n",
       "      <td>5.77</td>\n",
       "      <td>12.55</td>\n",
       "      <td>0.85</td>\n",
       "      <td>74.10</td>\n",
       "      <td>45.8</td>\n",
       "      <td>197.45</td>\n",
       "      <td>16.22</td>\n",
       "      <td>56.42</td>\n",
       "      <td>248.24</td>\n",
       "      <td>180.47</td>\n",
       "      <td>198.49</td>\n",
       "    </tr>\n",
       "    <tr>\n",
       "      <th>1</th>\n",
       "      <td>00002_sd705_sl10_pd190_pl11_sv7_bp12_ba800_bp59</td>\n",
       "      <td>705.03</td>\n",
       "      <td>10.36</td>\n",
       "      <td>190.44</td>\n",
       "      <td>11.25</td>\n",
       "      <td>7.42</td>\n",
       "      <td>11.63</td>\n",
       "      <td>0.80</td>\n",
       "      <td>59.11</td>\n",
       "      <td>44.0</td>\n",
       "      <td>186.85</td>\n",
       "      <td>15.97</td>\n",
       "      <td>58.86</td>\n",
       "      <td>262.33</td>\n",
       "      <td>178.72</td>\n",
       "      <td>238.07</td>\n",
       "    </tr>\n",
       "    <tr>\n",
       "      <th>2</th>\n",
       "      <td>00003_sd742_sl12_pd159_pl13_sv7_bp12_ba650_bp65</td>\n",
       "      <td>741.98</td>\n",
       "      <td>11.64</td>\n",
       "      <td>159.09</td>\n",
       "      <td>12.52</td>\n",
       "      <td>7.42</td>\n",
       "      <td>11.54</td>\n",
       "      <td>0.65</td>\n",
       "      <td>65.23</td>\n",
       "      <td>48.2</td>\n",
       "      <td>155.47</td>\n",
       "      <td>14.29</td>\n",
       "      <td>48.63</td>\n",
       "      <td>220.89</td>\n",
       "      <td>163.53</td>\n",
       "      <td>180.64</td>\n",
       "    </tr>\n",
       "    <tr>\n",
       "      <th>3</th>\n",
       "      <td>00004_sd732_sl9_pd168_pl10_sv10_bp11_ba670_bp68</td>\n",
       "      <td>731.88</td>\n",
       "      <td>8.82</td>\n",
       "      <td>167.88</td>\n",
       "      <td>9.84</td>\n",
       "      <td>9.52</td>\n",
       "      <td>11.48</td>\n",
       "      <td>0.67</td>\n",
       "      <td>67.85</td>\n",
       "      <td>30.8</td>\n",
       "      <td>169.47</td>\n",
       "      <td>15.18</td>\n",
       "      <td>48.72</td>\n",
       "      <td>188.47</td>\n",
       "      <td>163.76</td>\n",
       "      <td>233.31</td>\n",
       "    </tr>\n",
       "    <tr>\n",
       "      <th>4</th>\n",
       "      <td>00005_sd669_sl11_pd214_pl9_sv8_bp13_ba810_bp57</td>\n",
       "      <td>669.21</td>\n",
       "      <td>11.46</td>\n",
       "      <td>213.87</td>\n",
       "      <td>8.56</td>\n",
       "      <td>8.18</td>\n",
       "      <td>12.86</td>\n",
       "      <td>0.81</td>\n",
       "      <td>56.68</td>\n",
       "      <td>37.7</td>\n",
       "      <td>223.64</td>\n",
       "      <td>16.90</td>\n",
       "      <td>58.51</td>\n",
       "      <td>271.74</td>\n",
       "      <td>242.37</td>\n",
       "      <td>219.33</td>\n",
       "    </tr>\n",
       "  </tbody>\n",
       "</table>\n",
       "</div>"
      ],
      "text/plain": [
       "                                          loadCase  slugDen  slugLen  pockDen  \\\n",
       "0   00001_sd786_sl6_pd234_pl10_sv6_bp13_ba850_bp74   785.67     6.47   234.16   \n",
       "1  00002_sd705_sl10_pd190_pl11_sv7_bp12_ba800_bp59   705.03    10.36   190.44   \n",
       "2  00003_sd742_sl12_pd159_pl13_sv7_bp12_ba650_bp65   741.98    11.64   159.09   \n",
       "3  00004_sd732_sl9_pd168_pl10_sv10_bp11_ba670_bp68   731.88     8.82   167.88   \n",
       "4   00005_sd669_sl11_pd214_pl9_sv8_bp13_ba810_bp57   669.21    11.46   213.87   \n",
       "\n",
       "   pockLen  slugVel  basePer  baseAmp  basePha  simTime  out_oopDisp_mm_n2  \\\n",
       "0    10.06     5.77    12.55     0.85    74.10     45.8             197.45   \n",
       "1    11.25     7.42    11.63     0.80    59.11     44.0             186.85   \n",
       "2    12.52     7.42    11.54     0.65    65.23     48.2             155.47   \n",
       "3     9.84     9.52    11.48     0.67    67.85     30.8             169.47   \n",
       "4     8.56     8.18    12.86     0.81    56.68     37.7             223.64   \n",
       "\n",
       "   out_supReac_kN_n3  out_supReac_kN_n4  out_verDisp_mm_n5  out_oopDisp_mm_n5  \\\n",
       "0              16.22              56.42             248.24             180.47   \n",
       "1              15.97              58.86             262.33             178.72   \n",
       "2              14.29              48.63             220.89             163.53   \n",
       "3              15.18              48.72             188.47             163.76   \n",
       "4              16.90              58.51             271.74             242.37   \n",
       "\n",
       "   out_endBend_kNm_n6  \n",
       "0              198.49  \n",
       "1              238.07  \n",
       "2              180.64  \n",
       "3              233.31  \n",
       "4              219.33  "
      ]
     },
     "execution_count": 3,
     "metadata": {},
     "output_type": "execute_result"
    }
   ],
   "source": [
    "slug.head()"
   ]
  },
  {
   "cell_type": "code",
   "execution_count": 4,
   "metadata": {},
   "outputs": [],
   "source": [
    "slug = slug.dropna()"
   ]
  },
  {
   "cell_type": "code",
   "execution_count": 5,
   "metadata": {},
   "outputs": [],
   "source": [
    "#Shuffle the dataset\n",
    "slug = slug.sample(frac=1).reset_index(drop=True)"
   ]
  },
  {
   "cell_type": "code",
   "execution_count": 6,
   "metadata": {},
   "outputs": [
    {
     "name": "stderr",
     "output_type": "stream",
     "text": [
      "C:\\Users\\mania\\Anaconda3\\lib\\site-packages\\ipykernel_launcher.py:5: SettingWithCopyWarning: \n",
      "A value is trying to be set on a copy of a slice from a DataFrame.\n",
      "Try using .loc[row_indexer,col_indexer] = value instead\n",
      "\n",
      "See the caveats in the documentation: https://pandas.pydata.org/pandas-docs/stable/user_guide/indexing.html#returning-a-view-versus-a-copy\n",
      "  \"\"\"\n",
      "C:\\Users\\mania\\Anaconda3\\lib\\site-packages\\ipykernel_launcher.py:6: SettingWithCopyWarning: \n",
      "A value is trying to be set on a copy of a slice from a DataFrame.\n",
      "Try using .loc[row_indexer,col_indexer] = value instead\n",
      "\n",
      "See the caveats in the documentation: https://pandas.pydata.org/pandas-docs/stable/user_guide/indexing.html#returning-a-view-versus-a-copy\n",
      "  \n"
     ]
    }
   ],
   "source": [
    "#Select columns\n",
    "slug_df = slug[[\"slugDen\",\"slugLen\",\"pockDen\",\"pockLen\",\"slugVel\",\"basePer\", \"baseAmp\", \"basePha\"]]\n",
    "\n",
    "#Create new features\n",
    "slug_df['densDiff'] = slug_df['slugDen'] - slug_df['pockDen']\n",
    "slug_df['centrFor'] = slug_df['slugVel']**2 * slug_df['densDiff']"
   ]
  },
  {
   "cell_type": "code",
   "execution_count": 7,
   "metadata": {},
   "outputs": [],
   "source": [
    "scaler = preprocessing.StandardScaler()\n",
    "scaler = scaler.fit(slug_df)"
   ]
  },
  {
   "cell_type": "code",
   "execution_count": 8,
   "metadata": {},
   "outputs": [],
   "source": [
    "#Create Targets\n",
    "slug_tar = slug[[\"out_oopDisp_mm_n2\", \"out_oopDisp_mm_n5\", \"out_endBend_kNm_n6\"]]"
   ]
  },
  {
   "cell_type": "code",
   "execution_count": 9,
   "metadata": {},
   "outputs": [
    {
     "data": {
      "text/html": [
       "<div>\n",
       "<style scoped>\n",
       "    .dataframe tbody tr th:only-of-type {\n",
       "        vertical-align: middle;\n",
       "    }\n",
       "\n",
       "    .dataframe tbody tr th {\n",
       "        vertical-align: top;\n",
       "    }\n",
       "\n",
       "    .dataframe thead th {\n",
       "        text-align: right;\n",
       "    }\n",
       "</style>\n",
       "<table border=\"1\" class=\"dataframe\">\n",
       "  <thead>\n",
       "    <tr style=\"text-align: right;\">\n",
       "      <th></th>\n",
       "      <th>out_oopDisp_mm_n2</th>\n",
       "      <th>out_oopDisp_mm_n5</th>\n",
       "      <th>out_endBend_kNm_n6</th>\n",
       "    </tr>\n",
       "  </thead>\n",
       "  <tbody>\n",
       "    <tr>\n",
       "      <th>0</th>\n",
       "      <td>191.21</td>\n",
       "      <td>191.13</td>\n",
       "      <td>192.14</td>\n",
       "    </tr>\n",
       "    <tr>\n",
       "      <th>1</th>\n",
       "      <td>152.15</td>\n",
       "      <td>144.15</td>\n",
       "      <td>135.66</td>\n",
       "    </tr>\n",
       "    <tr>\n",
       "      <th>2</th>\n",
       "      <td>175.46</td>\n",
       "      <td>166.23</td>\n",
       "      <td>165.32</td>\n",
       "    </tr>\n",
       "    <tr>\n",
       "      <th>3</th>\n",
       "      <td>137.66</td>\n",
       "      <td>133.85</td>\n",
       "      <td>165.28</td>\n",
       "    </tr>\n",
       "    <tr>\n",
       "      <th>4</th>\n",
       "      <td>174.36</td>\n",
       "      <td>166.37</td>\n",
       "      <td>228.65</td>\n",
       "    </tr>\n",
       "  </tbody>\n",
       "</table>\n",
       "</div>"
      ],
      "text/plain": [
       "   out_oopDisp_mm_n2  out_oopDisp_mm_n5  out_endBend_kNm_n6\n",
       "0             191.21             191.13              192.14\n",
       "1             152.15             144.15              135.66\n",
       "2             175.46             166.23              165.32\n",
       "3             137.66             133.85              165.28\n",
       "4             174.36             166.37              228.65"
      ]
     },
     "execution_count": 9,
     "metadata": {},
     "output_type": "execute_result"
    }
   ],
   "source": [
    "slug_tar.head()"
   ]
  },
  {
   "cell_type": "code",
   "execution_count": 10,
   "metadata": {},
   "outputs": [],
   "source": [
    "#Scale independent variables\n",
    "slug_train_df = np.array(scaler.transform(slug_df))"
   ]
  },
  {
   "cell_type": "code",
   "execution_count": 11,
   "metadata": {},
   "outputs": [],
   "source": [
    "#First 40,000 used to train model, test on remainder\n",
    "train_df = np.array(scaler.transform(slug_df[:40000]))\n",
    "train_tar = np.array(slug_tar[:40000])\n",
    "test_df = np.array(scaler.transform(slug_df[40000:]))\n",
    "test_tar = np.array(slug_tar[40000:])"
   ]
  },
  {
   "cell_type": "code",
   "execution_count": 169,
   "metadata": {},
   "outputs": [],
   "source": [
    "def get_model(n_inputs, n_outputs):\n",
    "    model = Sequential()\n",
    "    model.add(Dense(256, input_dim=n_inputs, activation='relu'))\n",
    "    \n",
    "    model.add(Dense(512, activation='relu'))\n",
    "        \n",
    "    model.add(Dense(256, activation='relu'))\n",
    "    \n",
    "    model.add(Dense(128, activation='relu'))\n",
    "    \n",
    "    model.add(Dense(64, activation='relu'))\n",
    "    \n",
    "    model.add(Dense(n_outputs, activation='linear'))\n",
    "    model.compile(loss='mean_squared_error', optimizer='adam', metrics=['mean_squared_error'])\n",
    "    return model"
   ]
  },
  {
   "cell_type": "code",
   "execution_count": 170,
   "metadata": {},
   "outputs": [],
   "source": [
    "n_inputs, n_outputs = train_df.shape[1], train_tar.shape[1]"
   ]
  },
  {
   "cell_type": "code",
   "execution_count": 171,
   "metadata": {},
   "outputs": [],
   "source": [
    "model = get_model(n_inputs, n_outputs)"
   ]
  },
  {
   "cell_type": "code",
   "execution_count": 172,
   "metadata": {},
   "outputs": [
    {
     "name": "stdout",
     "output_type": "stream",
     "text": [
      "Train on 49975 samples\n",
      "Epoch 1/100\n",
      "49975/49975 [==============================] - 2s 34us/sample - loss: 2916.3169 - mean_squared_error: 2916.3171\n",
      "Epoch 2/100\n",
      "49975/49975 [==============================] - 1s 26us/sample - loss: 606.1554 - mean_squared_error: 606.1551\n",
      "Epoch 3/100\n",
      "49975/49975 [==============================] - 1s 28us/sample - loss: 515.4928 - mean_squared_error: 515.4926\n",
      "Epoch 4/100\n",
      "49975/49975 [==============================] - 1s 29us/sample - loss: 427.9347 - mean_squared_error: 427.9345\n",
      "Epoch 5/100\n",
      "49975/49975 [==============================] - 1s 28us/sample - loss: 350.1869 - mean_squared_error: 350.1869\n",
      "Epoch 6/100\n",
      "49975/49975 [==============================] - 1s 28us/sample - loss: 311.1107 - mean_squared_error: 311.1106\n",
      "Epoch 7/100\n",
      "49975/49975 [==============================] - 1s 28us/sample - loss: 285.1039 - mean_squared_error: 285.1039\n",
      "Epoch 8/100\n",
      "49975/49975 [==============================] - 1s 28us/sample - loss: 266.1507 - mean_squared_error: 266.1506\n",
      "Epoch 9/100\n",
      "49975/49975 [==============================] - 1s 28us/sample - loss: 247.9540 - mean_squared_error: 247.9539\n",
      "Epoch 10/100\n",
      "49975/49975 [==============================] - 1s 28us/sample - loss: 227.8169 - mean_squared_error: 227.8168\n",
      "Epoch 11/100\n",
      "49975/49975 [==============================] - 1s 27us/sample - loss: 224.2536 - mean_squared_error: 224.2537\n",
      "Epoch 12/100\n",
      "49975/49975 [==============================] - 1s 28us/sample - loss: 216.8460 - mean_squared_error: 216.8461\n",
      "Epoch 13/100\n",
      "49975/49975 [==============================] - 1s 28us/sample - loss: 207.4090 - mean_squared_error: 207.4089\n",
      "Epoch 14/100\n",
      "49975/49975 [==============================] - 1s 28us/sample - loss: 204.7767 - mean_squared_error: 204.7767\n",
      "Epoch 15/100\n",
      "49975/49975 [==============================] - 1s 28us/sample - loss: 194.9986 - mean_squared_error: 194.9986\n",
      "Epoch 16/100\n",
      "49975/49975 [==============================] - 1s 29us/sample - loss: 188.7060 - mean_squared_error: 188.7060\n",
      "Epoch 17/100\n",
      "49975/49975 [==============================] - 1s 28us/sample - loss: 189.7238 - mean_squared_error: 189.7238\n",
      "Epoch 18/100\n",
      "49975/49975 [==============================] - 1s 28us/sample - loss: 185.4507 - mean_squared_error: 185.4507\n",
      "Epoch 19/100\n",
      "49975/49975 [==============================] - 1s 28us/sample - loss: 175.7922 - mean_squared_error: 175.7921\n",
      "Epoch 20/100\n",
      "49975/49975 [==============================] - 1s 28us/sample - loss: 169.7233 - mean_squared_error: 169.7232\n",
      "Epoch 21/100\n",
      "49975/49975 [==============================] - 1s 28us/sample - loss: 165.9792 - mean_squared_error: 165.9792\n",
      "Epoch 22/100\n",
      "49975/49975 [==============================] - 1s 29us/sample - loss: 165.9351 - mean_squared_error: 165.9352\n",
      "Epoch 23/100\n",
      "49975/49975 [==============================] - 1s 27us/sample - loss: 161.1977 - mean_squared_error: 161.1977\n",
      "Epoch 24/100\n",
      "49975/49975 [==============================] - 1s 28us/sample - loss: 155.0520 - mean_squared_error: 155.0520\n",
      "Epoch 25/100\n",
      "49975/49975 [==============================] - 1s 28us/sample - loss: 155.4104 - mean_squared_error: 155.4104\n",
      "Epoch 26/100\n",
      "49975/49975 [==============================] - 1s 28us/sample - loss: 147.3535 - mean_squared_error: 147.3535\n",
      "Epoch 27/100\n",
      "49975/49975 [==============================] - 1s 28us/sample - loss: 143.5029 - mean_squared_error: 143.5028\n",
      "Epoch 28/100\n",
      "49975/49975 [==============================] - 1s 28us/sample - loss: 141.8892 - mean_squared_error: 141.8892\n",
      "Epoch 29/100\n",
      "49975/49975 [==============================] - 1s 28us/sample - loss: 136.4108 - mean_squared_error: 136.4108\n",
      "Epoch 30/100\n",
      "49975/49975 [==============================] - 1s 29us/sample - loss: 131.6558 - mean_squared_error: 131.6557\n",
      "Epoch 31/100\n",
      "49975/49975 [==============================] - 1s 29us/sample - loss: 128.6238 - mean_squared_error: 128.6238\n",
      "Epoch 32/100\n",
      "49975/49975 [==============================] - 1s 29us/sample - loss: 122.2814 - mean_squared_error: 122.2814\n",
      "Epoch 33/100\n",
      "49975/49975 [==============================] - 1s 27us/sample - loss: 117.4474 - mean_squared_error: 117.4474\n",
      "Epoch 34/100\n",
      "49975/49975 [==============================] - 1s 28us/sample - loss: 116.5916 - mean_squared_error: 116.5916\n",
      "Epoch 35/100\n",
      "49975/49975 [==============================] - 1s 27us/sample - loss: 116.8561 - mean_squared_error: 116.8561\n",
      "Epoch 36/100\n",
      "49975/49975 [==============================] - 1s 27us/sample - loss: 107.7294 - mean_squared_error: 107.7293\n",
      "Epoch 37/100\n",
      "49975/49975 [==============================] - 1s 28us/sample - loss: 103.5332 - mean_squared_error: 103.5331\n",
      "Epoch 38/100\n",
      "49975/49975 [==============================] - 1s 28us/sample - loss: 101.7653 - mean_squared_error: 101.7653\n",
      "Epoch 39/100\n",
      "49975/49975 [==============================] - 1s 28us/sample - loss: 99.2131 - mean_squared_error: 99.2132\n",
      "Epoch 40/100\n",
      "49975/49975 [==============================] - 1s 28us/sample - loss: 97.3573 - mean_squared_error: 97.3573\n",
      "Epoch 41/100\n",
      "49975/49975 [==============================] - 1s 28us/sample - loss: 94.8474 - mean_squared_error: 94.8474\n",
      "Epoch 42/100\n",
      "49975/49975 [==============================] - 1s 28us/sample - loss: 92.1428 - mean_squared_error: 92.1428\n",
      "Epoch 43/100\n",
      "49975/49975 [==============================] - 1s 27us/sample - loss: 98.1964 - mean_squared_error: 98.1964\n",
      "Epoch 44/100\n",
      "49975/49975 [==============================] - 1s 28us/sample - loss: 90.0042 - mean_squared_error: 90.0042\n",
      "Epoch 45/100\n",
      "49975/49975 [==============================] - 1s 29us/sample - loss: 90.6713 - mean_squared_error: 90.6713\n",
      "Epoch 46/100\n",
      "49975/49975 [==============================] - 1s 28us/sample - loss: 87.4590 - mean_squared_error: 87.4590\n",
      "Epoch 47/100\n",
      "49975/49975 [==============================] - 1s 29us/sample - loss: 83.1858 - mean_squared_error: 83.1858\n",
      "Epoch 48/100\n",
      "49975/49975 [==============================] - 1s 28us/sample - loss: 84.4177 - mean_squared_error: 84.4178\n",
      "Epoch 49/100\n",
      "49975/49975 [==============================] - 1s 28us/sample - loss: 80.4779 - mean_squared_error: 80.4779\n",
      "Epoch 50/100\n",
      "49975/49975 [==============================] - 1s 28us/sample - loss: 91.3387 - mean_squared_error: 91.3387\n",
      "Epoch 51/100\n",
      "49975/49975 [==============================] - 1s 29us/sample - loss: 77.8024 - mean_squared_error: 77.8025\n",
      "Epoch 52/100\n",
      "49975/49975 [==============================] - 1s 28us/sample - loss: 82.2338 - mean_squared_error: 82.2337\n",
      "Epoch 53/100\n",
      "49975/49975 [==============================] - 1s 28us/sample - loss: 73.8544 - mean_squared_error: 73.8544\n",
      "Epoch 54/100\n",
      "49975/49975 [==============================] - 1s 27us/sample - loss: 78.0573 - mean_squared_error: 78.0573\n",
      "Epoch 55/100\n",
      "49975/49975 [==============================] - 1s 27us/sample - loss: 74.0974 - mean_squared_error: 74.0974\n",
      "Epoch 56/100\n",
      "49975/49975 [==============================] - 1s 27us/sample - loss: 73.8913 - mean_squared_error: 73.8913\n",
      "Epoch 57/100\n",
      "49975/49975 [==============================] - 1s 28us/sample - loss: 73.4254 - mean_squared_error: 73.4254\n",
      "Epoch 58/100\n",
      "49975/49975 [==============================] - 2s 32us/sample - loss: 70.9509 - mean_squared_error: 70.9509\n",
      "Epoch 59/100\n",
      "49975/49975 [==============================] - 1s 26us/sample - loss: 68.6347 - mean_squared_error: 68.6347\n",
      "Epoch 60/100\n",
      "49975/49975 [==============================] - 1s 26us/sample - loss: 73.0892 - mean_squared_error: 73.0891\n",
      "Epoch 61/100\n",
      "49975/49975 [==============================] - 1s 26us/sample - loss: 65.8788 - mean_squared_error: 65.8788\n",
      "Epoch 62/100\n",
      "49975/49975 [==============================] - 1s 27us/sample - loss: 68.5365 - mean_squared_error: 68.5365\n",
      "Epoch 63/100\n",
      "49975/49975 [==============================] - 1s 27us/sample - loss: 66.6283 - mean_squared_error: 66.6283\n",
      "Epoch 64/100\n",
      "49975/49975 [==============================] - 1s 27us/sample - loss: 65.0255 - mean_squared_error: 65.0255\n",
      "Epoch 65/100\n",
      "49975/49975 [==============================] - 1s 27us/sample - loss: 65.8253 - mean_squared_error: 65.8253\n",
      "Epoch 66/100\n",
      "49975/49975 [==============================] - 1s 27us/sample - loss: 63.2024 - mean_squared_error: 63.2024\n",
      "Epoch 67/100\n",
      "49975/49975 [==============================] - 1s 27us/sample - loss: 66.4492 - mean_squared_error: 66.4492\n"
     ]
    },
    {
     "name": "stdout",
     "output_type": "stream",
     "text": [
      "Epoch 68/100\n",
      "49975/49975 [==============================] - 1s 27us/sample - loss: 66.2501 - mean_squared_error: 66.2502\n",
      "Epoch 69/100\n",
      "49975/49975 [==============================] - 1s 27us/sample - loss: 60.9512 - mean_squared_error: 60.9513\n",
      "Epoch 70/100\n",
      "49975/49975 [==============================] - 1s 27us/sample - loss: 60.2436 - mean_squared_error: 60.2435\n",
      "Epoch 71/100\n",
      "49975/49975 [==============================] - 1s 27us/sample - loss: 57.5939 - mean_squared_error: 57.5939\n",
      "Epoch 72/100\n",
      "49975/49975 [==============================] - 1s 28us/sample - loss: 60.9207 - mean_squared_error: 60.9207\n",
      "Epoch 73/100\n",
      "49975/49975 [==============================] - 1s 27us/sample - loss: 59.6617 - mean_squared_error: 59.6617\n",
      "Epoch 74/100\n",
      "49975/49975 [==============================] - 1s 27us/sample - loss: 58.0585 - mean_squared_error: 58.0585\n",
      "Epoch 75/100\n",
      "49975/49975 [==============================] - 1s 27us/sample - loss: 59.1702 - mean_squared_error: 59.1702\n",
      "Epoch 76/100\n",
      "49975/49975 [==============================] - 1s 27us/sample - loss: 56.6699 - mean_squared_error: 56.6699\n",
      "Epoch 77/100\n",
      "49975/49975 [==============================] - 1s 27us/sample - loss: 54.8681 - mean_squared_error: 54.8681\n",
      "Epoch 78/100\n",
      "49975/49975 [==============================] - 1s 27us/sample - loss: 58.2923 - mean_squared_error: 58.2923\n",
      "Epoch 79/100\n",
      "49975/49975 [==============================] - 1s 27us/sample - loss: 56.8162 - mean_squared_error: 56.8162\n",
      "Epoch 80/100\n",
      "49975/49975 [==============================] - 1s 27us/sample - loss: 54.1755 - mean_squared_error: 54.1755\n",
      "Epoch 81/100\n",
      "49975/49975 [==============================] - 1s 27us/sample - loss: 55.7594 - mean_squared_error: 55.7594\n",
      "Epoch 82/100\n",
      "49975/49975 [==============================] - 1s 27us/sample - loss: 53.3309 - mean_squared_error: 53.3309\n",
      "Epoch 83/100\n",
      "49975/49975 [==============================] - 1s 27us/sample - loss: 52.7346 - mean_squared_error: 52.7346\n",
      "Epoch 84/100\n",
      "49975/49975 [==============================] - 1s 27us/sample - loss: 55.2825 - mean_squared_error: 55.2825\n",
      "Epoch 85/100\n",
      "49975/49975 [==============================] - 1s 27us/sample - loss: 52.4556 - mean_squared_error: 52.4556\n",
      "Epoch 86/100\n",
      "49975/49975 [==============================] - 1s 27us/sample - loss: 52.4675 - mean_squared_error: 52.4675\n",
      "Epoch 87/100\n",
      "49975/49975 [==============================] - 1s 28us/sample - loss: 50.3490 - mean_squared_error: 50.3490\n",
      "Epoch 88/100\n",
      "49975/49975 [==============================] - 1s 27us/sample - loss: 52.8746 - mean_squared_error: 52.8746\n",
      "Epoch 89/100\n",
      "49975/49975 [==============================] - 1s 27us/sample - loss: 51.6969 - mean_squared_error: 51.6969\n",
      "Epoch 90/100\n",
      "49975/49975 [==============================] - 1s 27us/sample - loss: 49.1148 - mean_squared_error: 49.1148\n",
      "Epoch 91/100\n",
      "49975/49975 [==============================] - 1s 27us/sample - loss: 48.4167 - mean_squared_error: 48.4167\n",
      "Epoch 92/100\n",
      "49975/49975 [==============================] - 1s 27us/sample - loss: 48.3407 - mean_squared_error: 48.3407\n",
      "Epoch 93/100\n",
      "49975/49975 [==============================] - 1s 27us/sample - loss: 49.2013 - mean_squared_error: 49.2013\n",
      "Epoch 94/100\n",
      "49975/49975 [==============================] - 1s 27us/sample - loss: 49.3203 - mean_squared_error: 49.3203\n",
      "Epoch 95/100\n",
      "49975/49975 [==============================] - 1s 27us/sample - loss: 47.6763 - mean_squared_error: 47.6763\n",
      "Epoch 96/100\n",
      "49975/49975 [==============================] - 1s 27us/sample - loss: 46.9359 - mean_squared_error: 46.9359\n",
      "Epoch 97/100\n",
      "49975/49975 [==============================] - 1s 27us/sample - loss: 50.4335 - mean_squared_error: 50.4335\n",
      "Epoch 98/100\n",
      "49975/49975 [==============================] - 1s 27us/sample - loss: 46.8945 - mean_squared_error: 46.8945\n",
      "Epoch 99/100\n",
      "49975/49975 [==============================] - 1s 29us/sample - loss: 44.1452 - mean_squared_error: 44.1452\n",
      "Epoch 100/100\n",
      "49975/49975 [==============================] - 1s 27us/sample - loss: 46.0606 - mean_squared_error: 46.0606\n"
     ]
    },
    {
     "data": {
      "text/plain": [
       "<tensorflow.python.keras.callbacks.History at 0x300b9f43348>"
      ]
     },
     "execution_count": 172,
     "metadata": {},
     "output_type": "execute_result"
    }
   ],
   "source": [
    "model.fit(slug_train_df, slug_tar.values, epochs=100, batch_size=100)"
   ]
  },
  {
   "cell_type": "code",
   "execution_count": null,
   "metadata": {},
   "outputs": [],
   "source": []
  },
  {
   "cell_type": "code",
   "execution_count": 173,
   "metadata": {},
   "outputs": [],
   "source": [
    "#Use model to make predictions for test set\n",
    "preds = model.predict(test_df)"
   ]
  },
  {
   "cell_type": "code",
   "execution_count": 174,
   "metadata": {},
   "outputs": [
    {
     "data": {
      "text/plain": [
       "array([[186.71364, 199.40068, 288.21658],\n",
       "       [201.21779, 187.22932, 214.32243],\n",
       "       [181.9077 , 198.81194, 179.8568 ],\n",
       "       ...,\n",
       "       [187.39027, 209.10724, 204.3669 ],\n",
       "       [207.43307, 235.24199, 291.07812],\n",
       "       [229.57819, 231.11835, 258.1093 ]], dtype=float32)"
      ]
     },
     "execution_count": 174,
     "metadata": {},
     "output_type": "execute_result"
    }
   ],
   "source": [
    "preds"
   ]
  },
  {
   "cell_type": "code",
   "execution_count": 175,
   "metadata": {},
   "outputs": [
    {
     "data": {
      "text/plain": [
       "array([[184.81, 203.26, 276.91],\n",
       "       [200.75, 187.45, 211.6 ],\n",
       "       [180.7 , 202.46, 171.58],\n",
       "       ...,\n",
       "       [192.76, 203.26, 202.19],\n",
       "       [211.73, 242.58, 285.11],\n",
       "       [222.34, 234.51, 269.97]])"
      ]
     },
     "execution_count": 175,
     "metadata": {},
     "output_type": "execute_result"
    }
   ],
   "source": [
    "test_tar"
   ]
  },
  {
   "cell_type": "code",
   "execution_count": null,
   "metadata": {},
   "outputs": [],
   "source": []
  },
  {
   "cell_type": "code",
   "execution_count": 176,
   "metadata": {},
   "outputs": [],
   "source": [
    "mae = metrics.mean_absolute_error(test_tar, preds)\n",
    "mse = metrics.mean_squared_error(test_tar, preds)\n",
    "mape = metrics.mean_absolute_percentage_error(test_tar, preds)\n",
    "rmse = np.sqrt(mse) # or mse**(0.5)  \n",
    "r2 = metrics.r2_score(test_tar, preds)"
   ]
  },
  {
   "cell_type": "code",
   "execution_count": 177,
   "metadata": {},
   "outputs": [
    {
     "name": "stdout",
     "output_type": "stream",
     "text": [
      "MAE: 4.7\n",
      "MSE: 39.97\n",
      "MAPE: 0.02\n",
      "RMSE: 6.32\n",
      "R-Squared: 0.98\n"
     ]
    }
   ],
   "source": [
    "print(\"MAE:\", round(mae, 2))\n",
    "print(\"MSE:\", round(mse, 2))\n",
    "print(\"MAPE:\", round(mape, 2))\n",
    "print(\"RMSE:\", round(rmse, 2))\n",
    "print(\"R-Squared:\", round(r2, 2))"
   ]
  },
  {
   "cell_type": "code",
   "execution_count": null,
   "metadata": {},
   "outputs": [],
   "source": []
  },
  {
   "cell_type": "code",
   "execution_count": 178,
   "metadata": {},
   "outputs": [],
   "source": [
    "mae = metrics.mean_absolute_error(test_tar[:,0], preds[:,0])\n",
    "mse = metrics.mean_squared_error(test_tar[:,0], preds[:,0])\n",
    "mape = metrics.mean_absolute_percentage_error(test_tar[:,0], preds[:,0])\n",
    "rmse = np.sqrt(mse) # or mse**(0.5)  \n",
    "r2 = metrics.r2_score(test_tar[:,0], preds[:,0])"
   ]
  },
  {
   "cell_type": "code",
   "execution_count": 179,
   "metadata": {},
   "outputs": [
    {
     "name": "stdout",
     "output_type": "stream",
     "text": [
      "Target 1\n",
      "MAE: 3.09\n",
      "MSE: 16.18\n",
      "MAPE: 0.02\n",
      "RMSE: 4.02\n",
      "R-Squared: 0.98\n"
     ]
    }
   ],
   "source": [
    "print(\"Target 1\")\n",
    "print(\"MAE:\", round(mae, 2))\n",
    "print(\"MSE:\", round(mse, 2))\n",
    "print(\"MAPE:\", round(mape, 2))\n",
    "print(\"RMSE:\", round(rmse, 2))\n",
    "print(\"R-Squared:\", round(r2, 2))"
   ]
  },
  {
   "cell_type": "code",
   "execution_count": null,
   "metadata": {},
   "outputs": [],
   "source": []
  },
  {
   "cell_type": "code",
   "execution_count": 180,
   "metadata": {},
   "outputs": [],
   "source": [
    "mae = metrics.mean_absolute_error(test_tar[:,1], preds[:,1])\n",
    "mse = metrics.mean_squared_error(test_tar[:,1], preds[:,1])\n",
    "mape = metrics.mean_absolute_percentage_error(test_tar[:,1], preds[:,1])\n",
    "rmse = np.sqrt(mse) # or mse**(0.5)  \n",
    "r2 = metrics.r2_score(test_tar[:,1], preds[:,1])"
   ]
  },
  {
   "cell_type": "code",
   "execution_count": 181,
   "metadata": {},
   "outputs": [
    {
     "name": "stdout",
     "output_type": "stream",
     "text": [
      "Target 2\n",
      "MAE: 4.51\n",
      "MSE: 33.68\n",
      "MAPE: 0.02\n",
      "RMSE: 5.8\n",
      "R-Squared: 0.98\n"
     ]
    }
   ],
   "source": [
    "print(\"Target 2\")\n",
    "print(\"MAE:\", round(mae, 2))\n",
    "print(\"MSE:\", round(mse, 2))\n",
    "print(\"MAPE:\", round(mape, 2))\n",
    "print(\"RMSE:\", round(rmse, 2))\n",
    "print(\"R-Squared:\", round(r2, 2))"
   ]
  },
  {
   "cell_type": "code",
   "execution_count": null,
   "metadata": {},
   "outputs": [],
   "source": []
  },
  {
   "cell_type": "code",
   "execution_count": 182,
   "metadata": {},
   "outputs": [],
   "source": [
    "mae = metrics.mean_absolute_error(test_tar[:,2], preds[:,2])\n",
    "mse = metrics.mean_squared_error(test_tar[:,2], preds[:,2])\n",
    "mape = metrics.mean_absolute_percentage_error(test_tar[:,2], preds[:,2])\n",
    "rmse = np.sqrt(mse) # or mse**(0.5)  \n",
    "r2 = metrics.r2_score(test_tar[:,2], preds[:,2])"
   ]
  },
  {
   "cell_type": "code",
   "execution_count": 183,
   "metadata": {},
   "outputs": [
    {
     "name": "stdout",
     "output_type": "stream",
     "text": [
      "Target 3\n",
      "MAE: 6.49\n",
      "MSE: 70.04\n",
      "MAPE: 0.03\n",
      "RMSE: 8.37\n",
      "R-Squared: 0.98\n"
     ]
    }
   ],
   "source": [
    "print(\"Target 3\")\n",
    "print(\"MAE:\", round(mae, 2))\n",
    "print(\"MSE:\", round(mse, 2))\n",
    "print(\"MAPE:\", round(mape, 2))\n",
    "print(\"RMSE:\", round(rmse, 2))\n",
    "print(\"R-Squared:\", round(r2, 2))"
   ]
  },
  {
   "cell_type": "code",
   "execution_count": null,
   "metadata": {},
   "outputs": [],
   "source": []
  }
 ],
 "metadata": {
  "kernelspec": {
   "display_name": "Python 3",
   "language": "python",
   "name": "python3"
  },
  "language_info": {
   "codemirror_mode": {
    "name": "ipython",
    "version": 3
   },
   "file_extension": ".py",
   "mimetype": "text/x-python",
   "name": "python",
   "nbconvert_exporter": "python",
   "pygments_lexer": "ipython3",
   "version": "3.7.4"
  }
 },
 "nbformat": 4,
 "nbformat_minor": 2
}
