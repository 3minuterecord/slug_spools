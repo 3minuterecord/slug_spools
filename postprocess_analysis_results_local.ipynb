{
 "cells": [
  {
   "cell_type": "markdown",
   "id": "6566b80e",
   "metadata": {},
   "source": [
    "### Postprocessing Results"
   ]
  },
  {
   "cell_type": "code",
   "execution_count": 26,
   "id": "9c74a5de",
   "metadata": {},
   "outputs": [],
   "source": [
    "import glob as gb\n",
    "import ntpath # Equivalent of R's base (remove path)\n",
    "import pandas as pd"
   ]
  },
  {
   "cell_type": "code",
   "execution_count": 31,
   "id": "befa9be5",
   "metadata": {},
   "outputs": [],
   "source": [
    "# Specify the folder where the results are located\n",
    "BUCKET = 'bucket1'\n",
    "local_dir = f'/Users/jasonpayne/Documents/slu_res/{BUCKET}/'\n",
    "plot_files = gb.glob(f'{local_dir}*.mplt')"
   ]
  },
  {
   "cell_type": "code",
   "execution_count": 32,
   "id": "08f746a0",
   "metadata": {},
   "outputs": [],
   "source": [
    "# Create a list of load cases that are covered by the timetrace files\n",
    "lc_files = []\n",
    "for file_p in plot_files:\n",
    "    lc_files.append(ntpath.basename(file_p[:len(file_p) - 8]))\n",
    "    \n",
    "lc_files = list(dict.fromkeys(lc_files))\n",
    "lc_files.sort()"
   ]
  },
  {
   "cell_type": "code",
   "execution_count": 33,
   "id": "c712b39e",
   "metadata": {},
   "outputs": [],
   "source": [
    "# Create empty lists of take processed results\n",
    "load_cases = []\n",
    "out_verDisp_mm_n5 = []\n",
    "out_oopDisp_mm_n5 = []\n",
    "out_oopDisp_mm_n2 = []\n",
    "out_endBend_kNm_n6 = []\n",
    "out_supReac_kN_n3 = []\n",
    "out_supReac_kN_n4 = []\n",
    "\n",
    "# Loop through and process each load case and each plot file in each load case\n",
    "for lc in lc_files:\n",
    "    load_cases.append(lc)\n",
    "    for tt in ['T1', 'T3', 'T4', 'T5', 'T6', 'T7']:\n",
    "        # Form the filename from the load case reference\n",
    "        file_p = f'{lc}.{tt}.mplt'\n",
    "        \n",
    "        # Download blob as StorageStreamDownloader object (stored in memory)\n",
    "        plot_raw = pd.read_csv(f'{local_dir}{file_p}', skiprows=12, delimiter='\"')\n",
    "        dat_dt = {'time':plot_raw.iloc[:,3].dropna(), 'value':plot_raw.iloc[:,5].dropna()}\n",
    "        dat_df = pd.DataFrame(dat_dt)\n",
    "\n",
    "        # Breakdown of types of timetrace\n",
    "        motions = ['T1', 'T2', 'T3', 'T4']\n",
    "        moments = ['T5', 'T6']\n",
    "        reactin = ['T7']\n",
    "\n",
    "        # Some unit conversions depending on type\n",
    "        # Use mm for displacement ranges\n",
    "        if (any(x in file_p for x in motions)):\n",
    "            dat_df.value = dat_df.value*1000\n",
    "\n",
    "        elif (any(x in file_p for x in moments)):\n",
    "            dat_df.value = dat_df.value/1000\n",
    "\n",
    "        elif (any(x in file_p for x in reactin)):\n",
    "            dat_df.value = dat_df.value/1000\n",
    "\n",
    "        # Calculate the range\n",
    "        dat_range = dat_df.value.max() - dat_df.value.min()\n",
    "        print(file_p[:len(file_p) - 8])\n",
    "        print(f'Max: {round(dat_df.value.max(), 1)}, Min: {round(dat_df.value.min(), 1)}') \n",
    "        print('Range: ', round(dat_range, 1), '\\n')\n",
    "\n",
    "        # Collect the results\n",
    "        if 'T1' in file_p:\n",
    "            out_verDisp_mm_n5.append(round(dat_range, 2))\n",
    "        elif 'T3' in file_p:\n",
    "            out_oopDisp_mm_n5.append(round(dat_range, 2))\n",
    "        elif 'T4' in file_p:\n",
    "            out_oopDisp_mm_n2.append(round(dat_range, 2))\n",
    "        elif 'T5' in file_p:\n",
    "            out_endBend_kNm_n6.append(round(dat_range, 2))\n",
    "        elif 'T6' in file_p:\n",
    "            out_supReac_kN_n3.append(round(dat_range, 2)) \n",
    "        elif 'T7' in file_p:\n",
    "            out_supReac_kN_n4.append(round(dat_range, 2))     \n",
    "    "
   ]
  },
  {
   "cell_type": "code",
   "execution_count": 30,
   "id": "5cbb6685",
   "metadata": {},
   "outputs": [
    {
     "ename": "ValueError",
     "evalue": "Length of values (142) does not match length of index (143)",
     "output_type": "error",
     "traceback": [
      "\u001b[0;31m---------------------------------------------------------------------------\u001b[0m",
      "\u001b[0;31mValueError\u001b[0m                                Traceback (most recent call last)",
      "Input \u001b[0;32mIn [30]\u001b[0m, in \u001b[0;36m<module>\u001b[0;34m\u001b[0m\n\u001b[1;32m      3\u001b[0m res_df[\u001b[38;5;124m'\u001b[39m\u001b[38;5;124mout_oopDisp_mm_n2\u001b[39m\u001b[38;5;124m'\u001b[39m] \u001b[38;5;241m=\u001b[39m out_oopDisp_mm_n2\n\u001b[1;32m      4\u001b[0m res_df[\u001b[38;5;124m'\u001b[39m\u001b[38;5;124mout_supReac_kN_n3\u001b[39m\u001b[38;5;124m'\u001b[39m] \u001b[38;5;241m=\u001b[39m out_supReac_kN_n3\n\u001b[0;32m----> 5\u001b[0m res_df[\u001b[38;5;124m'\u001b[39m\u001b[38;5;124mout_supReac_kN_n4\u001b[39m\u001b[38;5;124m'\u001b[39m] \u001b[38;5;241m=\u001b[39m out_supReac_kN_n4\n\u001b[1;32m      6\u001b[0m res_df[\u001b[38;5;124m'\u001b[39m\u001b[38;5;124mout_verDisp_mm_n5\u001b[39m\u001b[38;5;124m'\u001b[39m] \u001b[38;5;241m=\u001b[39m out_verDisp_mm_n5\n\u001b[1;32m      7\u001b[0m res_df[\u001b[38;5;124m'\u001b[39m\u001b[38;5;124mout_oopDisp_mm_n5\u001b[39m\u001b[38;5;124m'\u001b[39m] \u001b[38;5;241m=\u001b[39m out_oopDisp_mm_n5\n",
      "File \u001b[0;32m~/miniforge3/envs/work/lib/python3.8/site-packages/pandas/core/frame.py:3656\u001b[0m, in \u001b[0;36mDataFrame.__setitem__\u001b[0;34m(self, key, value)\u001b[0m\n\u001b[1;32m   3653\u001b[0m     \u001b[38;5;28mself\u001b[39m\u001b[38;5;241m.\u001b[39m_setitem_array([key], value)\n\u001b[1;32m   3654\u001b[0m \u001b[38;5;28;01melse\u001b[39;00m:\n\u001b[1;32m   3655\u001b[0m     \u001b[38;5;66;03m# set column\u001b[39;00m\n\u001b[0;32m-> 3656\u001b[0m     \u001b[38;5;28;43mself\u001b[39;49m\u001b[38;5;241;43m.\u001b[39;49m\u001b[43m_set_item\u001b[49m\u001b[43m(\u001b[49m\u001b[43mkey\u001b[49m\u001b[43m,\u001b[49m\u001b[43m \u001b[49m\u001b[43mvalue\u001b[49m\u001b[43m)\u001b[49m\n",
      "File \u001b[0;32m~/miniforge3/envs/work/lib/python3.8/site-packages/pandas/core/frame.py:3833\u001b[0m, in \u001b[0;36mDataFrame._set_item\u001b[0;34m(self, key, value)\u001b[0m\n\u001b[1;32m   3823\u001b[0m \u001b[38;5;28;01mdef\u001b[39;00m \u001b[38;5;21m_set_item\u001b[39m(\u001b[38;5;28mself\u001b[39m, key, value) \u001b[38;5;241m-\u001b[39m\u001b[38;5;241m>\u001b[39m \u001b[38;5;28;01mNone\u001b[39;00m:\n\u001b[1;32m   3824\u001b[0m     \u001b[38;5;124;03m\"\"\"\u001b[39;00m\n\u001b[1;32m   3825\u001b[0m \u001b[38;5;124;03m    Add series to DataFrame in specified column.\u001b[39;00m\n\u001b[1;32m   3826\u001b[0m \n\u001b[0;32m   (...)\u001b[0m\n\u001b[1;32m   3831\u001b[0m \u001b[38;5;124;03m    ensure homogeneity.\u001b[39;00m\n\u001b[1;32m   3832\u001b[0m \u001b[38;5;124;03m    \"\"\"\u001b[39;00m\n\u001b[0;32m-> 3833\u001b[0m     value \u001b[38;5;241m=\u001b[39m \u001b[38;5;28;43mself\u001b[39;49m\u001b[38;5;241;43m.\u001b[39;49m\u001b[43m_sanitize_column\u001b[49m\u001b[43m(\u001b[49m\u001b[43mvalue\u001b[49m\u001b[43m)\u001b[49m\n\u001b[1;32m   3835\u001b[0m     \u001b[38;5;28;01mif\u001b[39;00m (\n\u001b[1;32m   3836\u001b[0m         key \u001b[38;5;129;01min\u001b[39;00m \u001b[38;5;28mself\u001b[39m\u001b[38;5;241m.\u001b[39mcolumns\n\u001b[1;32m   3837\u001b[0m         \u001b[38;5;129;01mand\u001b[39;00m value\u001b[38;5;241m.\u001b[39mndim \u001b[38;5;241m==\u001b[39m \u001b[38;5;241m1\u001b[39m\n\u001b[1;32m   3838\u001b[0m         \u001b[38;5;129;01mand\u001b[39;00m \u001b[38;5;129;01mnot\u001b[39;00m is_extension_array_dtype(value)\n\u001b[1;32m   3839\u001b[0m     ):\n\u001b[1;32m   3840\u001b[0m         \u001b[38;5;66;03m# broadcast across multiple columns if necessary\u001b[39;00m\n\u001b[1;32m   3841\u001b[0m         \u001b[38;5;28;01mif\u001b[39;00m \u001b[38;5;129;01mnot\u001b[39;00m \u001b[38;5;28mself\u001b[39m\u001b[38;5;241m.\u001b[39mcolumns\u001b[38;5;241m.\u001b[39mis_unique \u001b[38;5;129;01mor\u001b[39;00m \u001b[38;5;28misinstance\u001b[39m(\u001b[38;5;28mself\u001b[39m\u001b[38;5;241m.\u001b[39mcolumns, MultiIndex):\n",
      "File \u001b[0;32m~/miniforge3/envs/work/lib/python3.8/site-packages/pandas/core/frame.py:4537\u001b[0m, in \u001b[0;36mDataFrame._sanitize_column\u001b[0;34m(self, value)\u001b[0m\n\u001b[1;32m   4534\u001b[0m     \u001b[38;5;28;01mreturn\u001b[39;00m _reindex_for_setitem(value, \u001b[38;5;28mself\u001b[39m\u001b[38;5;241m.\u001b[39mindex)\n\u001b[1;32m   4536\u001b[0m \u001b[38;5;28;01mif\u001b[39;00m is_list_like(value):\n\u001b[0;32m-> 4537\u001b[0m     \u001b[43mcom\u001b[49m\u001b[38;5;241;43m.\u001b[39;49m\u001b[43mrequire_length_match\u001b[49m\u001b[43m(\u001b[49m\u001b[43mvalue\u001b[49m\u001b[43m,\u001b[49m\u001b[43m \u001b[49m\u001b[38;5;28;43mself\u001b[39;49m\u001b[38;5;241;43m.\u001b[39;49m\u001b[43mindex\u001b[49m\u001b[43m)\u001b[49m\n\u001b[1;32m   4538\u001b[0m \u001b[38;5;28;01mreturn\u001b[39;00m sanitize_array(value, \u001b[38;5;28mself\u001b[39m\u001b[38;5;241m.\u001b[39mindex, copy\u001b[38;5;241m=\u001b[39m\u001b[38;5;28;01mTrue\u001b[39;00m, allow_2d\u001b[38;5;241m=\u001b[39m\u001b[38;5;28;01mTrue\u001b[39;00m)\n",
      "File \u001b[0;32m~/miniforge3/envs/work/lib/python3.8/site-packages/pandas/core/common.py:557\u001b[0m, in \u001b[0;36mrequire_length_match\u001b[0;34m(data, index)\u001b[0m\n\u001b[1;32m    553\u001b[0m \u001b[38;5;124;03m\"\"\"\u001b[39;00m\n\u001b[1;32m    554\u001b[0m \u001b[38;5;124;03mCheck the length of data matches the length of the index.\u001b[39;00m\n\u001b[1;32m    555\u001b[0m \u001b[38;5;124;03m\"\"\"\u001b[39;00m\n\u001b[1;32m    556\u001b[0m \u001b[38;5;28;01mif\u001b[39;00m \u001b[38;5;28mlen\u001b[39m(data) \u001b[38;5;241m!=\u001b[39m \u001b[38;5;28mlen\u001b[39m(index):\n\u001b[0;32m--> 557\u001b[0m     \u001b[38;5;28;01mraise\u001b[39;00m \u001b[38;5;167;01mValueError\u001b[39;00m(\n\u001b[1;32m    558\u001b[0m         \u001b[38;5;124m\"\u001b[39m\u001b[38;5;124mLength of values \u001b[39m\u001b[38;5;124m\"\u001b[39m\n\u001b[1;32m    559\u001b[0m         \u001b[38;5;124mf\u001b[39m\u001b[38;5;124m\"\u001b[39m\u001b[38;5;124m(\u001b[39m\u001b[38;5;132;01m{\u001b[39;00m\u001b[38;5;28mlen\u001b[39m(data)\u001b[38;5;132;01m}\u001b[39;00m\u001b[38;5;124m) \u001b[39m\u001b[38;5;124m\"\u001b[39m\n\u001b[1;32m    560\u001b[0m         \u001b[38;5;124m\"\u001b[39m\u001b[38;5;124mdoes not match length of index \u001b[39m\u001b[38;5;124m\"\u001b[39m\n\u001b[1;32m    561\u001b[0m         \u001b[38;5;124mf\u001b[39m\u001b[38;5;124m\"\u001b[39m\u001b[38;5;124m(\u001b[39m\u001b[38;5;132;01m{\u001b[39;00m\u001b[38;5;28mlen\u001b[39m(index)\u001b[38;5;132;01m}\u001b[39;00m\u001b[38;5;124m)\u001b[39m\u001b[38;5;124m\"\u001b[39m\n\u001b[1;32m    562\u001b[0m     )\n",
      "\u001b[0;31mValueError\u001b[0m: Length of values (142) does not match length of index (143)"
     ]
    }
   ],
   "source": [
    "# Now compile the results in a single dataframe\n",
    "res_df = pd.DataFrame(load_cases, columns = ['load_case'])\n",
    "res_df['out_oopDisp_mm_n2'] = out_oopDisp_mm_n2\n",
    "res_df['out_supReac_kN_n3'] = out_supReac_kN_n3\n",
    "res_df['out_supReac_kN_n4'] = out_supReac_kN_n4\n",
    "res_df['out_verDisp_mm_n5'] = out_verDisp_mm_n5\n",
    "res_df['out_oopDisp_mm_n5'] = out_oopDisp_mm_n5\n",
    "res_df['out_endBend_kNm_n6'] = out_endBend_kNm_n6\n",
    "res_df"
   ]
  },
  {
   "cell_type": "code",
   "execution_count": null,
   "id": "dcc0e7b5",
   "metadata": {},
   "outputs": [],
   "source": [
    "# Write the results as a csv\n",
    "res_df.to_csv(f'{BUCKET}_results.csv', index=False)"
   ]
  }
 ],
 "metadata": {
  "kernelspec": {
   "display_name": "Python 3 (ipykernel)",
   "language": "python",
   "name": "python3"
  },
  "language_info": {
   "codemirror_mode": {
    "name": "ipython",
    "version": 3
   },
   "file_extension": ".py",
   "mimetype": "text/x-python",
   "name": "python",
   "nbconvert_exporter": "python",
   "pygments_lexer": "ipython3",
   "version": "3.8.12"
  }
 },
 "nbformat": 4,
 "nbformat_minor": 5
}
