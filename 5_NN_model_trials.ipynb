{
 "cells": [
  {
   "cell_type": "code",
   "execution_count": 4,
   "id": "aaf5c197",
   "metadata": {
    "executionInfo": {
     "elapsed": 852,
     "status": "ok",
     "timestamp": 1650183949215,
     "user": {
      "displayName": "Jason Payne",
      "userId": "02333409538928721620"
     },
     "user_tz": -60
    },
    "id": "aaf5c197"
   },
   "outputs": [],
   "source": [
    "import pandas as pd\n",
    "from sklearn import preprocessing\n",
    "from sklearn.model_selection import train_test_split \n",
    "from sklearn import datasets, linear_model, metrics\n",
    "import matplotlib.pyplot as plt\n",
    "import numpy as np"
   ]
  },
  {
   "cell_type": "code",
   "execution_count": 5,
   "id": "_m1K5lHlCq9o",
   "metadata": {
    "colab": {
     "base_uri": "https://localhost:8080/"
    },
    "executionInfo": {
     "elapsed": 19060,
     "status": "ok",
     "timestamp": 1650183969314,
     "user": {
      "displayName": "Jason Payne",
      "userId": "02333409538928721620"
     },
     "user_tz": -60
    },
    "id": "_m1K5lHlCq9o",
    "outputId": "be5d7f36-49c1-4922-8912-68de1a838888"
   },
   "outputs": [
    {
     "name": "stdout",
     "output_type": "stream",
     "text": [
      "Mounted at /content/drive\n"
     ]
    }
   ],
   "source": [
    "from google.colab import drive\n",
    "drive.mount('/content/drive')"
   ]
  },
  {
   "cell_type": "code",
   "execution_count": 6,
   "id": "4c227d47",
   "metadata": {
    "executionInfo": {
     "elapsed": 1490,
     "status": "ok",
     "timestamp": 1650183973884,
     "user": {
      "displayName": "Jason Payne",
      "userId": "02333409538928721620"
     },
     "user_tz": -60
    },
    "id": "4c227d47"
   },
   "outputs": [],
   "source": [
    "# Load the data\n",
    "#df_all = pd.read_csv('data/220306_slugs_dataset.csv')\n",
    "df_all = pd.read_csv('/content/drive/MyDrive/_MScDA 2021/5. Data Mining 2/CA1/data/220306_slugs_dataset.csv')\n",
    "df_inp = df_all.drop(['loadCase', 'out_supReac_kN_n3', 'out_supReac_kN_n4', 'out_verDisp_mm_n5'], axis=1)\n",
    "df_inp = df_inp.dropna()\n",
    "\n",
    "# Create some new features\n",
    "df_inp['densDiff'] = df_inp['slugDen'] - df_inp['pockDen']\n",
    "df_inp['centrFor'] = df_inp['slugVel']**2 * df_inp['densDiff']"
   ]
  },
  {
   "cell_type": "markdown",
   "id": "e20e87ad",
   "metadata": {
    "id": "e20e87ad"
   },
   "source": [
    "## Data Scaling & Splitting"
   ]
  },
  {
   "cell_type": "code",
   "execution_count": 7,
   "id": "fd0d2bad",
   "metadata": {
    "executionInfo": {
     "elapsed": 210,
     "status": "ok",
     "timestamp": 1650183975151,
     "user": {
      "displayName": "Jason Payne",
      "userId": "02333409538928721620"
     },
     "user_tz": -60
    },
    "id": "fd0d2bad"
   },
   "outputs": [],
   "source": [
    "df_scl = df_inp.copy(deep=True)\n",
    "scaler = preprocessing.StandardScaler() # Scale using standard deviation\n",
    "df_scl = pd.DataFrame(scaler.fit_transform(df_scl), columns = df_scl.columns, index = df_scl.index)\n",
    "\n",
    "# Create percentile field for sratification\n",
    "df_scl['splits'] = pd.qcut(df_scl['out_oopDisp_mm_n2'], 100, labels=False)\n",
    "\n",
    "# Create train and test splits (20% test)\n",
    "train, test = train_test_split(df_scl, test_size=0.20, stratify=df_scl['splits'], random_state=0) "
   ]
  },
  {
   "cell_type": "code",
   "execution_count": 8,
   "id": "2d36f9a6",
   "metadata": {
    "colab": {
     "base_uri": "https://localhost:8080/",
     "height": 303
    },
    "executionInfo": {
     "elapsed": 1474,
     "status": "ok",
     "timestamp": 1650183978561,
     "user": {
      "displayName": "Jason Payne",
      "userId": "02333409538928721620"
     },
     "user_tz": -60
    },
    "id": "2d36f9a6",
    "outputId": "6e1b260d-9cc1-414d-c0ad-ee885ca18dcd"
   },
   "outputs": [
    {
     "data": {
      "image/png": "[encoded data removed]",
      "text/plain": [
       "<Figure size 432x288 with 1 Axes>"
      ]
     },
     "metadata": {
      "needs_background": "light"
     },
     "output_type": "display_data"
    },
    {
     "name": "stdout",
     "output_type": "stream",
     "text": [
      "Max (train) =  10.2\n",
      "Max (test) =  8.5\n"
     ]
    }
   ],
   "source": [
    "# Verify that stratification has been effective\n",
    "n_bins = 200\n",
    "param = ['out_oopDisp_mm_n2']\n",
    "fig, axs = plt.subplots(figsize = (6, 4))\n",
    "axs.hist(train[param].values, bins=n_bins, label = f'Train: {param}', color = 'black', alpha=0.8, zorder=1)\n",
    "axs.hist(test[param].values, bins=n_bins, label = f'Test: {param}', color = 'red', alpha=0.6, zorder=2)\n",
    "axs.legend(loc = 'upper right')\n",
    "plt.show()\n",
    "print('Max (train) = ', round(train[param].values.max(), 1))\n",
    "print('Max (test) = ', round(test[param].values.max(), 1))"
   ]
  },
  {
   "cell_type": "code",
   "execution_count": 9,
   "id": "a375262f",
   "metadata": {
    "executionInfo": {
     "elapsed": 305,
     "status": "ok",
     "timestamp": 1650183980141,
     "user": {
      "displayName": "Jason Payne",
      "userId": "02333409538928721620"
     },
     "user_tz": -60
    },
    "id": "a375262f"
   },
   "outputs": [],
   "source": [
    "# Drop the splits column\n",
    "train = train.drop(['splits'], axis=1)\n",
    "test = test.drop(['splits'], axis=1)"
   ]
  },
  {
   "cell_type": "markdown",
   "id": "1b9cacca",
   "metadata": {
    "id": "1b9cacca"
   },
   "source": [
    "## NN - Multi-output"
   ]
  },
  {
   "cell_type": "code",
   "execution_count": 10,
   "id": "1f5f5ee8",
   "metadata": {
    "executionInfo": {
     "elapsed": 266,
     "status": "ok",
     "timestamp": 1650183981823,
     "user": {
      "displayName": "Jason Payne",
      "userId": "02333409538928721620"
     },
     "user_tz": -60
    },
    "id": "1f5f5ee8"
   },
   "outputs": [],
   "source": [
    "from sklearn import tree\n",
    "from sklearn import datasets\n",
    "from sklearn import model_selection\n",
    "from sklearn import metrics\n",
    "from sklearn.neural_network import MLPRegressor"
   ]
  },
  {
   "cell_type": "code",
   "execution_count": 11,
   "id": "a3ec3dde",
   "metadata": {
    "executionInfo": {
     "elapsed": 225,
     "status": "ok",
     "timestamp": 1650183987010,
     "user": {
      "displayName": "Jason Payne",
      "userId": "02333409538928721620"
     },
     "user_tz": -60
    },
    "id": "a3ec3dde"
   },
   "outputs": [],
   "source": [
    "pred_target = ['out_oopDisp_mm_n2', 'out_oopDisp_mm_n5', 'out_endBend_kNm_n6']\n",
    "pred_features = [\n",
    "    'slugDen',  # 0\n",
    "    'slugLen',  # 1\n",
    "    'pockDen',  # 2\n",
    "    'pockLen',  # 3\n",
    "    'slugVel',  # 4\n",
    "    'basePer',  # 5\n",
    "    'baseAmp',  # 6\n",
    "    'basePha',  # 7\n",
    "    'simTime',  # 8\n",
    "    'densDiff', # 9\n",
    "    'centrFor'  # 10\n",
    "]\n",
    "pred_features = pred_features[:]\n",
    "X_train = train.filter(pred_features)\n",
    "y_train = train.filter(pred_target)\n",
    "X_test = test.filter(pred_features)\n",
    "y_test = test.filter(pred_target)"
   ]
  },
  {
   "cell_type": "code",
   "execution_count": 10,
   "id": "92f9dc83",
   "metadata": {
    "executionInfo": {
     "elapsed": 67220,
     "status": "ok",
     "timestamp": 1650140722741,
     "user": {
      "displayName": "Jason Payne",
      "userId": "02333409538928721620"
     },
     "user_tz": -60
    },
    "id": "92f9dc83"
   },
   "outputs": [],
   "source": [
    "clf = MLPRegressor(random_state=1, max_iter=3000).fit(X_train.to_numpy(), y_train.to_numpy())\n",
    "y_pred = clf.predict(X_test.to_numpy())"
   ]
  },
  {
   "cell_type": "code",
   "execution_count": 11,
   "id": "1dd2042a",
   "metadata": {
    "executionInfo": {
     "elapsed": 292,
     "status": "ok",
     "timestamp": 1650140725947,
     "user": {
      "displayName": "Jason Payne",
      "userId": "02333409538928721620"
     },
     "user_tz": -60
    },
    "id": "1dd2042a"
   },
   "outputs": [],
   "source": [
    "y_bas = df_inp[pred_target].to_numpy()\n",
    "scaler_m = preprocessing.StandardScaler()\n",
    "y_scl = scaler_m.fit_transform(y_bas)"
   ]
  },
  {
   "cell_type": "code",
   "execution_count": 12,
   "id": "e5a6d579",
   "metadata": {
    "colab": {
     "base_uri": "https://localhost:8080/"
    },
    "executionInfo": {
     "elapsed": 259,
     "status": "ok",
     "timestamp": 1650140727328,
     "user": {
      "displayName": "Jason Payne",
      "userId": "02333409538928721620"
     },
     "user_tz": -60
    },
    "id": "e5a6d579",
    "outputId": "934ae441-4be4-407b-ecc6-501490145fcf"
   },
   "outputs": [
    {
     "name": "stdout",
     "output_type": "stream",
     "text": [
      "\n",
      "Target 1: Results of sklearn.metrics:\n",
      "MAE: 5.16\n",
      "MSE: 51.89\n",
      "RMSE: 7.2\n",
      "R-Squared: 0.94\n",
      "\n",
      "Target 2: Results of sklearn.metrics:\n",
      "MAE: 8.59\n",
      "MSE: 144.1\n",
      "RMSE: 12.0\n",
      "R-Squared: 0.92\n",
      "\n",
      "Target 3: Results of sklearn.metrics:\n",
      "MAE: 14.57\n",
      "MSE: 366.98\n",
      "RMSE: 19.16\n",
      "R-Squared: 0.89\n"
     ]
    }
   ],
   "source": [
    "# Inverse transform (scaling) to review metrics such as MAE\n",
    "y = scaler_m.inverse_transform(y_test)\n",
    "yhat = scaler_m.inverse_transform(y_pred)\n",
    "\n",
    "for target in range(3):\n",
    "    y_t = y[:, target]\n",
    "    yhat_t = yhat[:, target]\n",
    "\n",
    "    globals()[f'mae_momlp_{target}'] = metrics.mean_absolute_error(y_t, yhat_t)\n",
    "    globals()[f'mse_momlp_{target}']  = metrics.mean_squared_error(y_t, yhat_t)\n",
    "    globals()[f'rmse_momlp_{target}'] = np.sqrt(globals()[f'mse_momlp_{target}']) # or mse**(0.5)  \n",
    "    r2 = metrics.r2_score(y_t, yhat_t)\n",
    "\n",
    "    print(f'\\nTarget {target+1}: Results of sklearn.metrics:')\n",
    "    print(\"MAE:\", round(globals()[f'mae_momlp_{target}'], 2))\n",
    "    print(\"MSE:\", round(globals()[f'mse_momlp_{target}'], 2))\n",
    "    print(\"RMSE:\", round(globals()[f'rmse_momlp_{target}'], 2))\n",
    "    print(\"R-Squared:\", round(r2, 2))"
   ]
  },
  {
   "cell_type": "code",
   "execution_count": 13,
   "id": "4f6810ec",
   "metadata": {
    "colab": {
     "base_uri": "https://localhost:8080/",
     "height": 404
    },
    "executionInfo": {
     "elapsed": 1208,
     "status": "ok",
     "timestamp": 1650140731737,
     "user": {
      "displayName": "Jason Payne",
      "userId": "02333409538928721620"
     },
     "user_tz": -60
    },
    "id": "4f6810ec",
    "outputId": "adae8b78-592d-4def-8051-e72e7a57a4c1"
   },
   "outputs": [
    {
     "data": {
      "image/png": "[encoded data removed]",
      "text/plain": [
       "<Figure size 1296x432 with 3 Axes>"
      ]
     },
     "metadata": {
      "needs_background": "light"
     },
     "output_type": "display_data"
    }
   ],
   "source": [
    "fig, ax = plt.subplots(1, 3, figsize = (18, 6))\n",
    "\n",
    "for p in range(3):\n",
    "    mae = round(globals()[f'mae_momlp_{p}'], 2)\n",
    "    rmse = round(globals()[f'rmse_momlp_{p}'], 2)\n",
    "    ax[p].scatter(y[:, p], yhat[:, p], color = 'black', zorder = 1, alpha=0.1)\n",
    "    ax[p].plot([0, 700], [0, 700], '--', color = 'orange', zorder = 2)\n",
    "    ax[p].set(ylabel = 'Predicted', xlabel = 'Actual')\n",
    "    ax[p].set_title(f'MO-MLP - Pred. vs Actual ({pred_target[p]})')\n",
    "    ax[p].text(100, 600, f'MAE = {round(mae, 2)}', fontsize = 12)\n",
    "    ax[p].text(100, 550, f'RMSE = {round(rmse, 2)}', fontsize = 12)\n",
    "\n",
    "plt.xlim(0, 700)\n",
    "plt.ylim(0, 700)\n",
    "\n",
    "plt.show()"
   ]
  },
  {
   "cell_type": "markdown",
   "id": "luz6mmUuw9ah",
   "metadata": {
    "id": "luz6mmUuw9ah"
   },
   "source": [
    "## NN Experiments"
   ]
  },
  {
   "cell_type": "code",
   "execution_count": 12,
   "id": "ofTq0f92DiQV",
   "metadata": {
    "executionInfo": {
     "elapsed": 2441,
     "status": "ok",
     "timestamp": 1650184000424,
     "user": {
      "displayName": "Jason Payne",
      "userId": "02333409538928721620"
     },
     "user_tz": -60
    },
    "id": "ofTq0f92DiQV"
   },
   "outputs": [],
   "source": [
    "from tensorflow.keras.models import Sequential\n",
    "from tensorflow.keras.layers import Dense, Dropout\n",
    "from tensorflow.keras.layers import LayerNormalization\n",
    "from tensorflow.keras.optimizers import RMSprop\n",
    "from tensorflow.keras.optimizers import Adam\n",
    "from sklearn.model_selection import KFold"
   ]
  },
  {
   "cell_type": "code",
   "execution_count": 98,
   "id": "f4lo8NS0vP8i",
   "metadata": {
    "executionInfo": {
     "elapsed": 212,
     "status": "ok",
     "timestamp": 1650189052350,
     "user": {
      "displayName": "Jason Payne",
      "userId": "02333409538928721620"
     },
     "user_tz": -60
    },
    "id": "f4lo8NS0vP8i"
   },
   "outputs": [],
   "source": [
    "model_track = []\n",
    "mae_track1, mae_track2, mae_track3 = ([], [], [])\n",
    "rmse_track1, rmse_track2, rmse_track3 = ([], [], [])"
   ]
  },
  {
   "cell_type": "code",
   "execution_count": 99,
   "id": "6TyLGohLDm_O",
   "metadata": {
    "executionInfo": {
     "elapsed": 1,
     "status": "ok",
     "timestamp": 1650189053916,
     "user": {
      "displayName": "Jason Payne",
      "userId": "02333409538928721620"
     },
     "user_tz": -60
    },
    "id": "6TyLGohLDm_O"
   },
   "outputs": [],
   "source": [
    "def gen_model1(n_inputs, n_outputs):\n",
    "    model = Sequential()\n",
    "    model.add(Dense(256, input_dim=n_inputs, activation='relu'))\n",
    "    model.add(Dropout(.4))\n",
    "    model.add(Dense(512, activation='relu'))   \n",
    "    model.add(Dense(1024, activation='relu'))\n",
    "    model.add(Dense(512, activation='relu'))    \n",
    "    model.add(Dense(n_outputs, activation='linear'))\n",
    "    optimizer = Adam(learning_rate=0.001)\n",
    "    model.compile(optimizer=optimizer, loss='mse')\n",
    "    print(model.summary())\n",
    "    return model"
   ]
  },
  {
   "cell_type": "code",
   "execution_count": 100,
   "id": "IY4z8SY_m7rf",
   "metadata": {
    "executionInfo": {
     "elapsed": 221,
     "status": "ok",
     "timestamp": 1650189055474,
     "user": {
      "displayName": "Jason Payne",
      "userId": "02333409538928721620"
     },
     "user_tz": -60
    },
    "id": "IY4z8SY_m7rf"
   },
   "outputs": [],
   "source": [
    "def gen_model2(n_inputs, n_outputs):\n",
    "    model = Sequential()\n",
    "    model.add(Dense(20, input_dim=n_inputs, kernel_initializer='he_uniform', activation='relu'))  \n",
    "    model.add(Dense(n_outputs, kernel_initializer='he_uniform'))\n",
    "    optimizer = Adam(learning_rate=0.001)\n",
    "    model.compile(optimizer=optimizer, loss='mse')\n",
    "    print(model.summary())\n",
    "    return model"
   ]
  },
  {
   "cell_type": "code",
   "execution_count": 101,
   "id": "CdsUgIZcrT9A",
   "metadata": {
    "executionInfo": {
     "elapsed": 2,
     "status": "ok",
     "timestamp": 1650189056902,
     "user": {
      "displayName": "Jason Payne",
      "userId": "02333409538928721620"
     },
     "user_tz": -60
    },
    "id": "CdsUgIZcrT9A"
   },
   "outputs": [],
   "source": [
    "def gen_model3(n_inputs, n_outputs):\n",
    "    model = Sequential()\n",
    "    model.add(Dense(100, input_dim=n_inputs, kernel_initializer='he_uniform', activation='relu'))  \n",
    "    model.add(Dense(n_outputs, kernel_initializer='he_uniform'))\n",
    "    optimizer = Adam(learning_rate=0.005)\n",
    "    model.compile(optimizer=optimizer, loss='mse')\n",
    "    print(model.summary())\n",
    "    return model"
   ]
  },
  {
   "cell_type": "code",
   "execution_count": 102,
   "id": "50vN8kjItxzJ",
   "metadata": {
    "executionInfo": {
     "elapsed": 240,
     "status": "ok",
     "timestamp": 1650189058827,
     "user": {
      "displayName": "Jason Payne",
      "userId": "02333409538928721620"
     },
     "user_tz": -60
    },
    "id": "50vN8kjItxzJ"
   },
   "outputs": [],
   "source": [
    "def gen_model4(n_inputs, n_outputs):\n",
    "    model = Sequential()\n",
    "    model.add(Dense(80, input_dim=n_inputs, kernel_initializer='he_uniform', activation='tanh'))  \n",
    "    model.add(Dense(n_outputs, kernel_initializer='he_uniform'))\n",
    "    optimizer = Adam(learning_rate=0.005)\n",
    "    model.compile(optimizer=optimizer, loss='mse')\n",
    "    print(model.summary())\n",
    "    return model"
   ]
  },
  {
   "cell_type": "code",
   "execution_count": 103,
   "id": "jCAxmjTGySx6",
   "metadata": {
    "executionInfo": {
     "elapsed": 259,
     "status": "ok",
     "timestamp": 1650189060717,
     "user": {
      "displayName": "Jason Payne",
      "userId": "02333409538928721620"
     },
     "user_tz": -60
    },
    "id": "jCAxmjTGySx6"
   },
   "outputs": [],
   "source": [
    "def gen_model5(n_inputs, n_outputs):\n",
    "    model = Sequential()\n",
    "    model.add(Dense(60, input_dim=n_inputs, kernel_initializer='he_uniform', activation='tanh'))  \n",
    "    model.add(Dense(n_outputs, kernel_initializer='he_uniform'))\n",
    "    optimizer = Adam(learning_rate=0.005)\n",
    "    model.compile(optimizer=optimizer, loss='mse')\n",
    "    print(model.summary())\n",
    "    return model"
   ]
  },
  {
   "cell_type": "code",
   "execution_count": 104,
   "id": "1GvMWyyj0u5e",
   "metadata": {
    "executionInfo": {
     "elapsed": 310,
     "status": "ok",
     "timestamp": 1650189062347,
     "user": {
      "displayName": "Jason Payne",
      "userId": "02333409538928721620"
     },
     "user_tz": -60
    },
    "id": "1GvMWyyj0u5e"
   },
   "outputs": [],
   "source": [
    "def gen_model6(n_inputs, n_outputs):\n",
    "    model = Sequential()\n",
    "    model.add(Dense(80, input_dim=n_inputs, kernel_initializer='he_uniform', activation='tanh')) \n",
    "    model.add(Dense(40, input_dim=n_inputs, kernel_initializer='he_uniform', activation='tanh'))  \n",
    "    model.add(Dense(n_outputs, kernel_initializer='he_uniform'))\n",
    "    optimizer = Adam(learning_rate=0.005)\n",
    "    model.compile(optimizer=optimizer, loss='mse')\n",
    "    print(model.summary())\n",
    "    return model"
   ]
  },
  {
   "cell_type": "code",
   "execution_count": 105,
   "id": "C13-JACs3Ecj",
   "metadata": {
    "executionInfo": {
     "elapsed": 203,
     "status": "ok",
     "timestamp": 1650189064281,
     "user": {
      "displayName": "Jason Payne",
      "userId": "02333409538928721620"
     },
     "user_tz": -60
    },
    "id": "C13-JACs3Ecj"
   },
   "outputs": [],
   "source": [
    "def gen_model7(n_inputs, n_outputs):\n",
    "    model = Sequential()\n",
    "    model.add(Dense(80, input_dim=n_inputs, kernel_initializer='he_uniform', activation='tanh')) \n",
    "    model.add(Dense(40, input_dim=n_inputs, kernel_initializer='he_uniform', activation='tanh'))\n",
    "    model.add(Dense(9, input_dim=n_inputs, kernel_initializer='he_uniform', activation='relu'))  \n",
    "    model.add(Dense(n_outputs, kernel_initializer='he_uniform'))\n",
    "    optimizer = Adam(learning_rate=0.005)\n",
    "    model.compile(optimizer=optimizer, loss='mse')\n",
    "    print(model.summary())\n",
    "    return model"
   ]
  },
  {
   "cell_type": "code",
   "execution_count": 106,
   "id": "7FXfA6rM7ixC",
   "metadata": {
    "executionInfo": {
     "elapsed": 4,
     "status": "ok",
     "timestamp": 1650189065932,
     "user": {
      "displayName": "Jason Payne",
      "userId": "02333409538928721620"
     },
     "user_tz": -60
    },
    "id": "7FXfA6rM7ixC"
   },
   "outputs": [],
   "source": [
    "def gen_model8(n_inputs, n_outputs):\n",
    "    model = Sequential()\n",
    "    model.add(Dense(80, input_dim=n_inputs, kernel_initializer='he_uniform', activation='tanh')) \n",
    "    model.add(Dense(40, input_dim=n_inputs, kernel_initializer='he_uniform', activation='tanh'))\n",
    "    model.add(Dense(9, input_dim=n_inputs, kernel_initializer='he_uniform', activation='tanh'))  \n",
    "    model.add(Dense(n_outputs, kernel_initializer='he_uniform'))\n",
    "    optimizer = Adam(learning_rate=0.005)\n",
    "    model.compile(optimizer=optimizer, loss='mse')\n",
    "    print(model.summary())\n",
    "    return model"
   ]
  },
  {
   "cell_type": "code",
   "execution_count": 107,
   "id": "oRUSj_c7405U",
   "metadata": {
    "executionInfo": {
     "elapsed": 311,
     "status": "ok",
     "timestamp": 1650189068281,
     "user": {
      "displayName": "Jason Payne",
      "userId": "02333409538928721620"
     },
     "user_tz": -60
    },
    "id": "oRUSj_c7405U"
   },
   "outputs": [],
   "source": [
    "def gen_model9(n_inputs, n_outputs):\n",
    "    model = Sequential()\n",
    "    model.add(Dense(80, input_dim=n_inputs, kernel_initializer='he_uniform', activation='relu')) \n",
    "    model.add(Dense(40, input_dim=n_inputs, kernel_initializer='he_uniform', activation='relu'))\n",
    "    model.add(Dense(9, input_dim=n_inputs, kernel_initializer='he_uniform', activation='relu'))  \n",
    "    model.add(Dense(n_outputs, kernel_initializer='he_uniform'))\n",
    "    optimizer = Adam(learning_rate=0.005)\n",
    "    model.compile(optimizer=optimizer, loss='mse')\n",
    "    print(model.summary())\n",
    "    return model"
   ]
  },
  {
   "cell_type": "code",
   "execution_count": 171,
   "id": "LWfiegO4NHxD",
   "metadata": {
    "executionInfo": {
     "elapsed": 232,
     "status": "ok",
     "timestamp": 1650193680085,
     "user": {
      "displayName": "Jason Payne",
      "userId": "02333409538928721620"
     },
     "user_tz": -60
    },
    "id": "LWfiegO4NHxD"
   },
   "outputs": [],
   "source": [
    "def gen_model10(n_inputs, n_outputs):\n",
    "    model = Sequential()\n",
    "    model.add(Dense(50, input_dim=n_inputs, kernel_initializer='he_uniform', activation='tanh'))  \n",
    "    model.add(Dense(n_outputs, kernel_initializer='he_uniform'))\n",
    "    optimizer = Adam(learning_rate=0.005)\n",
    "    model.compile(optimizer=optimizer, loss='mse')\n",
    "    print(model.summary())\n",
    "    return model"
   ]
  },
  {
   "cell_type": "code",
   "execution_count": 179,
   "id": "LIyuCu0-O1pd",
   "metadata": {
    "executionInfo": {
     "elapsed": 212,
     "status": "ok",
     "timestamp": 1650194126604,
     "user": {
      "displayName": "Jason Payne",
      "userId": "02333409538928721620"
     },
     "user_tz": -60
    },
    "id": "LIyuCu0-O1pd"
   },
   "outputs": [],
   "source": [
    "def gen_model11(n_inputs, n_outputs):\n",
    "    model = Sequential()\n",
    "    model.add(Dense(80, input_dim=n_inputs, kernel_initializer='he_uniform', activation='tanh')) \n",
    "    model.add(Dense(40, input_dim=n_inputs, kernel_initializer='he_uniform', activation='tanh'))  \n",
    "    model.add(Dense(n_outputs, kernel_initializer='he_uniform'))\n",
    "    optimizer = Adam(learning_rate=0.008)\n",
    "    model.compile(optimizer=optimizer, loss='mse')\n",
    "    print(model.summary())\n",
    "    return model"
   ]
  },
  {
   "cell_type": "code",
   "execution_count": 187,
   "id": "T_pGwE0MQM1U",
   "metadata": {
    "executionInfo": {
     "elapsed": 248,
     "status": "ok",
     "timestamp": 1650194445938,
     "user": {
      "displayName": "Jason Payne",
      "userId": "02333409538928721620"
     },
     "user_tz": -60
    },
    "id": "T_pGwE0MQM1U"
   },
   "outputs": [],
   "source": [
    "def gen_model12(n_inputs, n_outputs):\n",
    "    model = Sequential()\n",
    "    model.add(Dense(80, input_dim=n_inputs, kernel_initializer='he_uniform', activation='tanh')) \n",
    "    model.add(Dense(40, input_dim=n_inputs, kernel_initializer='he_uniform', activation='tanh'))  \n",
    "    model.add(Dense(n_outputs, kernel_initializer='he_uniform'))\n",
    "    optimizer = Adam(learning_rate=0.002)\n",
    "    model.compile(optimizer=optimizer, loss='mse')\n",
    "    print(model.summary())\n",
    "    return model"
   ]
  },
  {
   "cell_type": "code",
   "execution_count": 195,
   "id": "Y0iXUWpxSW3n",
   "metadata": {
    "executionInfo": {
     "elapsed": 228,
     "status": "ok",
     "timestamp": 1650195011996,
     "user": {
      "displayName": "Jason Payne",
      "userId": "02333409538928721620"
     },
     "user_tz": -60
    },
    "id": "Y0iXUWpxSW3n"
   },
   "outputs": [],
   "source": [
    "def gen_model13(n_inputs, n_outputs):\n",
    "    model = Sequential()\n",
    "    model.add(Dense(80, input_dim=n_inputs, kernel_initializer='he_uniform', activation='tanh')) \n",
    "    model.add(Dense(40, input_dim=n_inputs, kernel_initializer='he_uniform', activation='tanh'))  \n",
    "    model.add(Dense(n_outputs, kernel_initializer='he_uniform'))\n",
    "    optimizer = Adam(learning_rate=0.001)\n",
    "    model.compile(optimizer=optimizer, loss='mse')\n",
    "    print(model.summary())\n",
    "    return model"
   ]
  },
  {
   "cell_type": "code",
   "execution_count": 203,
   "id": "SnSFum34UAps",
   "metadata": {
    "executionInfo": {
     "elapsed": 268,
     "status": "ok",
     "timestamp": 1650195464126,
     "user": {
      "displayName": "Jason Payne",
      "userId": "02333409538928721620"
     },
     "user_tz": -60
    },
    "id": "SnSFum34UAps"
   },
   "outputs": [],
   "source": [
    "def gen_model14(n_inputs, n_outputs):\n",
    "    model = Sequential()\n",
    "    model.add(Dense(90, input_dim=n_inputs, kernel_initializer='he_uniform', activation='tanh')) \n",
    "    model.add(Dense(30, input_dim=n_inputs, kernel_initializer='he_uniform', activation='tanh'))  \n",
    "    model.add(Dense(n_outputs, kernel_initializer='he_uniform'))\n",
    "    optimizer = Adam(learning_rate=0.002)\n",
    "    model.compile(optimizer=optimizer, loss='mse')\n",
    "    print(model.summary())\n",
    "    return model"
   ]
  },
  {
   "cell_type": "code",
   "execution_count": 211,
   "id": "uPjACZJXVhBx",
   "metadata": {
    "executionInfo": {
     "elapsed": 264,
     "status": "ok",
     "timestamp": 1650195882158,
     "user": {
      "displayName": "Jason Payne",
      "userId": "02333409538928721620"
     },
     "user_tz": -60
    },
    "id": "uPjACZJXVhBx"
   },
   "outputs": [],
   "source": [
    "def gen_model15(n_inputs, n_outputs):\n",
    "    model = Sequential()\n",
    "    model.add(Dense(76, input_dim=n_inputs, kernel_initializer='he_uniform', activation='tanh')) \n",
    "    model.add(Dense(38, input_dim=n_inputs, kernel_initializer='he_uniform', activation='tanh'))  \n",
    "    model.add(Dense(n_outputs, kernel_initializer='he_uniform'))\n",
    "    optimizer = Adam(learning_rate=0.002)\n",
    "    model.compile(optimizer=optimizer, loss='mse')\n",
    "    print(model.summary())\n",
    "    return model"
   ]
  },
  {
   "cell_type": "code",
   "execution_count": 216,
   "id": "Ussb9Z66D67K",
   "metadata": {
    "colab": {
     "base_uri": "https://localhost:8080/"
    },
    "executionInfo": {
     "elapsed": 280,
     "status": "ok",
     "timestamp": 1650196436289,
     "user": {
      "displayName": "Jason Payne",
      "userId": "02333409538928721620"
     },
     "user_tz": -60
    },
    "id": "Ussb9Z66D67K",
    "outputId": "5482779f-bbc2-4d64-e2bf-2d4b34175866"
   },
   "outputs": [
    {
     "name": "stdout",
     "output_type": "stream",
     "text": [
      "\n",
      "Target 1: Results of sklearn.metrics:\n",
      "MAE: 3.93\n",
      "MSE: 28.01\n",
      "RMSE: 5.29\n",
      "R-Squared: 0.97\n",
      "\n",
      "Target 2: Results of sklearn.metrics:\n",
      "MAE: 6.12\n",
      "MSE: 71.68\n",
      "RMSE: 8.47\n",
      "R-Squared: 0.96\n",
      "\n",
      "Target 3: Results of sklearn.metrics:\n",
      "MAE: 10.83\n",
      "MSE: 206.65\n",
      "RMSE: 14.38\n",
      "R-Squared: 0.94\n"
     ]
    }
   ],
   "source": [
    "# Loop through and fit each model and collect performance results.\n",
    "for m_num  in range(15):\n",
    "    # Generate the model\n",
    "    n_inputs, n_outputs = X_train.to_numpy().shape[1], y_train.to_numpy().shape[1]\n",
    "    model_num = m_num + 1\n",
    "    gen_model = globals()[f'gen_model{model_num}']\n",
    "    nn_model = gen_model(n_inputs, n_outputs)\n",
    "    model_track.append(model_num)\n",
    "\n",
    "    # Fit the model\n",
    "    history = nn_model.fit(X_train.to_numpy(), y_train.to_numpy(), epochs=300, batch_size=128, validation_split=0.20, verbose=0).history\n",
    "\n",
    "    # Plot the training losses\n",
    "    fig, ax = plt.subplots(figsize=(14, 6), dpi=80)\n",
    "    ax.plot(history['loss'], 'grey', label='Train', linewidth=2)\n",
    "    ax.plot(history['val_loss'], 'r', label='Validation', linewidth=2)\n",
    "    ax.set_title('Model loss', fontsize=16)\n",
    "    ax.set_ylabel('Loss (mae)')\n",
    "    ax.set_xlabel('Epoch')\n",
    "    ax.legend(loc='upper right')\n",
    "    plt.show()\n",
    "\n",
    "    # Make predictions on test data\n",
    "    y_pred = nn_model.predict(X_test.to_numpy())\n",
    "    y_bas = df_inp[pred_target].to_numpy()\n",
    "    scaler_m = preprocessing.StandardScaler()\n",
    "    y_scl = scaler_m.fit_transform(y_bas)\n",
    "\n",
    "    # Inverse transform (scaling) to review metrics such as MAE\n",
    "    y = scaler_m.inverse_transform(y_test)\n",
    "    yhat = scaler_m.inverse_transform(y_pred)\n",
    "\n",
    "    # Print metrics\n",
    "    for target in range(3):\n",
    "        y_t = y[:, target]\n",
    "        yhat_t = yhat[:, target]\n",
    "\n",
    "        globals()[f'mae_momlp_{target}'] = metrics.mean_absolute_error(y_t, yhat_t)\n",
    "        globals()[f'mse_momlp_{target}']  = metrics.mean_squared_error(y_t, yhat_t)\n",
    "        globals()[f'rmse_momlp_{target}'] = np.sqrt(globals()[f'mse_momlp_{target}']) # or mse**(0.5)  \n",
    "        r2 = metrics.r2_score(y_t, yhat_t)\n",
    "\n",
    "        print(f'\\nTarget {target+1}: Results of sklearn.metrics:')\n",
    "        print(\"MAE:\", round(globals()[f'mae_momlp_{target}'], 2))\n",
    "        print(\"MSE:\", round(globals()[f'mse_momlp_{target}'], 2))\n",
    "        print(\"RMSE:\", round(globals()[f'rmse_momlp_{target}'], 2))\n",
    "        print(\"R-Squared:\", round(r2, 2))\n",
    "        globals()[f'mae_track{target+1}'].append(round(globals()[f'mae_momlp_{target}'], 2))\n",
    "        globals()[f'rmse_track{target+1}'].append(round(globals()[f'rmse_momlp_{target}'], 2))\n",
    "\n",
    "    # Plot performance\n",
    "    fig, ax = plt.subplots(1, 3, figsize = (18, 6))\n",
    "    for p in range(3):\n",
    "        mae = round(globals()[f'mae_momlp_{p}'], 2)\n",
    "        rmse = round(globals()[f'rmse_momlp_{p}'], 2)\n",
    "        ax[p].scatter(y[:, p], yhat[:, p], color = 'black', zorder = 1, alpha=0.1)\n",
    "        ax[p].plot([0, 700], [0, 700], '--', color = 'orange', zorder = 2)\n",
    "        ax[p].set(ylabel = 'Predicted', xlabel = 'Actual')\n",
    "        ax[p].set_title(f'MO-MLP - Pred. vs Actual ({pred_target[p]})')\n",
    "        ax[p].text(100, 600, f'MAE = {round(mae, 2)}', fontsize = 12)\n",
    "        ax[p].text(100, 550, f'RMSE = {round(rmse, 2)}', fontsize = 12)\n",
    "\n",
    "    plt.xlim(0, 700)\n",
    "    plt.ylim(0, 700)\n",
    "    plt.show()"
   ]
  },
  {
   "cell_type": "code",
   "execution_count": 218,
   "id": "TTuiCI-4xKX9",
   "metadata": {
    "colab": {
     "base_uri": "https://localhost:8080/",
     "height": 514
    },
    "executionInfo": {
     "elapsed": 10,
     "status": "ok",
     "timestamp": 1650196442819,
     "user": {
      "displayName": "Jason Payne",
      "userId": "02333409538928721620"
     },
     "user_tz": -60
    },
    "id": "TTuiCI-4xKX9",
    "outputId": "7b79bec6-49da-4ff3-f055-dcd5fe2be337"
   },
   "outputs": [
    {
     "data": {
      "text/html": [
       "\n",
       "  <div id=\"df-d6d344b4-6836-4a09-9bdb-7367a81e5918\">\n",
       "    <div class=\"colab-df-container\">\n",
       "      <div>\n",
       "<style scoped>\n",
       "    .dataframe tbody tr th:only-of-type {\n",
       "        vertical-align: middle;\n",
       "    }\n",
       "\n",
       "    .dataframe tbody tr th {\n",
       "        vertical-align: top;\n",
       "    }\n",
       "\n",
       "    .dataframe thead th {\n",
       "        text-align: right;\n",
       "    }\n",
       "</style>\n",
       "<table border=\"1\" class=\"dataframe\">\n",
       "  <thead>\n",
       "    <tr style=\"text-align: right;\">\n",
       "      <th></th>\n",
       "      <th>model_ref</th>\n",
       "      <th>mae1</th>\n",
       "      <th>mae2</th>\n",
       "      <th>mae3</th>\n",
       "      <th>rmse1</th>\n",
       "      <th>rmse2</th>\n",
       "      <th>rmse3</th>\n",
       "    </tr>\n",
       "  </thead>\n",
       "  <tbody>\n",
       "    <tr>\n",
       "      <th>0</th>\n",
       "      <td>1</td>\n",
       "      <td>10.69</td>\n",
       "      <td>15.21</td>\n",
       "      <td>23.70</td>\n",
       "      <td>15.24</td>\n",
       "      <td>23.43</td>\n",
       "      <td>32.81</td>\n",
       "    </tr>\n",
       "    <tr>\n",
       "      <th>1</th>\n",
       "      <td>2</td>\n",
       "      <td>6.93</td>\n",
       "      <td>11.48</td>\n",
       "      <td>17.21</td>\n",
       "      <td>10.35</td>\n",
       "      <td>17.54</td>\n",
       "      <td>23.50</td>\n",
       "    </tr>\n",
       "    <tr>\n",
       "      <th>2</th>\n",
       "      <td>3</td>\n",
       "      <td>5.00</td>\n",
       "      <td>8.39</td>\n",
       "      <td>14.03</td>\n",
       "      <td>6.82</td>\n",
       "      <td>11.28</td>\n",
       "      <td>18.35</td>\n",
       "    </tr>\n",
       "    <tr>\n",
       "      <th>3</th>\n",
       "      <td>4</td>\n",
       "      <td>4.63</td>\n",
       "      <td>7.58</td>\n",
       "      <td>13.05</td>\n",
       "      <td>6.23</td>\n",
       "      <td>10.29</td>\n",
       "      <td>17.31</td>\n",
       "    </tr>\n",
       "    <tr>\n",
       "      <th>4</th>\n",
       "      <td>5</td>\n",
       "      <td>4.72</td>\n",
       "      <td>8.04</td>\n",
       "      <td>14.21</td>\n",
       "      <td>6.48</td>\n",
       "      <td>10.91</td>\n",
       "      <td>18.58</td>\n",
       "    </tr>\n",
       "    <tr>\n",
       "      <th>5</th>\n",
       "      <td>6</td>\n",
       "      <td>4.10</td>\n",
       "      <td>6.40</td>\n",
       "      <td>11.56</td>\n",
       "      <td>5.62</td>\n",
       "      <td>8.91</td>\n",
       "      <td>15.09</td>\n",
       "    </tr>\n",
       "    <tr>\n",
       "      <th>6</th>\n",
       "      <td>7</td>\n",
       "      <td>4.41</td>\n",
       "      <td>6.97</td>\n",
       "      <td>11.37</td>\n",
       "      <td>6.20</td>\n",
       "      <td>9.93</td>\n",
       "      <td>15.10</td>\n",
       "    </tr>\n",
       "    <tr>\n",
       "      <th>7</th>\n",
       "      <td>8</td>\n",
       "      <td>4.41</td>\n",
       "      <td>6.91</td>\n",
       "      <td>11.59</td>\n",
       "      <td>6.10</td>\n",
       "      <td>9.98</td>\n",
       "      <td>15.41</td>\n",
       "    </tr>\n",
       "    <tr>\n",
       "      <th>8</th>\n",
       "      <td>9</td>\n",
       "      <td>4.41</td>\n",
       "      <td>6.91</td>\n",
       "      <td>11.59</td>\n",
       "      <td>6.10</td>\n",
       "      <td>9.98</td>\n",
       "      <td>15.41</td>\n",
       "    </tr>\n",
       "    <tr>\n",
       "      <th>9</th>\n",
       "      <td>10</td>\n",
       "      <td>4.96</td>\n",
       "      <td>8.36</td>\n",
       "      <td>14.31</td>\n",
       "      <td>6.66</td>\n",
       "      <td>11.23</td>\n",
       "      <td>18.85</td>\n",
       "    </tr>\n",
       "    <tr>\n",
       "      <th>10</th>\n",
       "      <td>11</td>\n",
       "      <td>4.47</td>\n",
       "      <td>7.33</td>\n",
       "      <td>11.82</td>\n",
       "      <td>6.07</td>\n",
       "      <td>10.07</td>\n",
       "      <td>15.70</td>\n",
       "    </tr>\n",
       "    <tr>\n",
       "      <th>11</th>\n",
       "      <td>12</td>\n",
       "      <td>4.02</td>\n",
       "      <td>6.24</td>\n",
       "      <td>10.92</td>\n",
       "      <td>5.41</td>\n",
       "      <td>8.56</td>\n",
       "      <td>14.49</td>\n",
       "    </tr>\n",
       "    <tr>\n",
       "      <th>12</th>\n",
       "      <td>13</td>\n",
       "      <td>4.05</td>\n",
       "      <td>6.29</td>\n",
       "      <td>11.37</td>\n",
       "      <td>5.49</td>\n",
       "      <td>8.65</td>\n",
       "      <td>15.07</td>\n",
       "    </tr>\n",
       "    <tr>\n",
       "      <th>13</th>\n",
       "      <td>14</td>\n",
       "      <td>4.28</td>\n",
       "      <td>6.54</td>\n",
       "      <td>11.29</td>\n",
       "      <td>5.78</td>\n",
       "      <td>9.03</td>\n",
       "      <td>15.03</td>\n",
       "    </tr>\n",
       "    <tr>\n",
       "      <th>14</th>\n",
       "      <td>15</td>\n",
       "      <td>3.93</td>\n",
       "      <td>6.12</td>\n",
       "      <td>10.83</td>\n",
       "      <td>5.29</td>\n",
       "      <td>8.47</td>\n",
       "      <td>14.38</td>\n",
       "    </tr>\n",
       "  </tbody>\n",
       "</table>\n",
       "</div>\n",
       "      <button class=\"colab-df-convert\" onclick=\"convertToInteractive('df-d6d344b4-6836-4a09-9bdb-7367a81e5918')\"\n",
       "              title=\"Convert this dataframe to an interactive table.\"\n",
       "              style=\"display:none;\">\n",
       "        \n",
       "  <svg xmlns=\"http://www.w3.org/2000/svg\" height=\"24px\"viewBox=\"0 0 24 24\"\n",
       "       width=\"24px\">\n",
       "    <path d=\"M0 0h24v24H0V0z\" fill=\"none\"/>\n",
       "    <path d=\"M18.56 5.44l.94 2.06.94-2.06 2.06-.94-2.06-.94-.94-2.06-.94 2.06-2.06.94zm-11 1L8.5 8.5l.94-2.06 2.06-.94-2.06-.94L8.5 2.5l-.94 2.06-2.06.94zm10 10l.94 2.06.94-2.06 2.06-.94-2.06-.94-.94-2.06-.94 2.06-2.06.94z\"/><path d=\"M17.41 7.96l-1.37-1.37c-.4-.4-.92-.59-1.43-.59-.52 0-1.04.2-1.43.59L10.3 9.45l-7.72 7.72c-.78.78-.78 2.05 0 2.83L4 21.41c.39.39.9.59 1.41.59.51 0 1.02-.2 1.41-.59l7.78-7.78 2.81-2.81c.8-.78.8-2.07 0-2.86zM5.41 20L4 18.59l7.72-7.72 1.47 1.35L5.41 20z\"/>\n",
       "  </svg>\n",
       "      </button>\n",
       "      \n",
       "  <style>\n",
       "    .colab-df-container {\n",
       "      display:flex;\n",
       "      flex-wrap:wrap;\n",
       "      gap: 12px;\n",
       "    }\n",
       "\n",
       "    .colab-df-convert {\n",
       "      background-color: #E8F0FE;\n",
       "      border: none;\n",
       "      border-radius: 50%;\n",
       "      cursor: pointer;\n",
       "      display: none;\n",
       "      fill: #1967D2;\n",
       "      height: 32px;\n",
       "      padding: 0 0 0 0;\n",
       "      width: 32px;\n",
       "    }\n",
       "\n",
       "    .colab-df-convert:hover {\n",
       "      background-color: #E2EBFA;\n",
       "      box-shadow: 0px 1px 2px rgba(60, 64, 67, 0.3), 0px 1px 3px 1px rgba(60, 64, 67, 0.15);\n",
       "      fill: #174EA6;\n",
       "    }\n",
       "\n",
       "    [theme=dark] .colab-df-convert {\n",
       "      background-color: #3B4455;\n",
       "      fill: #D2E3FC;\n",
       "    }\n",
       "\n",
       "    [theme=dark] .colab-df-convert:hover {\n",
       "      background-color: #434B5C;\n",
       "      box-shadow: 0px 1px 3px 1px rgba(0, 0, 0, 0.15);\n",
       "      filter: drop-shadow(0px 1px 2px rgba(0, 0, 0, 0.3));\n",
       "      fill: #FFFFFF;\n",
       "    }\n",
       "  </style>\n",
       "\n",
       "      <script>\n",
       "        const buttonEl =\n",
       "          document.querySelector('#df-d6d344b4-6836-4a09-9bdb-7367a81e5918 button.colab-df-convert');\n",
       "        buttonEl.style.display =\n",
       "          google.colab.kernel.accessAllowed ? 'block' : 'none';\n",
       "\n",
       "        async function convertToInteractive(key) {\n",
       "          const element = document.querySelector('#df-d6d344b4-6836-4a09-9bdb-7367a81e5918');\n",
       "          const dataTable =\n",
       "            await google.colab.kernel.invokeFunction('convertToInteractive',\n",
       "                                                     [key], {});\n",
       "          if (!dataTable) return;\n",
       "\n",
       "          const docLinkHtml = 'Like what you see? Visit the ' +\n",
       "            '<a target=\"_blank\" href=https://colab.research.google.com/notebooks/data_table.ipynb>data table notebook</a>'\n",
       "            + ' to learn more about interactive tables.';\n",
       "          element.innerHTML = '';\n",
       "          dataTable['output_type'] = 'display_data';\n",
       "          await google.colab.output.renderOutput(dataTable, element);\n",
       "          const docLink = document.createElement('div');\n",
       "          docLink.innerHTML = docLinkHtml;\n",
       "          element.appendChild(docLink);\n",
       "        }\n",
       "      </script>\n",
       "    </div>\n",
       "  </div>\n",
       "  "
      ],
      "text/plain": [
       "    model_ref   mae1   mae2   mae3  rmse1  rmse2  rmse3\n",
       "0           1  10.69  15.21  23.70  15.24  23.43  32.81\n",
       "1           2   6.93  11.48  17.21  10.35  17.54  23.50\n",
       "2           3   5.00   8.39  14.03   6.82  11.28  18.35\n",
       "3           4   4.63   7.58  13.05   6.23  10.29  17.31\n",
       "4           5   4.72   8.04  14.21   6.48  10.91  18.58\n",
       "5           6   4.10   6.40  11.56   5.62   8.91  15.09\n",
       "6           7   4.41   6.97  11.37   6.20   9.93  15.10\n",
       "7           8   4.41   6.91  11.59   6.10   9.98  15.41\n",
       "8           9   4.41   6.91  11.59   6.10   9.98  15.41\n",
       "9          10   4.96   8.36  14.31   6.66  11.23  18.85\n",
       "10         11   4.47   7.33  11.82   6.07  10.07  15.70\n",
       "11         12   4.02   6.24  10.92   5.41   8.56  14.49\n",
       "12         13   4.05   6.29  11.37   5.49   8.65  15.07\n",
       "13         14   4.28   6.54  11.29   5.78   9.03  15.03\n",
       "14         15   3.93   6.12  10.83   5.29   8.47  14.38"
      ]
     },
     "execution_count": 218,
     "metadata": {},
     "output_type": "execute_result"
    }
   ],
   "source": [
    "# Model tracking dataframe summary\n",
    "experiments = pd.DataFrame(data=model_track, columns=['model_ref'])\n",
    "experiments['mae1'] = mae_track1\n",
    "experiments['mae2'] = mae_track2\n",
    "experiments['mae3'] = mae_track3\n",
    "experiments['rmse1'] = rmse_track1\n",
    "experiments['rmse2'] = rmse_track2\n",
    "experiments['rmse3'] = rmse_track3\n",
    "experiments"
   ]
  }
 ],
 "metadata": {
  "accelerator": "GPU",
  "colab": {
   "collapsed_sections": [],
   "name": "5_NN_model_trials.ipynb",
   "provenance": []
  },
  "kernelspec": {
   "display_name": "Python 3 (ipykernel)",
   "language": "python",
   "name": "python3"
  },
  "language_info": {
   "codemirror_mode": {
    "name": "ipython",
    "version": 3
   },
   "file_extension": ".py",
   "mimetype": "text/x-python",
   "name": "python",
   "nbconvert_exporter": "python",
   "pygments_lexer": "ipython3",
   "version": "3.8.12"
  }
 },
 "nbformat": 4,
 "nbformat_minor": 5
}
