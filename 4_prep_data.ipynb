{
 "cells": [
  {
   "cell_type": "code",
   "execution_count": 14,
   "id": "d09de279",
   "metadata": {},
   "outputs": [],
   "source": [
    "import pandas as pd\n",
    "import matplotlib.pyplot as plt\n",
    "import numpy as np\n",
    "from datetime import date\n",
    "from tqdm.notebook import tqdm\n",
    "\n",
    "from sklearn import preprocessing\n",
    "from sklearn import datasets, linear_model, metrics\n",
    "from sklearn import datasets\n",
    "from sklearn import model_selection\n",
    "from sklearn import metrics\n",
    "from sklearn.model_selection import train_test_split "
   ]
  },
  {
   "cell_type": "code",
   "execution_count": 5,
   "id": "3cc3b24a",
   "metadata": {},
   "outputs": [],
   "source": [
    "# Load the data\n",
    "df_all = pd.read_csv('data/220306_slugs_dataset.csv')\n",
    "#df_all = pd.read_csv('/content/drive/MyDrive/_MScDA 2021/5. Data Mining 2/CA1/data/220306_slugs_dataset.csv')\n",
    "df_inp = df_all.drop(['loadCase', 'out_supReac_kN_n3', 'out_supReac_kN_n4', 'out_verDisp_mm_n5'], axis=1)\n",
    "df_inp = df_inp.dropna()"
   ]
  },
  {
   "cell_type": "code",
   "execution_count": 12,
   "id": "3cb3392c",
   "metadata": {},
   "outputs": [],
   "source": [
    "# Create some new features\n",
    "df_inp['densDiff'] = df_inp['slugDen'] - df_inp['pockDen']      # Density difference\n",
    "df_inp['centrFor'] = df_inp['slugVel']**2 * df_inp['densDiff']  # Proxy for centrifugal force"
   ]
  },
  {
   "cell_type": "markdown",
   "id": "19da32d2",
   "metadata": {},
   "source": [
    "## Data Scaling & Splitting"
   ]
  },
  {
   "cell_type": "code",
   "execution_count": 6,
   "id": "c4db5b4b",
   "metadata": {},
   "outputs": [],
   "source": [
    "df_scl = df_inp.copy(deep=True)\n",
    "\n",
    "# Scale the data (min = 0, max = 1 for all columns)\n",
    "scaler = preprocessing.MinMaxScaler()\n",
    "\n",
    "# Scale using standard deviation\n",
    "#scaler = preprocessing.StandardScaler() \n",
    "\n",
    "# Scale the data (min = 0, max = 1 for all columns)\n",
    "scaler = preprocessing.MinMaxScaler((0, 1))\n",
    "\n",
    "# Scale the data (min = -1, max = 1 for all columns)\n",
    "#scaler = preprocessing.MinMaxScaler((-1, 1))\n",
    "\n",
    "df_scl = pd.DataFrame(scaler.fit_transform(df_scl), columns = df_scl.columns, index = df_scl.index)\n",
    "\n",
    "# Create percentile field for sratification\n",
    "df_scl['splits'] = pd.qcut(df_scl['out_oopDisp_mm_n2'], 100, labels=False)\n",
    "\n",
    "# Create train and test splits (10% test)\n",
    "# Test will be held back for final model(s) evaluation and comparison\n",
    "train, test = train_test_split(df_scl, test_size=0.10, stratify=df_scl['splits'], random_state=0) "
   ]
  },
  {
   "cell_type": "code",
   "execution_count": 7,
   "id": "6bc6543e",
   "metadata": {},
   "outputs": [
    {
     "data": {
      "image/png": "[encoded data removed]",
      "text/plain": [
       "<Figure size 432x288 with 1 Axes>"
      ]
     },
     "metadata": {
      "needs_background": "light"
     },
     "output_type": "display_data"
    },
    {
     "name": "stdout",
     "output_type": "stream",
     "text": [
      "\n",
      "Max (train) =  1.0\n",
      "Max (test) =  0.9\n"
     ]
    }
   ],
   "source": [
    "# Verify that stratification has been effective\n",
    "n_bins = 200\n",
    "param = ['out_oopDisp_mm_n2']\n",
    "fig, axs = plt.subplots(figsize = (6, 4))\n",
    "axs.hist(train[param].values, bins=n_bins, label = f'Train: {param}', color = 'black', alpha=0.8, zorder=1)\n",
    "axs.hist(test[param].values, bins=n_bins, label = f'Test: {param}', color = 'red', alpha=0.6, zorder=2)\n",
    "axs.legend(loc = 'upper right')\n",
    "plt.show()\n",
    "print('\\nMax (train) = ', round(train[param].values.max(), 1))\n",
    "print('Max (test) = ', round(test[param].values.max(), 1))"
   ]
  },
  {
   "cell_type": "code",
   "execution_count": 8,
   "id": "ecce915e",
   "metadata": {},
   "outputs": [],
   "source": [
    "# Create validation subset dataset of training (10% validation)\n",
    "# Validation will be used for initial hyperparameter and architecture tuning\n",
    "# Cross validation may also be used to give a more robust estimate of performance before final testing\n",
    "train, val = train_test_split(train, test_size=0.1, stratify=train['splits'], random_state=0) "
   ]
  },
  {
   "cell_type": "code",
   "execution_count": 9,
   "id": "78e13bf6",
   "metadata": {},
   "outputs": [
    {
     "data": {
      "image/png": "[encoded data removed]",
      "text/plain": [
       "<Figure size 432x288 with 1 Axes>"
      ]
     },
     "metadata": {
      "needs_background": "light"
     },
     "output_type": "display_data"
    },
    {
     "name": "stdout",
     "output_type": "stream",
     "text": [
      "\n",
      "Max (test) =  0.9\n",
      "Max (val) =  0.9\n"
     ]
    }
   ],
   "source": [
    "# Verify that stratification has been effective\n",
    "n_bins = 200\n",
    "param = ['out_oopDisp_mm_n2']\n",
    "fig, axs = plt.subplots(figsize = (6, 4))\n",
    "axs.hist(train[param].values, bins=n_bins, label = f'Train: {param}', color = 'black', alpha=0.8, zorder=1)\n",
    "axs.hist(val[param].values, bins=n_bins, label = f'Val: {param}', color = 'pink', alpha=0.7, zorder=3)\n",
    "axs.legend(loc = 'upper right')\n",
    "plt.show()\n",
    "print('\\nMax (test) = ', round(test[param].values.max(), 1))\n",
    "print('Max (val) = ', round(val[param].values.max(), 1))"
   ]
  },
  {
   "cell_type": "code",
   "execution_count": 10,
   "id": "41a49865",
   "metadata": {},
   "outputs": [],
   "source": [
    "# Drop the splits column\n",
    "train = train.drop(['splits'], axis=1)\n",
    "val = val.drop(['splits'], axis=1)\n",
    "test = test.drop(['splits'], axis=1)"
   ]
  },
  {
   "cell_type": "code",
   "execution_count": 11,
   "id": "560b2290",
   "metadata": {},
   "outputs": [],
   "source": [
    "pred_target = ['out_oopDisp_mm_n2', 'out_oopDisp_mm_n5', 'out_endBend_kNm_n6']\n",
    "pred_features = [\n",
    "    'slugDen',  # 0\n",
    "    'slugLen',  # 1\n",
    "    'pockDen',  # 2\n",
    "    'pockLen',  # 3\n",
    "    'slugVel',  # 4\n",
    "    'basePer',  # 5\n",
    "    'baseAmp',  # 6\n",
    "    'basePha',  # 7\n",
    "    'simTime',  # 8\n",
    "    'densDiff', # 9\n",
    "    'centrFor'  # 10\n",
    "]\n",
    "pred_features = pred_features[:]\n",
    "\n",
    "X_train = train.filter(pred_features)\n",
    "y_train = train.filter(pred_target)\n",
    "\n",
    "X_val = val.filter(pred_features)\n",
    "y_val = val.filter(pred_target)\n",
    "\n",
    "X_test = test.filter(pred_features)\n",
    "y_test = test.filter(pred_target)"
   ]
  },
  {
   "cell_type": "code",
   "execution_count": 22,
   "id": "bc459612",
   "metadata": {},
   "outputs": [],
   "source": [
    "# Write data to csv\n",
    "# Note: train and val can be combined later for cv and final model training.\n",
    "# Test is for final evaluation of model(s) following completion of hyperparameter tuning\n",
    "fo = 'data/'\n",
    "X_train.to_csv(f'{fo}{date.today().strftime(\"%y%m%d\")}_X_train.csv', index=True)\n",
    "y_train.to_csv(f'{fo}{date.today().strftime(\"%y%m%d\")}_y_train.csv', index=True)\n",
    "\n",
    "X_val.to_csv(f'{fo}{date.today().strftime(\"%y%m%d\")}_X_val.csv', index=True)\n",
    "y_val.to_csv(f'{fo}{date.today().strftime(\"%y%m%d\")}_y_val.csv', index=True)\n",
    "\n",
    "X_test.to_csv(f'{fo}{date.today().strftime(\"%y%m%d\")}_X_test.csv', index=True)\n",
    "y_test.to_csv(f'{fo}{date.today().strftime(\"%y%m%d\")}_y_test.csv', index=True)"
   ]
  },
  {
   "cell_type": "code",
   "execution_count": 23,
   "id": "3b46e2e5",
   "metadata": {},
   "outputs": [
    {
     "name": "stdout",
     "output_type": "stream",
     "text": [
      "No. of train rows: 40479\n",
      "No. of validation rows: 4498\n",
      "No. of test rows: 4998\n"
     ]
    }
   ],
   "source": [
    "print('No. of train rows:', len(X_train))\n",
    "print('No. of validation rows:', len(X_val)) \n",
    "print('No. of test rows:', len(X_test))"
   ]
  }
 ],
 "metadata": {
  "kernelspec": {
   "display_name": "Python 3 (ipykernel)",
   "language": "python",
   "name": "python3"
  },
  "language_info": {
   "codemirror_mode": {
    "name": "ipython",
    "version": 3
   },
   "file_extension": ".py",
   "mimetype": "text/x-python",
   "name": "python",
   "nbconvert_exporter": "python",
   "pygments_lexer": "ipython3",
   "version": "3.8.12"
  }
 },
 "nbformat": 4,
 "nbformat_minor": 5
}
