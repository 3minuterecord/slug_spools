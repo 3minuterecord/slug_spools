{
 "cells": [
  {
   "cell_type": "code",
   "execution_count": 19,
   "id": "d09de279",
   "metadata": {},
   "outputs": [],
   "source": [
    "import pandas as pd\n",
    "import matplotlib.pyplot as plt\n",
    "import numpy as np\n",
    "from datetime import date\n",
    "from tqdm.notebook import tqdm\n",
    "\n",
    "from sklearn import preprocessing\n",
    "from sklearn import datasets, linear_model, metrics\n",
    "from sklearn import datasets\n",
    "from sklearn import model_selection\n",
    "from sklearn import metrics\n",
    "from sklearn.model_selection import train_test_split "
   ]
  },
  {
   "cell_type": "code",
   "execution_count": 20,
   "id": "3cc3b24a",
   "metadata": {},
   "outputs": [],
   "source": [
    "# Load the data\n",
    "df_all = pd.read_csv('data/220306_slugs_dataset.csv')\n",
    "#df_all = pd.read_csv('/content/drive/MyDrive/_MScDA 2021/5. Data Mining 2/CA1/data/220306_slugs_dataset.csv')\n",
    "df_inp = df_all.drop(['loadCase', 'out_supReac_kN_n3', 'out_supReac_kN_n4', 'out_verDisp_mm_n5'], axis=1)\n",
    "df_inp = df_inp.dropna()"
   ]
  },
  {
   "cell_type": "code",
   "execution_count": 21,
   "id": "3cb3392c",
   "metadata": {},
   "outputs": [],
   "source": [
    "# Create some new features\n",
    "df_inp['densDiff'] = df_inp['slugDen'] - df_inp['pockDen']      # Density difference\n",
    "df_inp['centrFor'] = df_inp['slugVel']**2 * df_inp['densDiff']  # Proxy for centrifugal force"
   ]
  },
  {
   "cell_type": "markdown",
   "id": "19da32d2",
   "metadata": {},
   "source": [
    "## Data Scaling & Splitting"
   ]
  },
  {
   "cell_type": "code",
   "execution_count": 22,
   "id": "c4db5b4b",
   "metadata": {},
   "outputs": [],
   "source": [
    "df_scl = df_inp.copy(deep=True)\n",
    "\n",
    "# Scale the data (min = 0, max = 1 for all columns)\n",
    "#scaler = preprocessing.MinMaxScaler()\n",
    "\n",
    "# Scale using standard deviation\n",
    "scaler = preprocessing.StandardScaler() \n",
    "\n",
    "# Scale the data (min = 0, max = 1 for all columns)\n",
    "#scaler = preprocessing.MinMaxScaler((0, 1))\n",
    "\n",
    "# Scale the data (min = -1, max = 1 for all columns)\n",
    "#scaler = preprocessing.MinMaxScaler((-1, 1))\n",
    "\n",
    "df_scl = pd.DataFrame(scaler.fit_transform(df_scl), columns = df_scl.columns, index = df_scl.index)\n",
    "\n",
    "# Create percentile field for sratification\n",
    "df_scl['splits'] = pd.qcut(df_scl['out_oopDisp_mm_n2'], 100, labels=False)\n",
    "\n",
    "# Create train and test splits (10% test)\n",
    "# Test will be held back for final model(s) evaluation and comparison\n",
    "train, test = train_test_split(df_scl, test_size=0.10, stratify=df_scl['splits'], random_state=0) "
   ]
  },
  {
   "cell_type": "code",
   "execution_count": 23,
   "id": "6bc6543e",
   "metadata": {},
   "outputs": [
    {
     "data": {
      "image/png": "[encoded data removed]",
      "text/plain": [
       "<Figure size 432x288 with 1 Axes>"
      ]
     },
     "metadata": {
      "needs_background": "light"
     },
     "output_type": "display_data"
    },
    {
     "name": "stdout",
     "output_type": "stream",
     "text": [
      "\n",
      "Max (train) =  10.2\n",
      "Max (test) =  8.5\n"
     ]
    }
   ],
   "source": [
    "# Verify that stratification has been effective\n",
    "n_bins = 200\n",
    "param = ['out_oopDisp_mm_n2']\n",
    "fig, axs = plt.subplots(figsize = (6, 4))\n",
    "axs.hist(train[param].values, bins=n_bins, label = f'Train: {param}', color = 'black', alpha=0.8, zorder=1)\n",
    "axs.hist(test[param].values, bins=n_bins, label = f'Test: {param}', color = 'red', alpha=0.6, zorder=2)\n",
    "axs.legend(loc = 'upper right')\n",
    "plt.show()\n",
    "print('\\nMax (train) = ', round(train[param].values.max(), 1))\n",
    "print('Max (test) = ', round(test[param].values.max(), 1))"
   ]
  },
  {
   "cell_type": "code",
   "execution_count": 24,
   "id": "ecce915e",
   "metadata": {},
   "outputs": [],
   "source": [
    "# Create validation subset dataset of training (10% validation)\n",
    "# Validation will be used for initial hyperparameter and architecture tuning\n",
    "# Cross validation may also be used to give a more robust estimate of performance before final testing\n",
    "train, val = train_test_split(train, test_size=0.1, stratify=train['splits'], random_state=0) "
   ]
  },
  {
   "cell_type": "code",
   "execution_count": 25,
   "id": "78e13bf6",
   "metadata": {},
   "outputs": [
    {
     "data": {
      "image/png": "[encoded data removed]",
      "text/plain": [
       "<Figure size 432x288 with 1 Axes>"
      ]
     },
     "metadata": {
      "needs_background": "light"
     },
     "output_type": "display_data"
    },
    {
     "name": "stdout",
     "output_type": "stream",
     "text": [
      "\n",
      "Max (test) =  8.5\n",
      "Max (val) =  9.0\n"
     ]
    }
   ],
   "source": [
    "# Verify that stratification has been effective\n",
    "n_bins = 200\n",
    "param = ['out_oopDisp_mm_n2']\n",
    "fig, axs = plt.subplots(figsize = (6, 4))\n",
    "axs.hist(train[param].values, bins=n_bins, label = f'Train: {param}', color = 'black', alpha=0.8, zorder=1)\n",
    "axs.hist(val[param].values, bins=n_bins, label = f'Val: {param}', color = 'pink', alpha=0.7, zorder=3)\n",
    "axs.legend(loc = 'upper right')\n",
    "plt.show()\n",
    "print('\\nMax (test) = ', round(test[param].values.max(), 1))\n",
    "print('Max (val) = ', round(val[param].values.max(), 1))"
   ]
  },
  {
   "cell_type": "code",
   "execution_count": 26,
   "id": "41a49865",
   "metadata": {},
   "outputs": [],
   "source": [
    "# Drop the splits column\n",
    "train = train.drop(['splits'], axis=1)\n",
    "val = val.drop(['splits'], axis=1)\n",
    "test = test.drop(['splits'], axis=1)"
   ]
  },
  {
   "cell_type": "code",
   "execution_count": 27,
   "id": "560b2290",
   "metadata": {},
   "outputs": [],
   "source": [
    "pred_target = ['out_oopDisp_mm_n2', 'out_oopDisp_mm_n5', 'out_endBend_kNm_n6']\n",
    "pred_features = [\n",
    "    'slugDen',  # 0\n",
    "    'slugLen',  # 1\n",
    "    'pockDen',  # 2\n",
    "    'pockLen',  # 3\n",
    "    'slugVel',  # 4\n",
    "    'basePer',  # 5\n",
    "    'baseAmp',  # 6\n",
    "    'basePha',  # 7\n",
    "    'simTime',  # 8\n",
    "    'densDiff', # 9\n",
    "    'centrFor'  # 10\n",
    "]\n",
    "pred_features = pred_features[:]\n",
    "\n",
    "X_train = train.filter(pred_features)\n",
    "y_train = train.filter(pred_target)\n",
    "\n",
    "X_val = val.filter(pred_features)\n",
    "y_val = val.filter(pred_target)\n",
    "\n",
    "X_test = test.filter(pred_features)\n",
    "y_test = test.filter(pred_target)"
   ]
  },
  {
   "cell_type": "code",
   "execution_count": 28,
   "id": "91430679",
   "metadata": {},
   "outputs": [
    {
     "data": {
      "text/html": [
       "<div>\n",
       "<style scoped>\n",
       "    .dataframe tbody tr th:only-of-type {\n",
       "        vertical-align: middle;\n",
       "    }\n",
       "\n",
       "    .dataframe tbody tr th {\n",
       "        vertical-align: top;\n",
       "    }\n",
       "\n",
       "    .dataframe thead th {\n",
       "        text-align: right;\n",
       "    }\n",
       "</style>\n",
       "<table border=\"1\" class=\"dataframe\">\n",
       "  <thead>\n",
       "    <tr style=\"text-align: right;\">\n",
       "      <th></th>\n",
       "      <th>slugDen</th>\n",
       "      <th>slugLen</th>\n",
       "      <th>pockDen</th>\n",
       "      <th>pockLen</th>\n",
       "      <th>slugVel</th>\n",
       "      <th>basePer</th>\n",
       "      <th>baseAmp</th>\n",
       "      <th>basePha</th>\n",
       "      <th>simTime</th>\n",
       "      <th>densDiff</th>\n",
       "      <th>centrFor</th>\n",
       "    </tr>\n",
       "  </thead>\n",
       "  <tbody>\n",
       "    <tr>\n",
       "      <th>17383</th>\n",
       "      <td>-0.071671</td>\n",
       "      <td>1.181308</td>\n",
       "      <td>1.001272</td>\n",
       "      <td>0.880464</td>\n",
       "      <td>0.631148</td>\n",
       "      <td>-0.189570</td>\n",
       "      <td>0.001677</td>\n",
       "      <td>1.206268</td>\n",
       "      <td>-0.176877</td>\n",
       "      <td>-0.614695</td>\n",
       "      <td>0.262299</td>\n",
       "    </tr>\n",
       "    <tr>\n",
       "      <th>16889</th>\n",
       "      <td>-0.327364</td>\n",
       "      <td>-0.704159</td>\n",
       "      <td>0.315490</td>\n",
       "      <td>-0.460427</td>\n",
       "      <td>-2.106824</td>\n",
       "      <td>-0.659019</td>\n",
       "      <td>-0.596952</td>\n",
       "      <td>-0.705865</td>\n",
       "      <td>1.988624</td>\n",
       "      <td>-0.447948</td>\n",
       "      <td>-1.575217</td>\n",
       "    </tr>\n",
       "    <tr>\n",
       "      <th>48033</th>\n",
       "      <td>0.316121</td>\n",
       "      <td>-0.809745</td>\n",
       "      <td>1.072490</td>\n",
       "      <td>-0.050154</td>\n",
       "      <td>-1.885777</td>\n",
       "      <td>-1.318244</td>\n",
       "      <td>1.099163</td>\n",
       "      <td>1.881550</td>\n",
       "      <td>1.618125</td>\n",
       "      <td>-0.330649</td>\n",
       "      <td>-1.470461</td>\n",
       "    </tr>\n",
       "    <tr>\n",
       "      <th>39158</th>\n",
       "      <td>0.640920</td>\n",
       "      <td>1.322089</td>\n",
       "      <td>0.745604</td>\n",
       "      <td>-1.275969</td>\n",
       "      <td>0.234267</td>\n",
       "      <td>-0.109664</td>\n",
       "      <td>-1.195581</td>\n",
       "      <td>-2.049446</td>\n",
       "      <td>-0.317411</td>\n",
       "      <td>0.121475</td>\n",
       "      <td>0.148337</td>\n",
       "    </tr>\n",
       "    <tr>\n",
       "      <th>6552</th>\n",
       "      <td>0.446227</td>\n",
       "      <td>-2.343258</td>\n",
       "      <td>-2.194173</td>\n",
       "      <td>1.300744</td>\n",
       "      <td>-1.051826</td>\n",
       "      <td>-0.309430</td>\n",
       "      <td>2.396193</td>\n",
       "      <td>-0.298901</td>\n",
       "      <td>0.391646</td>\n",
       "      <td>1.588272</td>\n",
       "      <td>-0.693588</td>\n",
       "    </tr>\n",
       "    <tr>\n",
       "      <th>...</th>\n",
       "      <td>...</td>\n",
       "      <td>...</td>\n",
       "      <td>...</td>\n",
       "      <td>...</td>\n",
       "      <td>...</td>\n",
       "      <td>...</td>\n",
       "      <td>...</td>\n",
       "      <td>...</td>\n",
       "      <td>...</td>\n",
       "      <td>...</td>\n",
       "      <td>...</td>\n",
       "    </tr>\n",
       "    <tr>\n",
       "      <th>2462</th>\n",
       "      <td>3.219113</td>\n",
       "      <td>0.577958</td>\n",
       "      <td>1.006273</td>\n",
       "      <td>1.290737</td>\n",
       "      <td>-2.222372</td>\n",
       "      <td>-1.218361</td>\n",
       "      <td>0.201220</td>\n",
       "      <td>0.428248</td>\n",
       "      <td>3.579213</td>\n",
       "      <td>2.127871</td>\n",
       "      <td>-1.465013</td>\n",
       "    </tr>\n",
       "    <tr>\n",
       "      <th>15010</th>\n",
       "      <td>-0.803798</td>\n",
       "      <td>0.316507</td>\n",
       "      <td>-1.140294</td>\n",
       "      <td>0.190005</td>\n",
       "      <td>-0.293232</td>\n",
       "      <td>0.709373</td>\n",
       "      <td>1.198935</td>\n",
       "      <td>-1.137766</td>\n",
       "      <td>0.097803</td>\n",
       "      <td>-0.038620</td>\n",
       "      <td>-0.384670</td>\n",
       "    </tr>\n",
       "    <tr>\n",
       "      <th>29597</th>\n",
       "      <td>0.655672</td>\n",
       "      <td>0.014832</td>\n",
       "      <td>0.527346</td>\n",
       "      <td>0.305082</td>\n",
       "      <td>-1.061874</td>\n",
       "      <td>-0.309430</td>\n",
       "      <td>0.999392</td>\n",
       "      <td>-1.346236</td>\n",
       "      <td>0.749369</td>\n",
       "      <td>0.254740</td>\n",
       "      <td>-0.920720</td>\n",
       "    </tr>\n",
       "    <tr>\n",
       "      <th>28460</th>\n",
       "      <td>0.498189</td>\n",
       "      <td>1.412591</td>\n",
       "      <td>1.963926</td>\n",
       "      <td>0.895474</td>\n",
       "      <td>0.334743</td>\n",
       "      <td>-0.029758</td>\n",
       "      <td>0.600306</td>\n",
       "      <td>-0.043551</td>\n",
       "      <td>0.027536</td>\n",
       "      <td>-0.672790</td>\n",
       "      <td>-0.033054</td>\n",
       "    </tr>\n",
       "    <tr>\n",
       "      <th>42557</th>\n",
       "      <td>-1.123149</td>\n",
       "      <td>-1.548848</td>\n",
       "      <td>-0.229054</td>\n",
       "      <td>-1.220932</td>\n",
       "      <td>-2.543895</td>\n",
       "      <td>1.957905</td>\n",
       "      <td>-1.395124</td>\n",
       "      <td>-0.101404</td>\n",
       "      <td>2.506044</td>\n",
       "      <td>-0.810046</td>\n",
       "      <td>-1.746792</td>\n",
       "    </tr>\n",
       "  </tbody>\n",
       "</table>\n",
       "<p>4998 rows × 11 columns</p>\n",
       "</div>"
      ],
      "text/plain": [
       "        slugDen   slugLen   pockDen   pockLen   slugVel   basePer   baseAmp  \\\n",
       "17383 -0.071671  1.181308  1.001272  0.880464  0.631148 -0.189570  0.001677   \n",
       "16889 -0.327364 -0.704159  0.315490 -0.460427 -2.106824 -0.659019 -0.596952   \n",
       "48033  0.316121 -0.809745  1.072490 -0.050154 -1.885777 -1.318244  1.099163   \n",
       "39158  0.640920  1.322089  0.745604 -1.275969  0.234267 -0.109664 -1.195581   \n",
       "6552   0.446227 -2.343258 -2.194173  1.300744 -1.051826 -0.309430  2.396193   \n",
       "...         ...       ...       ...       ...       ...       ...       ...   \n",
       "2462   3.219113  0.577958  1.006273  1.290737 -2.222372 -1.218361  0.201220   \n",
       "15010 -0.803798  0.316507 -1.140294  0.190005 -0.293232  0.709373  1.198935   \n",
       "29597  0.655672  0.014832  0.527346  0.305082 -1.061874 -0.309430  0.999392   \n",
       "28460  0.498189  1.412591  1.963926  0.895474  0.334743 -0.029758  0.600306   \n",
       "42557 -1.123149 -1.548848 -0.229054 -1.220932 -2.543895  1.957905 -1.395124   \n",
       "\n",
       "        basePha   simTime  densDiff  centrFor  \n",
       "17383  1.206268 -0.176877 -0.614695  0.262299  \n",
       "16889 -0.705865  1.988624 -0.447948 -1.575217  \n",
       "48033  1.881550  1.618125 -0.330649 -1.470461  \n",
       "39158 -2.049446 -0.317411  0.121475  0.148337  \n",
       "6552  -0.298901  0.391646  1.588272 -0.693588  \n",
       "...         ...       ...       ...       ...  \n",
       "2462   0.428248  3.579213  2.127871 -1.465013  \n",
       "15010 -1.137766  0.097803 -0.038620 -0.384670  \n",
       "29597 -1.346236  0.749369  0.254740 -0.920720  \n",
       "28460 -0.043551  0.027536 -0.672790 -0.033054  \n",
       "42557 -0.101404  2.506044 -0.810046 -1.746792  \n",
       "\n",
       "[4998 rows x 11 columns]"
      ]
     },
     "execution_count": 28,
     "metadata": {},
     "output_type": "execute_result"
    }
   ],
   "source": [
    "X_test"
   ]
  },
  {
   "cell_type": "code",
   "execution_count": 29,
   "id": "bc459612",
   "metadata": {},
   "outputs": [],
   "source": [
    "# Write data to csv\n",
    "# Note: train and val can be combined later for cv and final model training.\n",
    "# Test is for final evaluation of model(s) following completion of hyperparameter tuning\n",
    "fo = 'data/'\n",
    "X_train.to_csv(f'{fo}{date.today().strftime(\"%y%m%d\")}_X_train.csv', index=True, index_label='case_ref')\n",
    "y_train.to_csv(f'{fo}{date.today().strftime(\"%y%m%d\")}_y_train.csv', index=True, index_label='case_ref')\n",
    "\n",
    "X_val.to_csv(f'{fo}{date.today().strftime(\"%y%m%d\")}_X_val.csv', index=True, index_label='case_ref')\n",
    "y_val.to_csv(f'{fo}{date.today().strftime(\"%y%m%d\")}_y_val.csv', index=True, index_label='case_ref')\n",
    "\n",
    "X_test.to_csv(f'{fo}{date.today().strftime(\"%y%m%d\")}_X_test.csv', index=True, index_label='case_ref')\n",
    "y_test.to_csv(f'{fo}{date.today().strftime(\"%y%m%d\")}_y_test.csv', index=True, index_label='case_ref')"
   ]
  },
  {
   "cell_type": "code",
   "execution_count": 30,
   "id": "3b46e2e5",
   "metadata": {},
   "outputs": [
    {
     "name": "stdout",
     "output_type": "stream",
     "text": [
      "No. of train rows: 40479\n",
      "No. of validation rows: 4498\n",
      "No. of test rows: 4998\n"
     ]
    }
   ],
   "source": [
    "print('No. of train rows:', len(X_train))\n",
    "print('No. of validation rows:', len(X_val)) \n",
    "print('No. of test rows:', len(X_test))"
   ]
  },
  {
   "cell_type": "code",
   "execution_count": null,
   "id": "e0439abd",
   "metadata": {},
   "outputs": [],
   "source": []
  }
 ],
 "metadata": {
  "kernelspec": {
   "display_name": "Python 3 (ipykernel)",
   "language": "python",
   "name": "python3"
  },
  "language_info": {
   "codemirror_mode": {
    "name": "ipython",
    "version": 3
   },
   "file_extension": ".py",
   "mimetype": "text/x-python",
   "name": "python",
   "nbconvert_exporter": "python",
   "pygments_lexer": "ipython3",
   "version": "3.8.12"
  }
 },
 "nbformat": 4,
 "nbformat_minor": 5
}
